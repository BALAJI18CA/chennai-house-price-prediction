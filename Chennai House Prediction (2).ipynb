{
 "cells": [
  {
   "cell_type": "code",
   "execution_count": 1,
   "id": "c71b26a9",
   "metadata": {},
   "outputs": [],
   "source": [
    "import pandas as pd \n",
    "import numpy as np\n",
    "import seaborn as sns\n",
    "import matplotlib.pyplot as plt\n",
    "%matplotlib inline\n",
    "import warnings\n",
    "warnings.filterwarnings(\"ignore\")\n",
    "\n",
    "\n"
   ]
  },
  {
   "cell_type": "code",
   "execution_count": 2,
   "id": "948e9e11",
   "metadata": {},
   "outputs": [],
   "source": [
    "df=pd.read_csv(r'D:\\chennai house price\\train-chennai-sale.csv')"
   ]
  },
  {
   "cell_type": "code",
   "execution_count": 3,
   "id": "1e6b1d09",
   "metadata": {},
   "outputs": [
    {
     "data": {
      "text/html": [
       "<div>\n",
       "<style scoped>\n",
       "    .dataframe tbody tr th:only-of-type {\n",
       "        vertical-align: middle;\n",
       "    }\n",
       "\n",
       "    .dataframe tbody tr th {\n",
       "        vertical-align: top;\n",
       "    }\n",
       "\n",
       "    .dataframe thead th {\n",
       "        text-align: right;\n",
       "    }\n",
       "</style>\n",
       "<table border=\"1\" class=\"dataframe\">\n",
       "  <thead>\n",
       "    <tr style=\"text-align: right;\">\n",
       "      <th></th>\n",
       "      <th>PRT_ID</th>\n",
       "      <th>AREA</th>\n",
       "      <th>INT_SQFT</th>\n",
       "      <th>DATE_SALE</th>\n",
       "      <th>DIST_MAINROAD</th>\n",
       "      <th>N_BEDROOM</th>\n",
       "      <th>N_BATHROOM</th>\n",
       "      <th>N_ROOM</th>\n",
       "      <th>SALE_COND</th>\n",
       "      <th>PARK_FACIL</th>\n",
       "      <th>...</th>\n",
       "      <th>UTILITY_AVAIL</th>\n",
       "      <th>STREET</th>\n",
       "      <th>MZZONE</th>\n",
       "      <th>QS_ROOMS</th>\n",
       "      <th>QS_BATHROOM</th>\n",
       "      <th>QS_BEDROOM</th>\n",
       "      <th>QS_OVERALL</th>\n",
       "      <th>REG_FEE</th>\n",
       "      <th>COMMIS</th>\n",
       "      <th>SALES_PRICE</th>\n",
       "    </tr>\n",
       "  </thead>\n",
       "  <tbody>\n",
       "    <tr>\n",
       "      <th>0</th>\n",
       "      <td>P03210</td>\n",
       "      <td>Karapakkam</td>\n",
       "      <td>1004</td>\n",
       "      <td>04-05-2011</td>\n",
       "      <td>131</td>\n",
       "      <td>1.0</td>\n",
       "      <td>1.0</td>\n",
       "      <td>3</td>\n",
       "      <td>AbNormal</td>\n",
       "      <td>Yes</td>\n",
       "      <td>...</td>\n",
       "      <td>AllPub</td>\n",
       "      <td>Paved</td>\n",
       "      <td>A</td>\n",
       "      <td>4.0</td>\n",
       "      <td>3.9</td>\n",
       "      <td>4.9</td>\n",
       "      <td>4.330</td>\n",
       "      <td>380000</td>\n",
       "      <td>144400</td>\n",
       "      <td>7600000</td>\n",
       "    </tr>\n",
       "    <tr>\n",
       "      <th>1</th>\n",
       "      <td>P09411</td>\n",
       "      <td>Anna Nagar</td>\n",
       "      <td>1986</td>\n",
       "      <td>19-12-2006</td>\n",
       "      <td>26</td>\n",
       "      <td>2.0</td>\n",
       "      <td>1.0</td>\n",
       "      <td>5</td>\n",
       "      <td>AbNormal</td>\n",
       "      <td>No</td>\n",
       "      <td>...</td>\n",
       "      <td>AllPub</td>\n",
       "      <td>Gravel</td>\n",
       "      <td>RH</td>\n",
       "      <td>4.9</td>\n",
       "      <td>4.2</td>\n",
       "      <td>2.5</td>\n",
       "      <td>3.765</td>\n",
       "      <td>760122</td>\n",
       "      <td>304049</td>\n",
       "      <td>21717770</td>\n",
       "    </tr>\n",
       "    <tr>\n",
       "      <th>2</th>\n",
       "      <td>P01812</td>\n",
       "      <td>Adyar</td>\n",
       "      <td>909</td>\n",
       "      <td>04-02-2012</td>\n",
       "      <td>70</td>\n",
       "      <td>1.0</td>\n",
       "      <td>1.0</td>\n",
       "      <td>3</td>\n",
       "      <td>AbNormal</td>\n",
       "      <td>Yes</td>\n",
       "      <td>...</td>\n",
       "      <td>ELO</td>\n",
       "      <td>Gravel</td>\n",
       "      <td>RL</td>\n",
       "      <td>4.1</td>\n",
       "      <td>3.8</td>\n",
       "      <td>2.2</td>\n",
       "      <td>3.090</td>\n",
       "      <td>421094</td>\n",
       "      <td>92114</td>\n",
       "      <td>13159200</td>\n",
       "    </tr>\n",
       "    <tr>\n",
       "      <th>3</th>\n",
       "      <td>P05346</td>\n",
       "      <td>Velachery</td>\n",
       "      <td>1855</td>\n",
       "      <td>13-03-2010</td>\n",
       "      <td>14</td>\n",
       "      <td>3.0</td>\n",
       "      <td>2.0</td>\n",
       "      <td>5</td>\n",
       "      <td>Family</td>\n",
       "      <td>No</td>\n",
       "      <td>...</td>\n",
       "      <td>NoSewr</td>\n",
       "      <td>Paved</td>\n",
       "      <td>I</td>\n",
       "      <td>4.7</td>\n",
       "      <td>3.9</td>\n",
       "      <td>3.6</td>\n",
       "      <td>4.010</td>\n",
       "      <td>356321</td>\n",
       "      <td>77042</td>\n",
       "      <td>9630290</td>\n",
       "    </tr>\n",
       "    <tr>\n",
       "      <th>4</th>\n",
       "      <td>P06210</td>\n",
       "      <td>Karapakkam</td>\n",
       "      <td>1226</td>\n",
       "      <td>05-10-2009</td>\n",
       "      <td>84</td>\n",
       "      <td>1.0</td>\n",
       "      <td>1.0</td>\n",
       "      <td>3</td>\n",
       "      <td>AbNormal</td>\n",
       "      <td>Yes</td>\n",
       "      <td>...</td>\n",
       "      <td>AllPub</td>\n",
       "      <td>Gravel</td>\n",
       "      <td>C</td>\n",
       "      <td>3.0</td>\n",
       "      <td>2.5</td>\n",
       "      <td>4.1</td>\n",
       "      <td>3.290</td>\n",
       "      <td>237000</td>\n",
       "      <td>74063</td>\n",
       "      <td>7406250</td>\n",
       "    </tr>\n",
       "  </tbody>\n",
       "</table>\n",
       "<p>5 rows × 22 columns</p>\n",
       "</div>"
      ],
      "text/plain": [
       "   PRT_ID        AREA  INT_SQFT   DATE_SALE  DIST_MAINROAD  N_BEDROOM  \\\n",
       "0  P03210  Karapakkam      1004  04-05-2011            131        1.0   \n",
       "1  P09411  Anna Nagar      1986  19-12-2006             26        2.0   \n",
       "2  P01812       Adyar       909  04-02-2012             70        1.0   \n",
       "3  P05346   Velachery      1855  13-03-2010             14        3.0   \n",
       "4  P06210  Karapakkam      1226  05-10-2009             84        1.0   \n",
       "\n",
       "   N_BATHROOM  N_ROOM SALE_COND PARK_FACIL  ... UTILITY_AVAIL  STREET MZZONE  \\\n",
       "0         1.0       3  AbNormal        Yes  ...        AllPub   Paved      A   \n",
       "1         1.0       5  AbNormal         No  ...        AllPub  Gravel     RH   \n",
       "2         1.0       3  AbNormal        Yes  ...           ELO  Gravel     RL   \n",
       "3         2.0       5    Family         No  ...       NoSewr    Paved      I   \n",
       "4         1.0       3  AbNormal        Yes  ...        AllPub  Gravel      C   \n",
       "\n",
       "  QS_ROOMS QS_BATHROOM  QS_BEDROOM  QS_OVERALL  REG_FEE  COMMIS  SALES_PRICE  \n",
       "0      4.0         3.9         4.9       4.330   380000  144400      7600000  \n",
       "1      4.9         4.2         2.5       3.765   760122  304049     21717770  \n",
       "2      4.1         3.8         2.2       3.090   421094   92114     13159200  \n",
       "3      4.7         3.9         3.6       4.010   356321   77042      9630290  \n",
       "4      3.0         2.5         4.1       3.290   237000   74063      7406250  \n",
       "\n",
       "[5 rows x 22 columns]"
      ]
     },
     "execution_count": 3,
     "metadata": {},
     "output_type": "execute_result"
    }
   ],
   "source": [
    "df.head()"
   ]
  },
  {
   "cell_type": "code",
   "execution_count": 4,
   "id": "4cfe4204",
   "metadata": {},
   "outputs": [
    {
     "name": "stdout",
     "output_type": "stream",
     "text": [
      "<class 'pandas.core.frame.DataFrame'>\n",
      "RangeIndex: 7109 entries, 0 to 7108\n",
      "Data columns (total 22 columns):\n",
      " #   Column         Non-Null Count  Dtype  \n",
      "---  ------         --------------  -----  \n",
      " 0   PRT_ID         7109 non-null   object \n",
      " 1   AREA           7109 non-null   object \n",
      " 2   INT_SQFT       7109 non-null   int64  \n",
      " 3   DATE_SALE      7109 non-null   object \n",
      " 4   DIST_MAINROAD  7109 non-null   int64  \n",
      " 5   N_BEDROOM      7108 non-null   float64\n",
      " 6   N_BATHROOM     7104 non-null   float64\n",
      " 7   N_ROOM         7109 non-null   int64  \n",
      " 8   SALE_COND      7109 non-null   object \n",
      " 9   PARK_FACIL     7109 non-null   object \n",
      " 10  DATE_BUILD     7109 non-null   object \n",
      " 11  BUILDTYPE      7109 non-null   object \n",
      " 12  UTILITY_AVAIL  7109 non-null   object \n",
      " 13  STREET         7109 non-null   object \n",
      " 14  MZZONE         7109 non-null   object \n",
      " 15  QS_ROOMS       7109 non-null   float64\n",
      " 16  QS_BATHROOM    7109 non-null   float64\n",
      " 17  QS_BEDROOM     7109 non-null   float64\n",
      " 18  QS_OVERALL     7061 non-null   float64\n",
      " 19  REG_FEE        7109 non-null   int64  \n",
      " 20  COMMIS         7109 non-null   int64  \n",
      " 21  SALES_PRICE    7109 non-null   int64  \n",
      "dtypes: float64(6), int64(6), object(10)\n",
      "memory usage: 1.2+ MB\n"
     ]
    }
   ],
   "source": [
    "df.info()"
   ]
  },
  {
   "cell_type": "code",
   "execution_count": 5,
   "id": "8cfa0a14",
   "metadata": {},
   "outputs": [
    {
     "data": {
      "text/plain": [
       "(7109, 22)"
      ]
     },
     "execution_count": 5,
     "metadata": {},
     "output_type": "execute_result"
    }
   ],
   "source": [
    "df.shape"
   ]
  },
  {
   "cell_type": "code",
   "execution_count": 6,
   "id": "444dc72f",
   "metadata": {},
   "outputs": [
    {
     "data": {
      "text/plain": [
       "PRT_ID            0\n",
       "AREA              0\n",
       "INT_SQFT          0\n",
       "DATE_SALE         0\n",
       "DIST_MAINROAD     0\n",
       "N_BEDROOM         1\n",
       "N_BATHROOM        5\n",
       "N_ROOM            0\n",
       "SALE_COND         0\n",
       "PARK_FACIL        0\n",
       "DATE_BUILD        0\n",
       "BUILDTYPE         0\n",
       "UTILITY_AVAIL     0\n",
       "STREET            0\n",
       "MZZONE            0\n",
       "QS_ROOMS          0\n",
       "QS_BATHROOM       0\n",
       "QS_BEDROOM        0\n",
       "QS_OVERALL       48\n",
       "REG_FEE           0\n",
       "COMMIS            0\n",
       "SALES_PRICE       0\n",
       "dtype: int64"
      ]
     },
     "execution_count": 6,
     "metadata": {},
     "output_type": "execute_result"
    }
   ],
   "source": [
    "df.isnull().sum()"
   ]
  },
  {
   "cell_type": "code",
   "execution_count": 7,
   "id": "dcd2d2c2",
   "metadata": {},
   "outputs": [
    {
     "data": {
      "text/html": [
       "<div>\n",
       "<style scoped>\n",
       "    .dataframe tbody tr th:only-of-type {\n",
       "        vertical-align: middle;\n",
       "    }\n",
       "\n",
       "    .dataframe tbody tr th {\n",
       "        vertical-align: top;\n",
       "    }\n",
       "\n",
       "    .dataframe thead th {\n",
       "        text-align: right;\n",
       "    }\n",
       "</style>\n",
       "<table border=\"1\" class=\"dataframe\">\n",
       "  <thead>\n",
       "    <tr style=\"text-align: right;\">\n",
       "      <th></th>\n",
       "      <th>PRT_ID</th>\n",
       "      <th>AREA</th>\n",
       "      <th>INT_SQFT</th>\n",
       "      <th>DATE_SALE</th>\n",
       "      <th>DIST_MAINROAD</th>\n",
       "      <th>N_BEDROOM</th>\n",
       "      <th>N_BATHROOM</th>\n",
       "      <th>N_ROOM</th>\n",
       "      <th>SALE_COND</th>\n",
       "      <th>PARK_FACIL</th>\n",
       "      <th>...</th>\n",
       "      <th>UTILITY_AVAIL</th>\n",
       "      <th>STREET</th>\n",
       "      <th>MZZONE</th>\n",
       "      <th>QS_ROOMS</th>\n",
       "      <th>QS_BATHROOM</th>\n",
       "      <th>QS_BEDROOM</th>\n",
       "      <th>QS_OVERALL</th>\n",
       "      <th>REG_FEE</th>\n",
       "      <th>COMMIS</th>\n",
       "      <th>SALES_PRICE</th>\n",
       "    </tr>\n",
       "  </thead>\n",
       "  <tbody>\n",
       "    <tr>\n",
       "      <th>15</th>\n",
       "      <td>P06328</td>\n",
       "      <td>Velachery</td>\n",
       "      <td>1868</td>\n",
       "      <td>12-09-2009</td>\n",
       "      <td>148</td>\n",
       "      <td>3.0</td>\n",
       "      <td>2.0</td>\n",
       "      <td>5</td>\n",
       "      <td>Family</td>\n",
       "      <td>No</td>\n",
       "      <td>...</td>\n",
       "      <td>NoSewr</td>\n",
       "      <td>Gravel</td>\n",
       "      <td>RH</td>\n",
       "      <td>3.8</td>\n",
       "      <td>3.8</td>\n",
       "      <td>3.1</td>\n",
       "      <td>NaN</td>\n",
       "      <td>597135</td>\n",
       "      <td>188569</td>\n",
       "      <td>15714080</td>\n",
       "    </tr>\n",
       "    <tr>\n",
       "      <th>46</th>\n",
       "      <td>P09483</td>\n",
       "      <td>T Nagar</td>\n",
       "      <td>1882</td>\n",
       "      <td>18-11-2006</td>\n",
       "      <td>189</td>\n",
       "      <td>2.0</td>\n",
       "      <td>1.0</td>\n",
       "      <td>5</td>\n",
       "      <td>AbNormal</td>\n",
       "      <td>Yes</td>\n",
       "      <td>...</td>\n",
       "      <td>ELO</td>\n",
       "      <td>Gravel</td>\n",
       "      <td>RM</td>\n",
       "      <td>3.9</td>\n",
       "      <td>4.5</td>\n",
       "      <td>4.7</td>\n",
       "      <td>NaN</td>\n",
       "      <td>433393</td>\n",
       "      <td>272877</td>\n",
       "      <td>16051580</td>\n",
       "    </tr>\n",
       "    <tr>\n",
       "      <th>70</th>\n",
       "      <td>P05304</td>\n",
       "      <td>Anna Nagar</td>\n",
       "      <td>1589</td>\n",
       "      <td>22-03-2010</td>\n",
       "      <td>39</td>\n",
       "      <td>1.0</td>\n",
       "      <td>NaN</td>\n",
       "      <td>4</td>\n",
       "      <td>Partial</td>\n",
       "      <td>No</td>\n",
       "      <td>...</td>\n",
       "      <td>AllPub</td>\n",
       "      <td>Gravel</td>\n",
       "      <td>RL</td>\n",
       "      <td>2.1</td>\n",
       "      <td>2.5</td>\n",
       "      <td>4.5</td>\n",
       "      <td>3.160</td>\n",
       "      <td>451857</td>\n",
       "      <td>85486</td>\n",
       "      <td>12212350</td>\n",
       "    </tr>\n",
       "    <tr>\n",
       "      <th>86</th>\n",
       "      <td>P00545</td>\n",
       "      <td>Chrompet</td>\n",
       "      <td>1085</td>\n",
       "      <td>19-01-2014</td>\n",
       "      <td>149</td>\n",
       "      <td>1.0</td>\n",
       "      <td>1.0</td>\n",
       "      <td>3</td>\n",
       "      <td>AbNormal</td>\n",
       "      <td>Yes</td>\n",
       "      <td>...</td>\n",
       "      <td>NoSewr</td>\n",
       "      <td>Gravel</td>\n",
       "      <td>RL</td>\n",
       "      <td>2.8</td>\n",
       "      <td>3.8</td>\n",
       "      <td>4.6</td>\n",
       "      <td>NaN</td>\n",
       "      <td>387815</td>\n",
       "      <td>100545</td>\n",
       "      <td>14363500</td>\n",
       "    </tr>\n",
       "    <tr>\n",
       "      <th>111</th>\n",
       "      <td>P06768</td>\n",
       "      <td>Adyar</td>\n",
       "      <td>1034</td>\n",
       "      <td>30-05-2009</td>\n",
       "      <td>73</td>\n",
       "      <td>1.0</td>\n",
       "      <td>1.0</td>\n",
       "      <td>3</td>\n",
       "      <td>AdjLand</td>\n",
       "      <td>Yes</td>\n",
       "      <td>...</td>\n",
       "      <td>ELO</td>\n",
       "      <td>Gravel</td>\n",
       "      <td>C</td>\n",
       "      <td>3.8</td>\n",
       "      <td>3.3</td>\n",
       "      <td>3.5</td>\n",
       "      <td>NaN</td>\n",
       "      <td>277702</td>\n",
       "      <td>46284</td>\n",
       "      <td>9256740</td>\n",
       "    </tr>\n",
       "    <tr>\n",
       "      <th>134</th>\n",
       "      <td>P00089</td>\n",
       "      <td>T Nagar</td>\n",
       "      <td>1942</td>\n",
       "      <td>20-12-2014</td>\n",
       "      <td>10</td>\n",
       "      <td>2.0</td>\n",
       "      <td>1.0</td>\n",
       "      <td>5</td>\n",
       "      <td>Family</td>\n",
       "      <td>No</td>\n",
       "      <td>...</td>\n",
       "      <td>NoSeWa</td>\n",
       "      <td>Gravel</td>\n",
       "      <td>RH</td>\n",
       "      <td>4.6</td>\n",
       "      <td>3.1</td>\n",
       "      <td>2.9</td>\n",
       "      <td>NaN</td>\n",
       "      <td>320599</td>\n",
       "      <td>61654</td>\n",
       "      <td>12330740</td>\n",
       "    </tr>\n",
       "    <tr>\n",
       "      <th>143</th>\n",
       "      <td>P06226</td>\n",
       "      <td>Karapakkam</td>\n",
       "      <td>1430</td>\n",
       "      <td>02-10-2009</td>\n",
       "      <td>17</td>\n",
       "      <td>2.0</td>\n",
       "      <td>2.0</td>\n",
       "      <td>4</td>\n",
       "      <td>AbNormal</td>\n",
       "      <td>Yes</td>\n",
       "      <td>...</td>\n",
       "      <td>NoSewr</td>\n",
       "      <td>No Access</td>\n",
       "      <td>A</td>\n",
       "      <td>4.3</td>\n",
       "      <td>3.2</td>\n",
       "      <td>3.8</td>\n",
       "      <td>NaN</td>\n",
       "      <td>238887</td>\n",
       "      <td>106172</td>\n",
       "      <td>6635750</td>\n",
       "    </tr>\n",
       "    <tr>\n",
       "      <th>161</th>\n",
       "      <td>P06964</td>\n",
       "      <td>Velachery</td>\n",
       "      <td>1824</td>\n",
       "      <td>03-04-2009</td>\n",
       "      <td>187</td>\n",
       "      <td>3.0</td>\n",
       "      <td>2.0</td>\n",
       "      <td>5</td>\n",
       "      <td>Normal Sale</td>\n",
       "      <td>No</td>\n",
       "      <td>...</td>\n",
       "      <td>NoSewr</td>\n",
       "      <td>Paved</td>\n",
       "      <td>I</td>\n",
       "      <td>3.9</td>\n",
       "      <td>2.3</td>\n",
       "      <td>4.1</td>\n",
       "      <td>NaN</td>\n",
       "      <td>273570</td>\n",
       "      <td>76942</td>\n",
       "      <td>8549060</td>\n",
       "    </tr>\n",
       "    <tr>\n",
       "      <th>186</th>\n",
       "      <td>P08752</td>\n",
       "      <td>Adyar</td>\n",
       "      <td>738</td>\n",
       "      <td>02-09-2007</td>\n",
       "      <td>69</td>\n",
       "      <td>1.0</td>\n",
       "      <td>1.0</td>\n",
       "      <td>2</td>\n",
       "      <td>Partial</td>\n",
       "      <td>No</td>\n",
       "      <td>...</td>\n",
       "      <td>NoSewr</td>\n",
       "      <td>No Access</td>\n",
       "      <td>I</td>\n",
       "      <td>2.4</td>\n",
       "      <td>4.7</td>\n",
       "      <td>5.0</td>\n",
       "      <td>NaN</td>\n",
       "      <td>324194</td>\n",
       "      <td>8313</td>\n",
       "      <td>8312670</td>\n",
       "    </tr>\n",
       "    <tr>\n",
       "      <th>208</th>\n",
       "      <td>P03292</td>\n",
       "      <td>Karapakkam</td>\n",
       "      <td>1578</td>\n",
       "      <td>18-04-2011</td>\n",
       "      <td>153</td>\n",
       "      <td>2.0</td>\n",
       "      <td>2.0</td>\n",
       "      <td>4</td>\n",
       "      <td>Normal Sale</td>\n",
       "      <td>Yes</td>\n",
       "      <td>...</td>\n",
       "      <td>AllPub</td>\n",
       "      <td>Gravel</td>\n",
       "      <td>I</td>\n",
       "      <td>4.3</td>\n",
       "      <td>4.6</td>\n",
       "      <td>3.4</td>\n",
       "      <td>NaN</td>\n",
       "      <td>295508</td>\n",
       "      <td>238313</td>\n",
       "      <td>9532500</td>\n",
       "    </tr>\n",
       "    <tr>\n",
       "      <th>248</th>\n",
       "      <td>P04891</td>\n",
       "      <td>Velachery</td>\n",
       "      <td>1776</td>\n",
       "      <td>09-06-2010</td>\n",
       "      <td>120</td>\n",
       "      <td>2.0</td>\n",
       "      <td>1.0</td>\n",
       "      <td>4</td>\n",
       "      <td>Normal Sale</td>\n",
       "      <td>Yes</td>\n",
       "      <td>...</td>\n",
       "      <td>NoSeWa</td>\n",
       "      <td>Paved</td>\n",
       "      <td>RH</td>\n",
       "      <td>4.9</td>\n",
       "      <td>2.4</td>\n",
       "      <td>3.4</td>\n",
       "      <td>NaN</td>\n",
       "      <td>319653</td>\n",
       "      <td>89903</td>\n",
       "      <td>9989170</td>\n",
       "    </tr>\n",
       "    <tr>\n",
       "      <th>261</th>\n",
       "      <td>P04590</td>\n",
       "      <td>Adyar</td>\n",
       "      <td>1249</td>\n",
       "      <td>04-08-2010</td>\n",
       "      <td>93</td>\n",
       "      <td>2.0</td>\n",
       "      <td>2.0</td>\n",
       "      <td>4</td>\n",
       "      <td>AdjLand</td>\n",
       "      <td>No</td>\n",
       "      <td>...</td>\n",
       "      <td>NoSewr</td>\n",
       "      <td>Paved</td>\n",
       "      <td>A</td>\n",
       "      <td>3.9</td>\n",
       "      <td>2.2</td>\n",
       "      <td>4.8</td>\n",
       "      <td>NaN</td>\n",
       "      <td>417195</td>\n",
       "      <td>176992</td>\n",
       "      <td>12642285</td>\n",
       "    </tr>\n",
       "    <tr>\n",
       "      <th>284</th>\n",
       "      <td>P03587</td>\n",
       "      <td>KK Nagar</td>\n",
       "      <td>1632</td>\n",
       "      <td>22-02-2011</td>\n",
       "      <td>156</td>\n",
       "      <td>2.0</td>\n",
       "      <td>1.0</td>\n",
       "      <td>4</td>\n",
       "      <td>Partial</td>\n",
       "      <td>Yes</td>\n",
       "      <td>...</td>\n",
       "      <td>AllPub</td>\n",
       "      <td>Gravel</td>\n",
       "      <td>RH</td>\n",
       "      <td>2.7</td>\n",
       "      <td>4.5</td>\n",
       "      <td>2.9</td>\n",
       "      <td>NaN</td>\n",
       "      <td>514815</td>\n",
       "      <td>262661</td>\n",
       "      <td>10506420</td>\n",
       "    </tr>\n",
       "    <tr>\n",
       "      <th>312</th>\n",
       "      <td>P02964</td>\n",
       "      <td>KK Nagar</td>\n",
       "      <td>2078</td>\n",
       "      <td>22-06-2011</td>\n",
       "      <td>13</td>\n",
       "      <td>3.0</td>\n",
       "      <td>2.0</td>\n",
       "      <td>5</td>\n",
       "      <td>AbNormal</td>\n",
       "      <td>No</td>\n",
       "      <td>...</td>\n",
       "      <td>NoSeWa</td>\n",
       "      <td>Paved</td>\n",
       "      <td>RH</td>\n",
       "      <td>2.3</td>\n",
       "      <td>2.8</td>\n",
       "      <td>4.6</td>\n",
       "      <td>NaN</td>\n",
       "      <td>475144</td>\n",
       "      <td>106665</td>\n",
       "      <td>9696820</td>\n",
       "    </tr>\n",
       "    <tr>\n",
       "      <th>329</th>\n",
       "      <td>P01156</td>\n",
       "      <td>Anna Nagar</td>\n",
       "      <td>1585</td>\n",
       "      <td>25-11-2012</td>\n",
       "      <td>188</td>\n",
       "      <td>1.0</td>\n",
       "      <td>1.0</td>\n",
       "      <td>4</td>\n",
       "      <td>Family</td>\n",
       "      <td>No</td>\n",
       "      <td>...</td>\n",
       "      <td>AllPub</td>\n",
       "      <td>No Access</td>\n",
       "      <td>RL</td>\n",
       "      <td>2.3</td>\n",
       "      <td>4.2</td>\n",
       "      <td>2.1</td>\n",
       "      <td>NaN</td>\n",
       "      <td>469335</td>\n",
       "      <td>104297</td>\n",
       "      <td>17382790</td>\n",
       "    </tr>\n",
       "    <tr>\n",
       "      <th>355</th>\n",
       "      <td>P03358</td>\n",
       "      <td>KK Nagar</td>\n",
       "      <td>1484</td>\n",
       "      <td>09-04-2011</td>\n",
       "      <td>54</td>\n",
       "      <td>2.0</td>\n",
       "      <td>1.0</td>\n",
       "      <td>4</td>\n",
       "      <td>Partial</td>\n",
       "      <td>Yes</td>\n",
       "      <td>...</td>\n",
       "      <td>NoSewr</td>\n",
       "      <td>Gravel</td>\n",
       "      <td>RH</td>\n",
       "      <td>3.4</td>\n",
       "      <td>2.5</td>\n",
       "      <td>4.2</td>\n",
       "      <td>NaN</td>\n",
       "      <td>302902</td>\n",
       "      <td>224733</td>\n",
       "      <td>9771020</td>\n",
       "    </tr>\n",
       "    <tr>\n",
       "      <th>402</th>\n",
       "      <td>P04597</td>\n",
       "      <td>Karapakkam</td>\n",
       "      <td>1353</td>\n",
       "      <td>03-08-2010</td>\n",
       "      <td>20</td>\n",
       "      <td>2.0</td>\n",
       "      <td>2.0</td>\n",
       "      <td>4</td>\n",
       "      <td>AbNormal</td>\n",
       "      <td>Yes</td>\n",
       "      <td>...</td>\n",
       "      <td>ELO</td>\n",
       "      <td>No Access</td>\n",
       "      <td>RL</td>\n",
       "      <td>3.7</td>\n",
       "      <td>2.3</td>\n",
       "      <td>2.5</td>\n",
       "      <td>NaN</td>\n",
       "      <td>291512</td>\n",
       "      <td>77165</td>\n",
       "      <td>8573875</td>\n",
       "    </tr>\n",
       "    <tr>\n",
       "      <th>437</th>\n",
       "      <td>P04897</td>\n",
       "      <td>KK Nagar</td>\n",
       "      <td>1450</td>\n",
       "      <td>09-06-2010</td>\n",
       "      <td>169</td>\n",
       "      <td>2.0</td>\n",
       "      <td>1.0</td>\n",
       "      <td>4</td>\n",
       "      <td>AdjLand</td>\n",
       "      <td>Yes</td>\n",
       "      <td>...</td>\n",
       "      <td>AllPub</td>\n",
       "      <td>Paved</td>\n",
       "      <td>RH</td>\n",
       "      <td>3.8</td>\n",
       "      <td>4.4</td>\n",
       "      <td>2.4</td>\n",
       "      <td>NaN</td>\n",
       "      <td>431738</td>\n",
       "      <td>251011</td>\n",
       "      <td>10040420</td>\n",
       "    </tr>\n",
       "    <tr>\n",
       "      <th>479</th>\n",
       "      <td>P04286</td>\n",
       "      <td>Karapakkam</td>\n",
       "      <td>984</td>\n",
       "      <td>30-09-2010</td>\n",
       "      <td>183</td>\n",
       "      <td>1.0</td>\n",
       "      <td>1.0</td>\n",
       "      <td>3</td>\n",
       "      <td>Family</td>\n",
       "      <td>Yes</td>\n",
       "      <td>...</td>\n",
       "      <td>NoSewr</td>\n",
       "      <td>No Access</td>\n",
       "      <td>C</td>\n",
       "      <td>2.7</td>\n",
       "      <td>2.7</td>\n",
       "      <td>4.7</td>\n",
       "      <td>NaN</td>\n",
       "      <td>192267</td>\n",
       "      <td>48067</td>\n",
       "      <td>5340750</td>\n",
       "    </tr>\n",
       "    <tr>\n",
       "      <th>513</th>\n",
       "      <td>P08647</td>\n",
       "      <td>Anna Nagar</td>\n",
       "      <td>1898</td>\n",
       "      <td>09-10-2007</td>\n",
       "      <td>111</td>\n",
       "      <td>2.0</td>\n",
       "      <td>1.0</td>\n",
       "      <td>5</td>\n",
       "      <td>AbNormal</td>\n",
       "      <td>No</td>\n",
       "      <td>...</td>\n",
       "      <td>NoSeWa</td>\n",
       "      <td>No Access</td>\n",
       "      <td>RM</td>\n",
       "      <td>4.4</td>\n",
       "      <td>2.5</td>\n",
       "      <td>3.2</td>\n",
       "      <td>NaN</td>\n",
       "      <td>337128</td>\n",
       "      <td>94396</td>\n",
       "      <td>13485130</td>\n",
       "    </tr>\n",
       "    <tr>\n",
       "      <th>624</th>\n",
       "      <td>P02141</td>\n",
       "      <td>Karapakkam</td>\n",
       "      <td>1352</td>\n",
       "      <td>01-12-2011</td>\n",
       "      <td>171</td>\n",
       "      <td>2.0</td>\n",
       "      <td>2.0</td>\n",
       "      <td>4</td>\n",
       "      <td>AbNormal</td>\n",
       "      <td>Yes</td>\n",
       "      <td>...</td>\n",
       "      <td>NoSeWa</td>\n",
       "      <td>Gravel</td>\n",
       "      <td>I</td>\n",
       "      <td>3.8</td>\n",
       "      <td>4.0</td>\n",
       "      <td>4.2</td>\n",
       "      <td>NaN</td>\n",
       "      <td>415616</td>\n",
       "      <td>164059</td>\n",
       "      <td>10937250</td>\n",
       "    </tr>\n",
       "    <tr>\n",
       "      <th>625</th>\n",
       "      <td>P02698</td>\n",
       "      <td>Anna Nagar</td>\n",
       "      <td>1510</td>\n",
       "      <td>15-08-2011</td>\n",
       "      <td>196</td>\n",
       "      <td>1.0</td>\n",
       "      <td>1.0</td>\n",
       "      <td>4</td>\n",
       "      <td>Normal Sale</td>\n",
       "      <td>No</td>\n",
       "      <td>...</td>\n",
       "      <td>NoSeWa</td>\n",
       "      <td>Paved</td>\n",
       "      <td>RH</td>\n",
       "      <td>4.1</td>\n",
       "      <td>4.6</td>\n",
       "      <td>3.0</td>\n",
       "      <td>NaN</td>\n",
       "      <td>406091</td>\n",
       "      <td>175607</td>\n",
       "      <td>10975430</td>\n",
       "    </tr>\n",
       "    <tr>\n",
       "      <th>714</th>\n",
       "      <td>P03730</td>\n",
       "      <td>Anna Nagar</td>\n",
       "      <td>1914</td>\n",
       "      <td>23-01-2011</td>\n",
       "      <td>66</td>\n",
       "      <td>2.0</td>\n",
       "      <td>1.0</td>\n",
       "      <td>5</td>\n",
       "      <td>Partial</td>\n",
       "      <td>Yes</td>\n",
       "      <td>...</td>\n",
       "      <td>ELO</td>\n",
       "      <td>Gravel</td>\n",
       "      <td>RL</td>\n",
       "      <td>3.6</td>\n",
       "      <td>2.7</td>\n",
       "      <td>3.2</td>\n",
       "      <td>NaN</td>\n",
       "      <td>489460</td>\n",
       "      <td>190346</td>\n",
       "      <td>13596110</td>\n",
       "    </tr>\n",
       "    <tr>\n",
       "      <th>769</th>\n",
       "      <td>P01445</td>\n",
       "      <td>Chrompet</td>\n",
       "      <td>944</td>\n",
       "      <td>02-05-2012</td>\n",
       "      <td>132</td>\n",
       "      <td>1.0</td>\n",
       "      <td>1.0</td>\n",
       "      <td>3</td>\n",
       "      <td>Family</td>\n",
       "      <td>No</td>\n",
       "      <td>...</td>\n",
       "      <td>NoSewr</td>\n",
       "      <td>Paved</td>\n",
       "      <td>RL</td>\n",
       "      <td>4.8</td>\n",
       "      <td>4.6</td>\n",
       "      <td>2.5</td>\n",
       "      <td>NaN</td>\n",
       "      <td>303251</td>\n",
       "      <td>128299</td>\n",
       "      <td>11663500</td>\n",
       "    </tr>\n",
       "    <tr>\n",
       "      <th>822</th>\n",
       "      <td>P04352</td>\n",
       "      <td>Chrompet</td>\n",
       "      <td>1258</td>\n",
       "      <td>17-09-2010</td>\n",
       "      <td>78</td>\n",
       "      <td>2.0</td>\n",
       "      <td>1.0</td>\n",
       "      <td>4</td>\n",
       "      <td>Partial</td>\n",
       "      <td>No</td>\n",
       "      <td>...</td>\n",
       "      <td>ELO</td>\n",
       "      <td>No Access</td>\n",
       "      <td>RH</td>\n",
       "      <td>4.4</td>\n",
       "      <td>4.9</td>\n",
       "      <td>3.3</td>\n",
       "      <td>NaN</td>\n",
       "      <td>230110</td>\n",
       "      <td>32873</td>\n",
       "      <td>8218210</td>\n",
       "    </tr>\n",
       "    <tr>\n",
       "      <th>899</th>\n",
       "      <td>P02853</td>\n",
       "      <td>KK Nagar</td>\n",
       "      <td>1532</td>\n",
       "      <td>12-07-2011</td>\n",
       "      <td>60</td>\n",
       "      <td>2.0</td>\n",
       "      <td>1.0</td>\n",
       "      <td>4</td>\n",
       "      <td>Partial</td>\n",
       "      <td>Yes</td>\n",
       "      <td>...</td>\n",
       "      <td>NoSewr</td>\n",
       "      <td>Paved</td>\n",
       "      <td>RH</td>\n",
       "      <td>5.0</td>\n",
       "      <td>4.0</td>\n",
       "      <td>3.1</td>\n",
       "      <td>NaN</td>\n",
       "      <td>643461</td>\n",
       "      <td>254703</td>\n",
       "      <td>13405440</td>\n",
       "    </tr>\n",
       "    <tr>\n",
       "      <th>955</th>\n",
       "      <td>P02506</td>\n",
       "      <td>Chrompet</td>\n",
       "      <td>976</td>\n",
       "      <td>21-09-2011</td>\n",
       "      <td>64</td>\n",
       "      <td>1.0</td>\n",
       "      <td>1.0</td>\n",
       "      <td>3</td>\n",
       "      <td>Family</td>\n",
       "      <td>Yes</td>\n",
       "      <td>...</td>\n",
       "      <td>NoSeWa</td>\n",
       "      <td>Paved</td>\n",
       "      <td>RH</td>\n",
       "      <td>4.6</td>\n",
       "      <td>4.7</td>\n",
       "      <td>2.2</td>\n",
       "      <td>NaN</td>\n",
       "      <td>358311</td>\n",
       "      <td>71662</td>\n",
       "      <td>11943700</td>\n",
       "    </tr>\n",
       "    <tr>\n",
       "      <th>993</th>\n",
       "      <td>P08954</td>\n",
       "      <td>T Nagar</td>\n",
       "      <td>1519</td>\n",
       "      <td>06-06-2007</td>\n",
       "      <td>115</td>\n",
       "      <td>1.0</td>\n",
       "      <td>1.0</td>\n",
       "      <td>4</td>\n",
       "      <td>Family</td>\n",
       "      <td>Yes</td>\n",
       "      <td>...</td>\n",
       "      <td>NoSewr</td>\n",
       "      <td>No Access</td>\n",
       "      <td>RM</td>\n",
       "      <td>3.3</td>\n",
       "      <td>4.8</td>\n",
       "      <td>4.7</td>\n",
       "      <td>NaN</td>\n",
       "      <td>654117</td>\n",
       "      <td>127189</td>\n",
       "      <td>18169910</td>\n",
       "    </tr>\n",
       "    <tr>\n",
       "      <th>1044</th>\n",
       "      <td>P03792</td>\n",
       "      <td>KK Nagar</td>\n",
       "      <td>1896</td>\n",
       "      <td>10-01-2011</td>\n",
       "      <td>182</td>\n",
       "      <td>3.0</td>\n",
       "      <td>2.0</td>\n",
       "      <td>5</td>\n",
       "      <td>Partial</td>\n",
       "      <td>No</td>\n",
       "      <td>...</td>\n",
       "      <td>NoSeWa</td>\n",
       "      <td>Paved</td>\n",
       "      <td>RL</td>\n",
       "      <td>3.2</td>\n",
       "      <td>3.3</td>\n",
       "      <td>4.3</td>\n",
       "      <td>NaN</td>\n",
       "      <td>460302</td>\n",
       "      <td>230151</td>\n",
       "      <td>10461400</td>\n",
       "    </tr>\n",
       "    <tr>\n",
       "      <th>1142</th>\n",
       "      <td>P07495</td>\n",
       "      <td>KK Nagar</td>\n",
       "      <td>2434</td>\n",
       "      <td>23-10-2008</td>\n",
       "      <td>28</td>\n",
       "      <td>4.0</td>\n",
       "      <td>2.0</td>\n",
       "      <td>6</td>\n",
       "      <td>Partial</td>\n",
       "      <td>Yes</td>\n",
       "      <td>...</td>\n",
       "      <td>NoSeWa</td>\n",
       "      <td>Gravel</td>\n",
       "      <td>RM</td>\n",
       "      <td>2.1</td>\n",
       "      <td>4.5</td>\n",
       "      <td>2.1</td>\n",
       "      <td>NaN</td>\n",
       "      <td>459575</td>\n",
       "      <td>272873</td>\n",
       "      <td>14361720</td>\n",
       "    </tr>\n",
       "    <tr>\n",
       "      <th>1206</th>\n",
       "      <td>P09213</td>\n",
       "      <td>Anna Nagar</td>\n",
       "      <td>1952</td>\n",
       "      <td>23-02-2007</td>\n",
       "      <td>53</td>\n",
       "      <td>2.0</td>\n",
       "      <td>1.0</td>\n",
       "      <td>5</td>\n",
       "      <td>AdjLand</td>\n",
       "      <td>Yes</td>\n",
       "      <td>...</td>\n",
       "      <td>AllPub</td>\n",
       "      <td>No Access</td>\n",
       "      <td>RH</td>\n",
       "      <td>3.9</td>\n",
       "      <td>2.6</td>\n",
       "      <td>2.4</td>\n",
       "      <td>NaN</td>\n",
       "      <td>693887</td>\n",
       "      <td>126161</td>\n",
       "      <td>21026890</td>\n",
       "    </tr>\n",
       "    <tr>\n",
       "      <th>1393</th>\n",
       "      <td>P00225</td>\n",
       "      <td>Anna Nagar</td>\n",
       "      <td>2000</td>\n",
       "      <td>09-09-2014</td>\n",
       "      <td>102</td>\n",
       "      <td>2.0</td>\n",
       "      <td>1.0</td>\n",
       "      <td>5</td>\n",
       "      <td>Family</td>\n",
       "      <td>No</td>\n",
       "      <td>...</td>\n",
       "      <td>ELO</td>\n",
       "      <td>Paved</td>\n",
       "      <td>RL</td>\n",
       "      <td>3.9</td>\n",
       "      <td>5.0</td>\n",
       "      <td>3.1</td>\n",
       "      <td>NaN</td>\n",
       "      <td>690587</td>\n",
       "      <td>334830</td>\n",
       "      <td>20926890</td>\n",
       "    </tr>\n",
       "    <tr>\n",
       "      <th>1447</th>\n",
       "      <td>P05466</td>\n",
       "      <td>Chrompet</td>\n",
       "      <td>1171</td>\n",
       "      <td>19-02-2010</td>\n",
       "      <td>10</td>\n",
       "      <td>1.0</td>\n",
       "      <td>1.0</td>\n",
       "      <td>3</td>\n",
       "      <td>AdjLand</td>\n",
       "      <td>No</td>\n",
       "      <td>...</td>\n",
       "      <td>AllPub</td>\n",
       "      <td>No Access</td>\n",
       "      <td>RM</td>\n",
       "      <td>4.0</td>\n",
       "      <td>4.4</td>\n",
       "      <td>4.8</td>\n",
       "      <td>NaN</td>\n",
       "      <td>449122</td>\n",
       "      <td>238596</td>\n",
       "      <td>14035050</td>\n",
       "    </tr>\n",
       "    <tr>\n",
       "      <th>1528</th>\n",
       "      <td>P01678</td>\n",
       "      <td>Anna Nagar</td>\n",
       "      <td>1823</td>\n",
       "      <td>27-02-2012</td>\n",
       "      <td>45</td>\n",
       "      <td>2.0</td>\n",
       "      <td>1.0</td>\n",
       "      <td>5</td>\n",
       "      <td>AdjLand</td>\n",
       "      <td>No</td>\n",
       "      <td>...</td>\n",
       "      <td>AllPub</td>\n",
       "      <td>Paved</td>\n",
       "      <td>RH</td>\n",
       "      <td>4.0</td>\n",
       "      <td>3.7</td>\n",
       "      <td>2.0</td>\n",
       "      <td>NaN</td>\n",
       "      <td>497660</td>\n",
       "      <td>134503</td>\n",
       "      <td>13450260</td>\n",
       "    </tr>\n",
       "    <tr>\n",
       "      <th>2196</th>\n",
       "      <td>P03342</td>\n",
       "      <td>T Nagar</td>\n",
       "      <td>1639</td>\n",
       "      <td>11-04-2011</td>\n",
       "      <td>42</td>\n",
       "      <td>1.0</td>\n",
       "      <td>1.0</td>\n",
       "      <td>4</td>\n",
       "      <td>Partial</td>\n",
       "      <td>No</td>\n",
       "      <td>...</td>\n",
       "      <td>ELO</td>\n",
       "      <td>Gravel</td>\n",
       "      <td>RM</td>\n",
       "      <td>3.6</td>\n",
       "      <td>3.4</td>\n",
       "      <td>2.8</td>\n",
       "      <td>NaN</td>\n",
       "      <td>337157</td>\n",
       "      <td>192661</td>\n",
       "      <td>12041320</td>\n",
       "    </tr>\n",
       "    <tr>\n",
       "      <th>2227</th>\n",
       "      <td>P08462</td>\n",
       "      <td>Chrompet</td>\n",
       "      <td>1196</td>\n",
       "      <td>24-12-2007</td>\n",
       "      <td>116</td>\n",
       "      <td>1.0</td>\n",
       "      <td>1.0</td>\n",
       "      <td>3</td>\n",
       "      <td>AbNormal</td>\n",
       "      <td>No</td>\n",
       "      <td>...</td>\n",
       "      <td>AllPub</td>\n",
       "      <td>Gravel</td>\n",
       "      <td>RM</td>\n",
       "      <td>3.5</td>\n",
       "      <td>4.5</td>\n",
       "      <td>4.3</td>\n",
       "      <td>NaN</td>\n",
       "      <td>289517</td>\n",
       "      <td>189300</td>\n",
       "      <td>11135270</td>\n",
       "    </tr>\n",
       "    <tr>\n",
       "      <th>2228</th>\n",
       "      <td>P08971</td>\n",
       "      <td>Chrompet</td>\n",
       "      <td>1225</td>\n",
       "      <td>30-05-2007</td>\n",
       "      <td>85</td>\n",
       "      <td>2.0</td>\n",
       "      <td>1.0</td>\n",
       "      <td>4</td>\n",
       "      <td>AbNormal</td>\n",
       "      <td>Yes</td>\n",
       "      <td>...</td>\n",
       "      <td>AllPub</td>\n",
       "      <td>Gravel</td>\n",
       "      <td>RH</td>\n",
       "      <td>3.8</td>\n",
       "      <td>4.5</td>\n",
       "      <td>4.7</td>\n",
       "      <td>NaN</td>\n",
       "      <td>300146</td>\n",
       "      <td>177864</td>\n",
       "      <td>11116500</td>\n",
       "    </tr>\n",
       "    <tr>\n",
       "      <th>2336</th>\n",
       "      <td>P03084</td>\n",
       "      <td>Velachery</td>\n",
       "      <td>1596</td>\n",
       "      <td>29-05-2011</td>\n",
       "      <td>99</td>\n",
       "      <td>2.0</td>\n",
       "      <td>1.0</td>\n",
       "      <td>4</td>\n",
       "      <td>Partial</td>\n",
       "      <td>Yes</td>\n",
       "      <td>...</td>\n",
       "      <td>NoSeWa</td>\n",
       "      <td>Paved</td>\n",
       "      <td>RM</td>\n",
       "      <td>2.5</td>\n",
       "      <td>3.4</td>\n",
       "      <td>3.4</td>\n",
       "      <td>NaN</td>\n",
       "      <td>375857</td>\n",
       "      <td>96374</td>\n",
       "      <td>9637350</td>\n",
       "    </tr>\n",
       "    <tr>\n",
       "      <th>3870</th>\n",
       "      <td>P02851</td>\n",
       "      <td>Velachery</td>\n",
       "      <td>1752</td>\n",
       "      <td>12-07-2011</td>\n",
       "      <td>70</td>\n",
       "      <td>2.0</td>\n",
       "      <td>1.0</td>\n",
       "      <td>4</td>\n",
       "      <td>Family</td>\n",
       "      <td>Noo</td>\n",
       "      <td>...</td>\n",
       "      <td>AllPub</td>\n",
       "      <td>No Access</td>\n",
       "      <td>I</td>\n",
       "      <td>2.6</td>\n",
       "      <td>3.8</td>\n",
       "      <td>3.7</td>\n",
       "      <td>NaN</td>\n",
       "      <td>281674</td>\n",
       "      <td>119498</td>\n",
       "      <td>8535580</td>\n",
       "    </tr>\n",
       "    <tr>\n",
       "      <th>4060</th>\n",
       "      <td>P01066</td>\n",
       "      <td>Anna Nagar</td>\n",
       "      <td>1556</td>\n",
       "      <td>16-01-2013</td>\n",
       "      <td>181</td>\n",
       "      <td>NaN</td>\n",
       "      <td>1.0</td>\n",
       "      <td>4</td>\n",
       "      <td>Partiall</td>\n",
       "      <td>No</td>\n",
       "      <td>...</td>\n",
       "      <td>NoSewr</td>\n",
       "      <td>No Access</td>\n",
       "      <td>RM</td>\n",
       "      <td>4.8</td>\n",
       "      <td>2.7</td>\n",
       "      <td>2.0</td>\n",
       "      <td>3.155</td>\n",
       "      <td>313136</td>\n",
       "      <td>107978</td>\n",
       "      <td>10797790</td>\n",
       "    </tr>\n",
       "    <tr>\n",
       "      <th>4329</th>\n",
       "      <td>P00239</td>\n",
       "      <td>Anna Nagar</td>\n",
       "      <td>1838</td>\n",
       "      <td>31-08-2014</td>\n",
       "      <td>148</td>\n",
       "      <td>2.0</td>\n",
       "      <td>1.0</td>\n",
       "      <td>5</td>\n",
       "      <td>Partial</td>\n",
       "      <td>Yes</td>\n",
       "      <td>...</td>\n",
       "      <td>ELO</td>\n",
       "      <td>Gravel</td>\n",
       "      <td>RM</td>\n",
       "      <td>2.1</td>\n",
       "      <td>2.5</td>\n",
       "      <td>4.4</td>\n",
       "      <td>NaN</td>\n",
       "      <td>568992</td>\n",
       "      <td>254549</td>\n",
       "      <td>14973480</td>\n",
       "    </tr>\n",
       "    <tr>\n",
       "      <th>4836</th>\n",
       "      <td>P05101</td>\n",
       "      <td>Velachery</td>\n",
       "      <td>1662</td>\n",
       "      <td>01-05-2010</td>\n",
       "      <td>50</td>\n",
       "      <td>2.0</td>\n",
       "      <td>1.0</td>\n",
       "      <td>4</td>\n",
       "      <td>Normal Sale</td>\n",
       "      <td>Yes</td>\n",
       "      <td>...</td>\n",
       "      <td>ELO</td>\n",
       "      <td>Gravel</td>\n",
       "      <td>A</td>\n",
       "      <td>2.3</td>\n",
       "      <td>2.8</td>\n",
       "      <td>2.7</td>\n",
       "      <td>NaN</td>\n",
       "      <td>526420</td>\n",
       "      <td>197407</td>\n",
       "      <td>13160490</td>\n",
       "    </tr>\n",
       "    <tr>\n",
       "      <th>5087</th>\n",
       "      <td>P01333</td>\n",
       "      <td>Chrompet</td>\n",
       "      <td>1016</td>\n",
       "      <td>02-08-2012</td>\n",
       "      <td>105</td>\n",
       "      <td>1.0</td>\n",
       "      <td>NaN</td>\n",
       "      <td>3</td>\n",
       "      <td>AbNormal</td>\n",
       "      <td>Yes</td>\n",
       "      <td>...</td>\n",
       "      <td>NoSewr</td>\n",
       "      <td>Gravel</td>\n",
       "      <td>RM</td>\n",
       "      <td>3.2</td>\n",
       "      <td>4.2</td>\n",
       "      <td>2.0</td>\n",
       "      <td>3.240</td>\n",
       "      <td>330086</td>\n",
       "      <td>106479</td>\n",
       "      <td>10647920</td>\n",
       "    </tr>\n",
       "    <tr>\n",
       "      <th>5104</th>\n",
       "      <td>P08589</td>\n",
       "      <td>Chrompet</td>\n",
       "      <td>1022</td>\n",
       "      <td>28-10-2007</td>\n",
       "      <td>170</td>\n",
       "      <td>1.0</td>\n",
       "      <td>1.0</td>\n",
       "      <td>3</td>\n",
       "      <td>AdjLand</td>\n",
       "      <td>Yes</td>\n",
       "      <td>...</td>\n",
       "      <td>NoSewr</td>\n",
       "      <td>No Access</td>\n",
       "      <td>RM</td>\n",
       "      <td>2.8</td>\n",
       "      <td>4.5</td>\n",
       "      <td>3.8</td>\n",
       "      <td>NaN</td>\n",
       "      <td>338504</td>\n",
       "      <td>81241</td>\n",
       "      <td>13540150</td>\n",
       "    </tr>\n",
       "    <tr>\n",
       "      <th>5458</th>\n",
       "      <td>P02849</td>\n",
       "      <td>T Nagar</td>\n",
       "      <td>1624</td>\n",
       "      <td>13-07-2011</td>\n",
       "      <td>117</td>\n",
       "      <td>1.0</td>\n",
       "      <td>1.0</td>\n",
       "      <td>4</td>\n",
       "      <td>Normal Sale</td>\n",
       "      <td>Yes</td>\n",
       "      <td>...</td>\n",
       "      <td>NoSewr</td>\n",
       "      <td>Paved</td>\n",
       "      <td>RM</td>\n",
       "      <td>5.0</td>\n",
       "      <td>2.5</td>\n",
       "      <td>2.2</td>\n",
       "      <td>NaN</td>\n",
       "      <td>670549</td>\n",
       "      <td>256386</td>\n",
       "      <td>19722030</td>\n",
       "    </tr>\n",
       "    <tr>\n",
       "      <th>5463</th>\n",
       "      <td>P09431</td>\n",
       "      <td>Adyar</td>\n",
       "      <td>1277</td>\n",
       "      <td>10-12-2006</td>\n",
       "      <td>30</td>\n",
       "      <td>2.0</td>\n",
       "      <td>2.0</td>\n",
       "      <td>4</td>\n",
       "      <td>Partial</td>\n",
       "      <td>Yes</td>\n",
       "      <td>...</td>\n",
       "      <td>NoSewr</td>\n",
       "      <td>Paved</td>\n",
       "      <td>C</td>\n",
       "      <td>3.8</td>\n",
       "      <td>4.9</td>\n",
       "      <td>4.0</td>\n",
       "      <td>NaN</td>\n",
       "      <td>251387</td>\n",
       "      <td>25139</td>\n",
       "      <td>8379570</td>\n",
       "    </tr>\n",
       "    <tr>\n",
       "      <th>6111</th>\n",
       "      <td>P06239</td>\n",
       "      <td>Karapakkam</td>\n",
       "      <td>806</td>\n",
       "      <td>30-09-2009</td>\n",
       "      <td>54</td>\n",
       "      <td>1.0</td>\n",
       "      <td>1.0</td>\n",
       "      <td>2</td>\n",
       "      <td>Partial</td>\n",
       "      <td>Yes</td>\n",
       "      <td>...</td>\n",
       "      <td>AllPub</td>\n",
       "      <td>No Access</td>\n",
       "      <td>A</td>\n",
       "      <td>4.9</td>\n",
       "      <td>2.4</td>\n",
       "      <td>2.3</td>\n",
       "      <td>NaN</td>\n",
       "      <td>164055</td>\n",
       "      <td>98433</td>\n",
       "      <td>5468500</td>\n",
       "    </tr>\n",
       "    <tr>\n",
       "      <th>6134</th>\n",
       "      <td>P01332</td>\n",
       "      <td>Chormpet</td>\n",
       "      <td>916</td>\n",
       "      <td>02-08-2012</td>\n",
       "      <td>173</td>\n",
       "      <td>1.0</td>\n",
       "      <td>NaN</td>\n",
       "      <td>3</td>\n",
       "      <td>Normal Sale</td>\n",
       "      <td>Yes</td>\n",
       "      <td>...</td>\n",
       "      <td>ELO</td>\n",
       "      <td>Paved</td>\n",
       "      <td>RL</td>\n",
       "      <td>3.4</td>\n",
       "      <td>3.5</td>\n",
       "      <td>3.0</td>\n",
       "      <td>NaN</td>\n",
       "      <td>265423</td>\n",
       "      <td>44237</td>\n",
       "      <td>8847420</td>\n",
       "    </tr>\n",
       "    <tr>\n",
       "      <th>6161</th>\n",
       "      <td>P02241</td>\n",
       "      <td>Adyar</td>\n",
       "      <td>1150</td>\n",
       "      <td>08-11-2011</td>\n",
       "      <td>170</td>\n",
       "      <td>1.0</td>\n",
       "      <td>1.0</td>\n",
       "      <td>3</td>\n",
       "      <td>Family</td>\n",
       "      <td>No</td>\n",
       "      <td>...</td>\n",
       "      <td>ELO</td>\n",
       "      <td>No Access</td>\n",
       "      <td>I</td>\n",
       "      <td>2.1</td>\n",
       "      <td>4.8</td>\n",
       "      <td>2.5</td>\n",
       "      <td>NaN</td>\n",
       "      <td>396467</td>\n",
       "      <td>104947</td>\n",
       "      <td>11660780</td>\n",
       "    </tr>\n",
       "    <tr>\n",
       "      <th>6248</th>\n",
       "      <td>P03983</td>\n",
       "      <td>Karapakkam</td>\n",
       "      <td>931</td>\n",
       "      <td>30-11-2010</td>\n",
       "      <td>86</td>\n",
       "      <td>1.0</td>\n",
       "      <td>1.0</td>\n",
       "      <td>3</td>\n",
       "      <td>Family</td>\n",
       "      <td>No</td>\n",
       "      <td>...</td>\n",
       "      <td>ELO</td>\n",
       "      <td>Paved</td>\n",
       "      <td>I</td>\n",
       "      <td>4.7</td>\n",
       "      <td>5.0</td>\n",
       "      <td>4.9</td>\n",
       "      <td>NaN</td>\n",
       "      <td>169826</td>\n",
       "      <td>82340</td>\n",
       "      <td>5146250</td>\n",
       "    </tr>\n",
       "    <tr>\n",
       "      <th>6371</th>\n",
       "      <td>P01189</td>\n",
       "      <td>Chrompet</td>\n",
       "      <td>1035</td>\n",
       "      <td>06-11-2012</td>\n",
       "      <td>90</td>\n",
       "      <td>1.0</td>\n",
       "      <td>NaN</td>\n",
       "      <td>3</td>\n",
       "      <td>Partial</td>\n",
       "      <td>No</td>\n",
       "      <td>...</td>\n",
       "      <td>NoSeWa</td>\n",
       "      <td>No Access</td>\n",
       "      <td>RM</td>\n",
       "      <td>2.3</td>\n",
       "      <td>3.5</td>\n",
       "      <td>3.2</td>\n",
       "      <td>3.050</td>\n",
       "      <td>223403</td>\n",
       "      <td>24823</td>\n",
       "      <td>8274200</td>\n",
       "    </tr>\n",
       "    <tr>\n",
       "      <th>6535</th>\n",
       "      <td>P09189</td>\n",
       "      <td>Anna Nagar</td>\n",
       "      <td>1864</td>\n",
       "      <td>05-03-2007</td>\n",
       "      <td>184</td>\n",
       "      <td>2.0</td>\n",
       "      <td>NaN</td>\n",
       "      <td>5</td>\n",
       "      <td>Family</td>\n",
       "      <td>Yes</td>\n",
       "      <td>...</td>\n",
       "      <td>NoSewr</td>\n",
       "      <td>Paved</td>\n",
       "      <td>RM</td>\n",
       "      <td>3.3</td>\n",
       "      <td>3.7</td>\n",
       "      <td>4.7</td>\n",
       "      <td>3.960</td>\n",
       "      <td>575606</td>\n",
       "      <td>124455</td>\n",
       "      <td>15556920</td>\n",
       "    </tr>\n",
       "    <tr>\n",
       "      <th>6855</th>\n",
       "      <td>P09225</td>\n",
       "      <td>T Nagar</td>\n",
       "      <td>1741</td>\n",
       "      <td>20-02-2007</td>\n",
       "      <td>106</td>\n",
       "      <td>1.0</td>\n",
       "      <td>1.0</td>\n",
       "      <td>4</td>\n",
       "      <td>Family</td>\n",
       "      <td>Yes</td>\n",
       "      <td>...</td>\n",
       "      <td>ELO</td>\n",
       "      <td>No Access</td>\n",
       "      <td>RM</td>\n",
       "      <td>3.1</td>\n",
       "      <td>4.7</td>\n",
       "      <td>4.6</td>\n",
       "      <td>NaN</td>\n",
       "      <td>529177</td>\n",
       "      <td>167109</td>\n",
       "      <td>13925720</td>\n",
       "    </tr>\n",
       "  </tbody>\n",
       "</table>\n",
       "<p>53 rows × 22 columns</p>\n",
       "</div>"
      ],
      "text/plain": [
       "      PRT_ID        AREA  INT_SQFT   DATE_SALE  DIST_MAINROAD  N_BEDROOM  \\\n",
       "15    P06328   Velachery      1868  12-09-2009            148        3.0   \n",
       "46    P09483     T Nagar      1882  18-11-2006            189        2.0   \n",
       "70    P05304  Anna Nagar      1589  22-03-2010             39        1.0   \n",
       "86    P00545    Chrompet      1085  19-01-2014            149        1.0   \n",
       "111   P06768       Adyar      1034  30-05-2009             73        1.0   \n",
       "134   P00089     T Nagar      1942  20-12-2014             10        2.0   \n",
       "143   P06226  Karapakkam      1430  02-10-2009             17        2.0   \n",
       "161   P06964   Velachery      1824  03-04-2009            187        3.0   \n",
       "186   P08752       Adyar       738  02-09-2007             69        1.0   \n",
       "208   P03292  Karapakkam      1578  18-04-2011            153        2.0   \n",
       "248   P04891   Velachery      1776  09-06-2010            120        2.0   \n",
       "261   P04590       Adyar      1249  04-08-2010             93        2.0   \n",
       "284   P03587    KK Nagar      1632  22-02-2011            156        2.0   \n",
       "312   P02964    KK Nagar      2078  22-06-2011             13        3.0   \n",
       "329   P01156  Anna Nagar      1585  25-11-2012            188        1.0   \n",
       "355   P03358    KK Nagar      1484  09-04-2011             54        2.0   \n",
       "402   P04597  Karapakkam      1353  03-08-2010             20        2.0   \n",
       "437   P04897    KK Nagar      1450  09-06-2010            169        2.0   \n",
       "479   P04286  Karapakkam       984  30-09-2010            183        1.0   \n",
       "513   P08647  Anna Nagar      1898  09-10-2007            111        2.0   \n",
       "624   P02141  Karapakkam      1352  01-12-2011            171        2.0   \n",
       "625   P02698  Anna Nagar      1510  15-08-2011            196        1.0   \n",
       "714   P03730  Anna Nagar      1914  23-01-2011             66        2.0   \n",
       "769   P01445    Chrompet       944  02-05-2012            132        1.0   \n",
       "822   P04352    Chrompet      1258  17-09-2010             78        2.0   \n",
       "899   P02853    KK Nagar      1532  12-07-2011             60        2.0   \n",
       "955   P02506    Chrompet       976  21-09-2011             64        1.0   \n",
       "993   P08954     T Nagar      1519  06-06-2007            115        1.0   \n",
       "1044  P03792    KK Nagar      1896  10-01-2011            182        3.0   \n",
       "1142  P07495    KK Nagar      2434  23-10-2008             28        4.0   \n",
       "1206  P09213  Anna Nagar      1952  23-02-2007             53        2.0   \n",
       "1393  P00225  Anna Nagar      2000  09-09-2014            102        2.0   \n",
       "1447  P05466    Chrompet      1171  19-02-2010             10        1.0   \n",
       "1528  P01678  Anna Nagar      1823  27-02-2012             45        2.0   \n",
       "2196  P03342     T Nagar      1639  11-04-2011             42        1.0   \n",
       "2227  P08462    Chrompet      1196  24-12-2007            116        1.0   \n",
       "2228  P08971    Chrompet      1225  30-05-2007             85        2.0   \n",
       "2336  P03084   Velachery      1596  29-05-2011             99        2.0   \n",
       "3870  P02851   Velachery      1752  12-07-2011             70        2.0   \n",
       "4060  P01066  Anna Nagar      1556  16-01-2013            181        NaN   \n",
       "4329  P00239  Anna Nagar      1838  31-08-2014            148        2.0   \n",
       "4836  P05101   Velachery      1662  01-05-2010             50        2.0   \n",
       "5087  P01333    Chrompet      1016  02-08-2012            105        1.0   \n",
       "5104  P08589    Chrompet      1022  28-10-2007            170        1.0   \n",
       "5458  P02849     T Nagar      1624  13-07-2011            117        1.0   \n",
       "5463  P09431       Adyar      1277  10-12-2006             30        2.0   \n",
       "6111  P06239  Karapakkam       806  30-09-2009             54        1.0   \n",
       "6134  P01332    Chormpet       916  02-08-2012            173        1.0   \n",
       "6161  P02241       Adyar      1150  08-11-2011            170        1.0   \n",
       "6248  P03983  Karapakkam       931  30-11-2010             86        1.0   \n",
       "6371  P01189    Chrompet      1035  06-11-2012             90        1.0   \n",
       "6535  P09189  Anna Nagar      1864  05-03-2007            184        2.0   \n",
       "6855  P09225     T Nagar      1741  20-02-2007            106        1.0   \n",
       "\n",
       "      N_BATHROOM  N_ROOM    SALE_COND PARK_FACIL  ... UTILITY_AVAIL  \\\n",
       "15           2.0       5       Family         No  ...       NoSewr    \n",
       "46           1.0       5     AbNormal        Yes  ...           ELO   \n",
       "70           NaN       4      Partial         No  ...        AllPub   \n",
       "86           1.0       3     AbNormal        Yes  ...       NoSewr    \n",
       "111          1.0       3      AdjLand        Yes  ...           ELO   \n",
       "134          1.0       5       Family         No  ...        NoSeWa   \n",
       "143          2.0       4     AbNormal        Yes  ...       NoSewr    \n",
       "161          2.0       5  Normal Sale         No  ...       NoSewr    \n",
       "186          1.0       2      Partial         No  ...       NoSewr    \n",
       "208          2.0       4  Normal Sale        Yes  ...        AllPub   \n",
       "248          1.0       4  Normal Sale        Yes  ...        NoSeWa   \n",
       "261          2.0       4      AdjLand         No  ...       NoSewr    \n",
       "284          1.0       4      Partial        Yes  ...        AllPub   \n",
       "312          2.0       5     AbNormal         No  ...        NoSeWa   \n",
       "329          1.0       4       Family         No  ...        AllPub   \n",
       "355          1.0       4      Partial        Yes  ...       NoSewr    \n",
       "402          2.0       4     AbNormal        Yes  ...           ELO   \n",
       "437          1.0       4      AdjLand        Yes  ...        AllPub   \n",
       "479          1.0       3       Family        Yes  ...       NoSewr    \n",
       "513          1.0       5     AbNormal         No  ...        NoSeWa   \n",
       "624          2.0       4     AbNormal        Yes  ...        NoSeWa   \n",
       "625          1.0       4  Normal Sale         No  ...        NoSeWa   \n",
       "714          1.0       5      Partial        Yes  ...           ELO   \n",
       "769          1.0       3       Family         No  ...       NoSewr    \n",
       "822          1.0       4      Partial         No  ...           ELO   \n",
       "899          1.0       4      Partial        Yes  ...       NoSewr    \n",
       "955          1.0       3       Family        Yes  ...        NoSeWa   \n",
       "993          1.0       4       Family        Yes  ...       NoSewr    \n",
       "1044         2.0       5      Partial         No  ...        NoSeWa   \n",
       "1142         2.0       6      Partial        Yes  ...        NoSeWa   \n",
       "1206         1.0       5      AdjLand        Yes  ...        AllPub   \n",
       "1393         1.0       5       Family         No  ...           ELO   \n",
       "1447         1.0       3      AdjLand         No  ...        AllPub   \n",
       "1528         1.0       5      AdjLand         No  ...        AllPub   \n",
       "2196         1.0       4      Partial         No  ...           ELO   \n",
       "2227         1.0       3     AbNormal         No  ...        AllPub   \n",
       "2228         1.0       4     AbNormal        Yes  ...        AllPub   \n",
       "2336         1.0       4      Partial        Yes  ...        NoSeWa   \n",
       "3870         1.0       4       Family        Noo  ...        AllPub   \n",
       "4060         1.0       4     Partiall         No  ...       NoSewr    \n",
       "4329         1.0       5      Partial        Yes  ...           ELO   \n",
       "4836         1.0       4  Normal Sale        Yes  ...           ELO   \n",
       "5087         NaN       3     AbNormal        Yes  ...       NoSewr    \n",
       "5104         1.0       3      AdjLand        Yes  ...       NoSewr    \n",
       "5458         1.0       4  Normal Sale        Yes  ...       NoSewr    \n",
       "5463         2.0       4      Partial        Yes  ...       NoSewr    \n",
       "6111         1.0       2      Partial        Yes  ...        AllPub   \n",
       "6134         NaN       3  Normal Sale        Yes  ...           ELO   \n",
       "6161         1.0       3       Family         No  ...           ELO   \n",
       "6248         1.0       3       Family         No  ...           ELO   \n",
       "6371         NaN       3      Partial         No  ...        NoSeWa   \n",
       "6535         NaN       5       Family        Yes  ...       NoSewr    \n",
       "6855         1.0       4       Family        Yes  ...           ELO   \n",
       "\n",
       "         STREET MZZONE QS_ROOMS QS_BATHROOM  QS_BEDROOM  QS_OVERALL  REG_FEE  \\\n",
       "15       Gravel     RH      3.8         3.8         3.1         NaN   597135   \n",
       "46       Gravel     RM      3.9         4.5         4.7         NaN   433393   \n",
       "70       Gravel     RL      2.1         2.5         4.5       3.160   451857   \n",
       "86       Gravel     RL      2.8         3.8         4.6         NaN   387815   \n",
       "111      Gravel      C      3.8         3.3         3.5         NaN   277702   \n",
       "134      Gravel     RH      4.6         3.1         2.9         NaN   320599   \n",
       "143   No Access      A      4.3         3.2         3.8         NaN   238887   \n",
       "161       Paved      I      3.9         2.3         4.1         NaN   273570   \n",
       "186   No Access      I      2.4         4.7         5.0         NaN   324194   \n",
       "208      Gravel      I      4.3         4.6         3.4         NaN   295508   \n",
       "248       Paved     RH      4.9         2.4         3.4         NaN   319653   \n",
       "261       Paved      A      3.9         2.2         4.8         NaN   417195   \n",
       "284      Gravel     RH      2.7         4.5         2.9         NaN   514815   \n",
       "312       Paved     RH      2.3         2.8         4.6         NaN   475144   \n",
       "329   No Access     RL      2.3         4.2         2.1         NaN   469335   \n",
       "355      Gravel     RH      3.4         2.5         4.2         NaN   302902   \n",
       "402   No Access     RL      3.7         2.3         2.5         NaN   291512   \n",
       "437       Paved     RH      3.8         4.4         2.4         NaN   431738   \n",
       "479   No Access      C      2.7         2.7         4.7         NaN   192267   \n",
       "513   No Access     RM      4.4         2.5         3.2         NaN   337128   \n",
       "624      Gravel      I      3.8         4.0         4.2         NaN   415616   \n",
       "625       Paved     RH      4.1         4.6         3.0         NaN   406091   \n",
       "714      Gravel     RL      3.6         2.7         3.2         NaN   489460   \n",
       "769       Paved     RL      4.8         4.6         2.5         NaN   303251   \n",
       "822   No Access     RH      4.4         4.9         3.3         NaN   230110   \n",
       "899       Paved     RH      5.0         4.0         3.1         NaN   643461   \n",
       "955       Paved     RH      4.6         4.7         2.2         NaN   358311   \n",
       "993   No Access     RM      3.3         4.8         4.7         NaN   654117   \n",
       "1044      Paved     RL      3.2         3.3         4.3         NaN   460302   \n",
       "1142     Gravel     RM      2.1         4.5         2.1         NaN   459575   \n",
       "1206  No Access     RH      3.9         2.6         2.4         NaN   693887   \n",
       "1393      Paved     RL      3.9         5.0         3.1         NaN   690587   \n",
       "1447  No Access     RM      4.0         4.4         4.8         NaN   449122   \n",
       "1528      Paved     RH      4.0         3.7         2.0         NaN   497660   \n",
       "2196     Gravel     RM      3.6         3.4         2.8         NaN   337157   \n",
       "2227     Gravel     RM      3.5         4.5         4.3         NaN   289517   \n",
       "2228     Gravel     RH      3.8         4.5         4.7         NaN   300146   \n",
       "2336      Paved     RM      2.5         3.4         3.4         NaN   375857   \n",
       "3870  No Access      I      2.6         3.8         3.7         NaN   281674   \n",
       "4060  No Access     RM      4.8         2.7         2.0       3.155   313136   \n",
       "4329     Gravel     RM      2.1         2.5         4.4         NaN   568992   \n",
       "4836     Gravel      A      2.3         2.8         2.7         NaN   526420   \n",
       "5087     Gravel     RM      3.2         4.2         2.0       3.240   330086   \n",
       "5104  No Access     RM      2.8         4.5         3.8         NaN   338504   \n",
       "5458      Paved     RM      5.0         2.5         2.2         NaN   670549   \n",
       "5463      Paved      C      3.8         4.9         4.0         NaN   251387   \n",
       "6111  No Access      A      4.9         2.4         2.3         NaN   164055   \n",
       "6134      Paved     RL      3.4         3.5         3.0         NaN   265423   \n",
       "6161  No Access      I      2.1         4.8         2.5         NaN   396467   \n",
       "6248      Paved      I      4.7         5.0         4.9         NaN   169826   \n",
       "6371  No Access     RM      2.3         3.5         3.2       3.050   223403   \n",
       "6535      Paved     RM      3.3         3.7         4.7       3.960   575606   \n",
       "6855  No Access     RM      3.1         4.7         4.6         NaN   529177   \n",
       "\n",
       "      COMMIS  SALES_PRICE  \n",
       "15    188569     15714080  \n",
       "46    272877     16051580  \n",
       "70     85486     12212350  \n",
       "86    100545     14363500  \n",
       "111    46284      9256740  \n",
       "134    61654     12330740  \n",
       "143   106172      6635750  \n",
       "161    76942      8549060  \n",
       "186     8313      8312670  \n",
       "208   238313      9532500  \n",
       "248    89903      9989170  \n",
       "261   176992     12642285  \n",
       "284   262661     10506420  \n",
       "312   106665      9696820  \n",
       "329   104297     17382790  \n",
       "355   224733      9771020  \n",
       "402    77165      8573875  \n",
       "437   251011     10040420  \n",
       "479    48067      5340750  \n",
       "513    94396     13485130  \n",
       "624   164059     10937250  \n",
       "625   175607     10975430  \n",
       "714   190346     13596110  \n",
       "769   128299     11663500  \n",
       "822    32873      8218210  \n",
       "899   254703     13405440  \n",
       "955    71662     11943700  \n",
       "993   127189     18169910  \n",
       "1044  230151     10461400  \n",
       "1142  272873     14361720  \n",
       "1206  126161     21026890  \n",
       "1393  334830     20926890  \n",
       "1447  238596     14035050  \n",
       "1528  134503     13450260  \n",
       "2196  192661     12041320  \n",
       "2227  189300     11135270  \n",
       "2228  177864     11116500  \n",
       "2336   96374      9637350  \n",
       "3870  119498      8535580  \n",
       "4060  107978     10797790  \n",
       "4329  254549     14973480  \n",
       "4836  197407     13160490  \n",
       "5087  106479     10647920  \n",
       "5104   81241     13540150  \n",
       "5458  256386     19722030  \n",
       "5463   25139      8379570  \n",
       "6111   98433      5468500  \n",
       "6134   44237      8847420  \n",
       "6161  104947     11660780  \n",
       "6248   82340      5146250  \n",
       "6371   24823      8274200  \n",
       "6535  124455     15556920  \n",
       "6855  167109     13925720  \n",
       "\n",
       "[53 rows x 22 columns]"
      ]
     },
     "execution_count": 7,
     "metadata": {},
     "output_type": "execute_result"
    }
   ],
   "source": [
    "df[df.isna().any(axis=1)]"
   ]
  },
  {
   "cell_type": "code",
   "execution_count": 8,
   "id": "239ba02b",
   "metadata": {},
   "outputs": [
    {
     "data": {
      "text/html": [
       "<div>\n",
       "<style scoped>\n",
       "    .dataframe tbody tr th:only-of-type {\n",
       "        vertical-align: middle;\n",
       "    }\n",
       "\n",
       "    .dataframe tbody tr th {\n",
       "        vertical-align: top;\n",
       "    }\n",
       "\n",
       "    .dataframe thead th {\n",
       "        text-align: right;\n",
       "    }\n",
       "</style>\n",
       "<table border=\"1\" class=\"dataframe\">\n",
       "  <thead>\n",
       "    <tr style=\"text-align: right;\">\n",
       "      <th></th>\n",
       "      <th>INT_SQFT</th>\n",
       "      <th>DIST_MAINROAD</th>\n",
       "      <th>N_BEDROOM</th>\n",
       "      <th>N_BATHROOM</th>\n",
       "      <th>N_ROOM</th>\n",
       "      <th>QS_ROOMS</th>\n",
       "      <th>QS_BATHROOM</th>\n",
       "      <th>QS_BEDROOM</th>\n",
       "      <th>QS_OVERALL</th>\n",
       "      <th>REG_FEE</th>\n",
       "      <th>COMMIS</th>\n",
       "      <th>SALES_PRICE</th>\n",
       "    </tr>\n",
       "  </thead>\n",
       "  <tbody>\n",
       "    <tr>\n",
       "      <th>count</th>\n",
       "      <td>7109.000000</td>\n",
       "      <td>7109.000000</td>\n",
       "      <td>7108.000000</td>\n",
       "      <td>7104.000000</td>\n",
       "      <td>7109.000000</td>\n",
       "      <td>7109.000000</td>\n",
       "      <td>7109.000000</td>\n",
       "      <td>7109.000000</td>\n",
       "      <td>7061.000000</td>\n",
       "      <td>7109.000000</td>\n",
       "      <td>7109.000000</td>\n",
       "      <td>7.109000e+03</td>\n",
       "    </tr>\n",
       "    <tr>\n",
       "      <th>mean</th>\n",
       "      <td>1382.073006</td>\n",
       "      <td>99.603179</td>\n",
       "      <td>1.637029</td>\n",
       "      <td>1.213260</td>\n",
       "      <td>3.688704</td>\n",
       "      <td>3.517471</td>\n",
       "      <td>3.507244</td>\n",
       "      <td>3.485300</td>\n",
       "      <td>3.503254</td>\n",
       "      <td>376938.330708</td>\n",
       "      <td>141005.726544</td>\n",
       "      <td>1.089491e+07</td>\n",
       "    </tr>\n",
       "    <tr>\n",
       "      <th>std</th>\n",
       "      <td>457.410902</td>\n",
       "      <td>57.403110</td>\n",
       "      <td>0.802902</td>\n",
       "      <td>0.409639</td>\n",
       "      <td>1.019099</td>\n",
       "      <td>0.891972</td>\n",
       "      <td>0.897834</td>\n",
       "      <td>0.887266</td>\n",
       "      <td>0.527223</td>\n",
       "      <td>143070.662010</td>\n",
       "      <td>78768.093718</td>\n",
       "      <td>3.768603e+06</td>\n",
       "    </tr>\n",
       "    <tr>\n",
       "      <th>min</th>\n",
       "      <td>500.000000</td>\n",
       "      <td>0.000000</td>\n",
       "      <td>1.000000</td>\n",
       "      <td>1.000000</td>\n",
       "      <td>2.000000</td>\n",
       "      <td>2.000000</td>\n",
       "      <td>2.000000</td>\n",
       "      <td>2.000000</td>\n",
       "      <td>2.000000</td>\n",
       "      <td>71177.000000</td>\n",
       "      <td>5055.000000</td>\n",
       "      <td>2.156875e+06</td>\n",
       "    </tr>\n",
       "    <tr>\n",
       "      <th>25%</th>\n",
       "      <td>993.000000</td>\n",
       "      <td>50.000000</td>\n",
       "      <td>1.000000</td>\n",
       "      <td>1.000000</td>\n",
       "      <td>3.000000</td>\n",
       "      <td>2.700000</td>\n",
       "      <td>2.700000</td>\n",
       "      <td>2.700000</td>\n",
       "      <td>3.130000</td>\n",
       "      <td>272406.000000</td>\n",
       "      <td>84219.000000</td>\n",
       "      <td>8.272100e+06</td>\n",
       "    </tr>\n",
       "    <tr>\n",
       "      <th>50%</th>\n",
       "      <td>1373.000000</td>\n",
       "      <td>99.000000</td>\n",
       "      <td>1.000000</td>\n",
       "      <td>1.000000</td>\n",
       "      <td>4.000000</td>\n",
       "      <td>3.500000</td>\n",
       "      <td>3.500000</td>\n",
       "      <td>3.500000</td>\n",
       "      <td>3.500000</td>\n",
       "      <td>349486.000000</td>\n",
       "      <td>127628.000000</td>\n",
       "      <td>1.033505e+07</td>\n",
       "    </tr>\n",
       "    <tr>\n",
       "      <th>75%</th>\n",
       "      <td>1744.000000</td>\n",
       "      <td>148.000000</td>\n",
       "      <td>2.000000</td>\n",
       "      <td>1.000000</td>\n",
       "      <td>4.000000</td>\n",
       "      <td>4.300000</td>\n",
       "      <td>4.300000</td>\n",
       "      <td>4.300000</td>\n",
       "      <td>3.890000</td>\n",
       "      <td>451562.000000</td>\n",
       "      <td>184506.000000</td>\n",
       "      <td>1.299390e+07</td>\n",
       "    </tr>\n",
       "    <tr>\n",
       "      <th>max</th>\n",
       "      <td>2500.000000</td>\n",
       "      <td>200.000000</td>\n",
       "      <td>4.000000</td>\n",
       "      <td>2.000000</td>\n",
       "      <td>6.000000</td>\n",
       "      <td>5.000000</td>\n",
       "      <td>5.000000</td>\n",
       "      <td>5.000000</td>\n",
       "      <td>4.970000</td>\n",
       "      <td>983922.000000</td>\n",
       "      <td>495405.000000</td>\n",
       "      <td>2.366734e+07</td>\n",
       "    </tr>\n",
       "  </tbody>\n",
       "</table>\n",
       "</div>"
      ],
      "text/plain": [
       "          INT_SQFT  DIST_MAINROAD    N_BEDROOM   N_BATHROOM       N_ROOM  \\\n",
       "count  7109.000000    7109.000000  7108.000000  7104.000000  7109.000000   \n",
       "mean   1382.073006      99.603179     1.637029     1.213260     3.688704   \n",
       "std     457.410902      57.403110     0.802902     0.409639     1.019099   \n",
       "min     500.000000       0.000000     1.000000     1.000000     2.000000   \n",
       "25%     993.000000      50.000000     1.000000     1.000000     3.000000   \n",
       "50%    1373.000000      99.000000     1.000000     1.000000     4.000000   \n",
       "75%    1744.000000     148.000000     2.000000     1.000000     4.000000   \n",
       "max    2500.000000     200.000000     4.000000     2.000000     6.000000   \n",
       "\n",
       "          QS_ROOMS  QS_BATHROOM   QS_BEDROOM   QS_OVERALL        REG_FEE  \\\n",
       "count  7109.000000  7109.000000  7109.000000  7061.000000    7109.000000   \n",
       "mean      3.517471     3.507244     3.485300     3.503254  376938.330708   \n",
       "std       0.891972     0.897834     0.887266     0.527223  143070.662010   \n",
       "min       2.000000     2.000000     2.000000     2.000000   71177.000000   \n",
       "25%       2.700000     2.700000     2.700000     3.130000  272406.000000   \n",
       "50%       3.500000     3.500000     3.500000     3.500000  349486.000000   \n",
       "75%       4.300000     4.300000     4.300000     3.890000  451562.000000   \n",
       "max       5.000000     5.000000     5.000000     4.970000  983922.000000   \n",
       "\n",
       "              COMMIS   SALES_PRICE  \n",
       "count    7109.000000  7.109000e+03  \n",
       "mean   141005.726544  1.089491e+07  \n",
       "std     78768.093718  3.768603e+06  \n",
       "min      5055.000000  2.156875e+06  \n",
       "25%     84219.000000  8.272100e+06  \n",
       "50%    127628.000000  1.033505e+07  \n",
       "75%    184506.000000  1.299390e+07  \n",
       "max    495405.000000  2.366734e+07  "
      ]
     },
     "execution_count": 8,
     "metadata": {},
     "output_type": "execute_result"
    }
   ],
   "source": [
    "df.describe()"
   ]
  },
  {
   "cell_type": "code",
   "execution_count": 9,
   "id": "cf48a34e",
   "metadata": {},
   "outputs": [
    {
     "data": {
      "text/html": [
       "<div>\n",
       "<style scoped>\n",
       "    .dataframe tbody tr th:only-of-type {\n",
       "        vertical-align: middle;\n",
       "    }\n",
       "\n",
       "    .dataframe tbody tr th {\n",
       "        vertical-align: top;\n",
       "    }\n",
       "\n",
       "    .dataframe thead th {\n",
       "        text-align: right;\n",
       "    }\n",
       "</style>\n",
       "<table border=\"1\" class=\"dataframe\">\n",
       "  <thead>\n",
       "    <tr style=\"text-align: right;\">\n",
       "      <th></th>\n",
       "      <th>INT_SQFT</th>\n",
       "      <th>DIST_MAINROAD</th>\n",
       "      <th>N_BEDROOM</th>\n",
       "      <th>N_BATHROOM</th>\n",
       "      <th>N_ROOM</th>\n",
       "      <th>QS_ROOMS</th>\n",
       "      <th>QS_BATHROOM</th>\n",
       "      <th>QS_BEDROOM</th>\n",
       "      <th>QS_OVERALL</th>\n",
       "      <th>REG_FEE</th>\n",
       "      <th>COMMIS</th>\n",
       "      <th>SALES_PRICE</th>\n",
       "    </tr>\n",
       "  </thead>\n",
       "  <tbody>\n",
       "    <tr>\n",
       "      <th>INT_SQFT</th>\n",
       "      <td>1.000000</td>\n",
       "      <td>0.002022</td>\n",
       "      <td>0.786348</td>\n",
       "      <td>0.515390</td>\n",
       "      <td>0.951279</td>\n",
       "      <td>0.019850</td>\n",
       "      <td>-0.008337</td>\n",
       "      <td>0.008865</td>\n",
       "      <td>0.014025</td>\n",
       "      <td>0.657544</td>\n",
       "      <td>0.571076</td>\n",
       "      <td>0.612125</td>\n",
       "    </tr>\n",
       "    <tr>\n",
       "      <th>DIST_MAINROAD</th>\n",
       "      <td>0.002022</td>\n",
       "      <td>1.000000</td>\n",
       "      <td>-0.002566</td>\n",
       "      <td>0.001970</td>\n",
       "      <td>0.002301</td>\n",
       "      <td>0.002237</td>\n",
       "      <td>-0.029468</td>\n",
       "      <td>0.001554</td>\n",
       "      <td>-0.017313</td>\n",
       "      <td>0.011600</td>\n",
       "      <td>0.010994</td>\n",
       "      <td>0.018783</td>\n",
       "    </tr>\n",
       "    <tr>\n",
       "      <th>N_BEDROOM</th>\n",
       "      <td>0.786348</td>\n",
       "      <td>-0.002566</td>\n",
       "      <td>1.000000</td>\n",
       "      <td>0.755214</td>\n",
       "      <td>0.840286</td>\n",
       "      <td>0.015112</td>\n",
       "      <td>-0.007635</td>\n",
       "      <td>0.015569</td>\n",
       "      <td>0.014209</td>\n",
       "      <td>0.455357</td>\n",
       "      <td>0.430424</td>\n",
       "      <td>0.330999</td>\n",
       "    </tr>\n",
       "    <tr>\n",
       "      <th>N_BATHROOM</th>\n",
       "      <td>0.515390</td>\n",
       "      <td>0.001970</td>\n",
       "      <td>0.755214</td>\n",
       "      <td>1.000000</td>\n",
       "      <td>0.568688</td>\n",
       "      <td>0.013112</td>\n",
       "      <td>-0.012057</td>\n",
       "      <td>0.013196</td>\n",
       "      <td>0.007907</td>\n",
       "      <td>0.260324</td>\n",
       "      <td>0.256533</td>\n",
       "      <td>0.108884</td>\n",
       "    </tr>\n",
       "    <tr>\n",
       "      <th>N_ROOM</th>\n",
       "      <td>0.951279</td>\n",
       "      <td>0.002301</td>\n",
       "      <td>0.840286</td>\n",
       "      <td>0.568688</td>\n",
       "      <td>1.000000</td>\n",
       "      <td>0.016524</td>\n",
       "      <td>-0.007545</td>\n",
       "      <td>0.015072</td>\n",
       "      <td>0.015459</td>\n",
       "      <td>0.630932</td>\n",
       "      <td>0.533343</td>\n",
       "      <td>0.602760</td>\n",
       "    </tr>\n",
       "    <tr>\n",
       "      <th>QS_ROOMS</th>\n",
       "      <td>0.019850</td>\n",
       "      <td>0.002237</td>\n",
       "      <td>0.015112</td>\n",
       "      <td>0.013112</td>\n",
       "      <td>0.016524</td>\n",
       "      <td>1.000000</td>\n",
       "      <td>0.008828</td>\n",
       "      <td>0.007789</td>\n",
       "      <td>0.517741</td>\n",
       "      <td>0.019739</td>\n",
       "      <td>0.009377</td>\n",
       "      <td>0.021967</td>\n",
       "    </tr>\n",
       "    <tr>\n",
       "      <th>QS_BATHROOM</th>\n",
       "      <td>-0.008337</td>\n",
       "      <td>-0.029468</td>\n",
       "      <td>-0.007635</td>\n",
       "      <td>-0.012057</td>\n",
       "      <td>-0.007545</td>\n",
       "      <td>0.008828</td>\n",
       "      <td>1.000000</td>\n",
       "      <td>-0.011745</td>\n",
       "      <td>0.551125</td>\n",
       "      <td>-0.006719</td>\n",
       "      <td>-0.000471</td>\n",
       "      <td>-0.011377</td>\n",
       "    </tr>\n",
       "    <tr>\n",
       "      <th>QS_BEDROOM</th>\n",
       "      <td>0.008865</td>\n",
       "      <td>0.001554</td>\n",
       "      <td>0.015569</td>\n",
       "      <td>0.013196</td>\n",
       "      <td>0.015072</td>\n",
       "      <td>0.007789</td>\n",
       "      <td>-0.011745</td>\n",
       "      <td>1.000000</td>\n",
       "      <td>0.630447</td>\n",
       "      <td>0.021526</td>\n",
       "      <td>0.020118</td>\n",
       "      <td>0.018804</td>\n",
       "    </tr>\n",
       "    <tr>\n",
       "      <th>QS_OVERALL</th>\n",
       "      <td>0.014025</td>\n",
       "      <td>-0.017313</td>\n",
       "      <td>0.014209</td>\n",
       "      <td>0.007907</td>\n",
       "      <td>0.015459</td>\n",
       "      <td>0.517741</td>\n",
       "      <td>0.551125</td>\n",
       "      <td>0.630447</td>\n",
       "      <td>1.000000</td>\n",
       "      <td>0.022482</td>\n",
       "      <td>0.017004</td>\n",
       "      <td>0.020556</td>\n",
       "    </tr>\n",
       "    <tr>\n",
       "      <th>REG_FEE</th>\n",
       "      <td>0.657544</td>\n",
       "      <td>0.011600</td>\n",
       "      <td>0.455357</td>\n",
       "      <td>0.260324</td>\n",
       "      <td>0.630932</td>\n",
       "      <td>0.019739</td>\n",
       "      <td>-0.006719</td>\n",
       "      <td>0.021526</td>\n",
       "      <td>0.022482</td>\n",
       "      <td>1.000000</td>\n",
       "      <td>0.659903</td>\n",
       "      <td>0.878148</td>\n",
       "    </tr>\n",
       "    <tr>\n",
       "      <th>COMMIS</th>\n",
       "      <td>0.571076</td>\n",
       "      <td>0.010994</td>\n",
       "      <td>0.430424</td>\n",
       "      <td>0.256533</td>\n",
       "      <td>0.533343</td>\n",
       "      <td>0.009377</td>\n",
       "      <td>-0.000471</td>\n",
       "      <td>0.020118</td>\n",
       "      <td>0.017004</td>\n",
       "      <td>0.659903</td>\n",
       "      <td>1.000000</td>\n",
       "      <td>0.626275</td>\n",
       "    </tr>\n",
       "    <tr>\n",
       "      <th>SALES_PRICE</th>\n",
       "      <td>0.612125</td>\n",
       "      <td>0.018783</td>\n",
       "      <td>0.330999</td>\n",
       "      <td>0.108884</td>\n",
       "      <td>0.602760</td>\n",
       "      <td>0.021967</td>\n",
       "      <td>-0.011377</td>\n",
       "      <td>0.018804</td>\n",
       "      <td>0.020556</td>\n",
       "      <td>0.878148</td>\n",
       "      <td>0.626275</td>\n",
       "      <td>1.000000</td>\n",
       "    </tr>\n",
       "  </tbody>\n",
       "</table>\n",
       "</div>"
      ],
      "text/plain": [
       "               INT_SQFT  DIST_MAINROAD  N_BEDROOM  N_BATHROOM    N_ROOM  \\\n",
       "INT_SQFT       1.000000       0.002022   0.786348    0.515390  0.951279   \n",
       "DIST_MAINROAD  0.002022       1.000000  -0.002566    0.001970  0.002301   \n",
       "N_BEDROOM      0.786348      -0.002566   1.000000    0.755214  0.840286   \n",
       "N_BATHROOM     0.515390       0.001970   0.755214    1.000000  0.568688   \n",
       "N_ROOM         0.951279       0.002301   0.840286    0.568688  1.000000   \n",
       "QS_ROOMS       0.019850       0.002237   0.015112    0.013112  0.016524   \n",
       "QS_BATHROOM   -0.008337      -0.029468  -0.007635   -0.012057 -0.007545   \n",
       "QS_BEDROOM     0.008865       0.001554   0.015569    0.013196  0.015072   \n",
       "QS_OVERALL     0.014025      -0.017313   0.014209    0.007907  0.015459   \n",
       "REG_FEE        0.657544       0.011600   0.455357    0.260324  0.630932   \n",
       "COMMIS         0.571076       0.010994   0.430424    0.256533  0.533343   \n",
       "SALES_PRICE    0.612125       0.018783   0.330999    0.108884  0.602760   \n",
       "\n",
       "               QS_ROOMS  QS_BATHROOM  QS_BEDROOM  QS_OVERALL   REG_FEE  \\\n",
       "INT_SQFT       0.019850    -0.008337    0.008865    0.014025  0.657544   \n",
       "DIST_MAINROAD  0.002237    -0.029468    0.001554   -0.017313  0.011600   \n",
       "N_BEDROOM      0.015112    -0.007635    0.015569    0.014209  0.455357   \n",
       "N_BATHROOM     0.013112    -0.012057    0.013196    0.007907  0.260324   \n",
       "N_ROOM         0.016524    -0.007545    0.015072    0.015459  0.630932   \n",
       "QS_ROOMS       1.000000     0.008828    0.007789    0.517741  0.019739   \n",
       "QS_BATHROOM    0.008828     1.000000   -0.011745    0.551125 -0.006719   \n",
       "QS_BEDROOM     0.007789    -0.011745    1.000000    0.630447  0.021526   \n",
       "QS_OVERALL     0.517741     0.551125    0.630447    1.000000  0.022482   \n",
       "REG_FEE        0.019739    -0.006719    0.021526    0.022482  1.000000   \n",
       "COMMIS         0.009377    -0.000471    0.020118    0.017004  0.659903   \n",
       "SALES_PRICE    0.021967    -0.011377    0.018804    0.020556  0.878148   \n",
       "\n",
       "                 COMMIS  SALES_PRICE  \n",
       "INT_SQFT       0.571076     0.612125  \n",
       "DIST_MAINROAD  0.010994     0.018783  \n",
       "N_BEDROOM      0.430424     0.330999  \n",
       "N_BATHROOM     0.256533     0.108884  \n",
       "N_ROOM         0.533343     0.602760  \n",
       "QS_ROOMS       0.009377     0.021967  \n",
       "QS_BATHROOM   -0.000471    -0.011377  \n",
       "QS_BEDROOM     0.020118     0.018804  \n",
       "QS_OVERALL     0.017004     0.020556  \n",
       "REG_FEE        0.659903     0.878148  \n",
       "COMMIS         1.000000     0.626275  \n",
       "SALES_PRICE    0.626275     1.000000  "
      ]
     },
     "execution_count": 9,
     "metadata": {},
     "output_type": "execute_result"
    }
   ],
   "source": [
    "df.corr()"
   ]
  },
  {
   "cell_type": "code",
   "execution_count": 10,
   "id": "7cfcb93e",
   "metadata": {},
   "outputs": [
    {
     "name": "stdout",
     "output_type": "stream",
     "text": [
      "<class 'pandas.core.frame.DataFrame'>\n",
      "RangeIndex: 7109 entries, 0 to 7108\n",
      "Data columns (total 22 columns):\n",
      " #   Column         Non-Null Count  Dtype  \n",
      "---  ------         --------------  -----  \n",
      " 0   PRT_ID         7109 non-null   object \n",
      " 1   AREA           7109 non-null   object \n",
      " 2   INT_SQFT       7109 non-null   int64  \n",
      " 3   DATE_SALE      7109 non-null   object \n",
      " 4   DIST_MAINROAD  7109 non-null   int64  \n",
      " 5   N_BEDROOM      7108 non-null   float64\n",
      " 6   N_BATHROOM     7104 non-null   float64\n",
      " 7   N_ROOM         7109 non-null   int64  \n",
      " 8   SALE_COND      7109 non-null   object \n",
      " 9   PARK_FACIL     7109 non-null   object \n",
      " 10  DATE_BUILD     7109 non-null   object \n",
      " 11  BUILDTYPE      7109 non-null   object \n",
      " 12  UTILITY_AVAIL  7109 non-null   object \n",
      " 13  STREET         7109 non-null   object \n",
      " 14  MZZONE         7109 non-null   object \n",
      " 15  QS_ROOMS       7109 non-null   float64\n",
      " 16  QS_BATHROOM    7109 non-null   float64\n",
      " 17  QS_BEDROOM     7109 non-null   float64\n",
      " 18  QS_OVERALL     7061 non-null   float64\n",
      " 19  REG_FEE        7109 non-null   int64  \n",
      " 20  COMMIS         7109 non-null   int64  \n",
      " 21  SALES_PRICE    7109 non-null   int64  \n",
      "dtypes: float64(6), int64(6), object(10)\n",
      "memory usage: 1.2+ MB\n"
     ]
    }
   ],
   "source": [
    "df.info()"
   ]
  },
  {
   "cell_type": "markdown",
   "id": "baeaf379",
   "metadata": {},
   "source": [
    "#             FINDING_NOMINALFEATURE and REPLACING\n",
    "            \n",
    "            "
   ]
  },
  {
   "cell_type": "markdown",
   "id": "0765f721",
   "metadata": {},
   "source": [
    "###   AREA-NOMINAL FEATURES\n",
    "                      "
   ]
  },
  {
   "cell_type": "code",
   "execution_count": 11,
   "id": "c65b8f58",
   "metadata": {},
   "outputs": [
    {
     "data": {
      "text/plain": [
       "array(['Karapakkam', 'Anna Nagar', 'Adyar', 'Velachery', 'Chrompet',\n",
       "       'KK Nagar', 'TNagar', 'T Nagar', 'Chrompt', 'Chrmpet', 'Karapakam',\n",
       "       'Ana Nagar', 'Chormpet', 'Adyr', 'Velchery', 'Ann Nagar',\n",
       "       'KKNagar'], dtype=object)"
      ]
     },
     "execution_count": 11,
     "metadata": {},
     "output_type": "execute_result"
    }
   ],
   "source": [
    "df[\"AREA\"].unique()"
   ]
  },
  {
   "cell_type": "code",
   "execution_count": 12,
   "id": "f083256f",
   "metadata": {},
   "outputs": [],
   "source": [
    "\n",
    "df.replace({\"Karapakam\":\"Karapakkam\",\"Ana Nagar\":\"Anna Nagar\",\"Ann Nagar\":\"Anna Nagar\",\"Adyr\":\"Adyar\",\"Velchery\":\"Velachery\",\"Chrompt\":\"Chrompet\",\"Chrmpet\":\"Chrompet\",\"Chormpet\":\"Chrompet\",\"KKNagar\":\"KK Nagar\",\"T Nagar\":\"TNagar\"},inplace=True)           #"
   ]
  },
  {
   "cell_type": "code",
   "execution_count": 13,
   "id": "7eaed2fa",
   "metadata": {},
   "outputs": [
    {
     "data": {
      "text/plain": [
       "7"
      ]
     },
     "execution_count": 13,
     "metadata": {},
     "output_type": "execute_result"
    }
   ],
   "source": [
    "len(df.AREA.unique())"
   ]
  },
  {
   "cell_type": "code",
   "execution_count": 14,
   "id": "aa42a354",
   "metadata": {},
   "outputs": [
    {
     "data": {
      "text/plain": [
       "0"
      ]
     },
     "execution_count": 14,
     "metadata": {},
     "output_type": "execute_result"
    }
   ],
   "source": [
    "df.AREA.isnull().sum()   #no null valus\n"
   ]
  },
  {
   "cell_type": "code",
   "execution_count": 15,
   "id": "5e7dd5a3",
   "metadata": {},
   "outputs": [
    {
     "data": {
      "text/plain": [
       "Chrompet      1702\n",
       "Karapakkam    1366\n",
       "KK Nagar       997\n",
       "Velachery      981\n",
       "Anna Nagar     788\n",
       "Adyar          774\n",
       "TNagar         501\n",
       "Name: AREA, dtype: int64"
      ]
     },
     "execution_count": 15,
     "metadata": {},
     "output_type": "execute_result"
    }
   ],
   "source": [
    "df.AREA.value_counts()"
   ]
  },
  {
   "cell_type": "markdown",
   "id": "a6c7e88d",
   "metadata": {},
   "source": [
    "###            SALE_COND-NOMINALAL FEATURES\n",
    "              "
   ]
  },
  {
   "cell_type": "code",
   "execution_count": 16,
   "id": "a82f3930",
   "metadata": {},
   "outputs": [
    {
     "data": {
      "text/plain": [
       "array(['AbNormal', 'Family', 'Partial', 'AdjLand', 'Normal Sale',\n",
       "       'Ab Normal', 'Partiall', 'Adj Land', 'PartiaLl'], dtype=object)"
      ]
     },
     "execution_count": 16,
     "metadata": {},
     "output_type": "execute_result"
    }
   ],
   "source": [
    "df[\"SALE_COND\"].unique()\n"
   ]
  },
  {
   "cell_type": "code",
   "execution_count": 17,
   "id": "a7dde16f",
   "metadata": {},
   "outputs": [],
   "source": [
    "df.replace({\"Ab Normal\":\"AbNormal\",\"Partiall\":\"Partial\",\"PartiaLl\":\"Partial\",\"Adj Land\":\"AdjLand\"},inplace=True)"
   ]
  },
  {
   "cell_type": "code",
   "execution_count": 18,
   "id": "3f5fa149",
   "metadata": {},
   "outputs": [
    {
     "data": {
      "text/plain": [
       "5"
      ]
     },
     "execution_count": 18,
     "metadata": {},
     "output_type": "execute_result"
    }
   ],
   "source": [
    "len(df.SALE_COND.unique())"
   ]
  },
  {
   "cell_type": "code",
   "execution_count": 19,
   "id": "cd2cd26d",
   "metadata": {},
   "outputs": [
    {
     "data": {
      "text/plain": [
       "0"
      ]
     },
     "execution_count": 19,
     "metadata": {},
     "output_type": "execute_result"
    }
   ],
   "source": [
    "df.SALE_COND.isnull().sum()    #no null values"
   ]
  },
  {
   "cell_type": "code",
   "execution_count": 20,
   "id": "bc82a7df",
   "metadata": {},
   "outputs": [
    {
     "data": {
      "text/plain": [
       "AdjLand        1439\n",
       "Partial        1433\n",
       "Normal Sale    1423\n",
       "AbNormal       1411\n",
       "Family         1403\n",
       "Name: SALE_COND, dtype: int64"
      ]
     },
     "execution_count": 20,
     "metadata": {},
     "output_type": "execute_result"
    }
   ],
   "source": [
    "df.SALE_COND.value_counts()     #no outlaiyer"
   ]
  },
  {
   "cell_type": "markdown",
   "id": "8c667ff3",
   "metadata": {},
   "source": [
    "###       PARKING FACILITY NOMINAL FEATURE\n",
    "       "
   ]
  },
  {
   "cell_type": "code",
   "execution_count": 21,
   "id": "380a96cf",
   "metadata": {},
   "outputs": [
    {
     "data": {
      "text/plain": [
       "array(['Yes', 'No', 'Noo'], dtype=object)"
      ]
     },
     "execution_count": 21,
     "metadata": {},
     "output_type": "execute_result"
    }
   ],
   "source": [
    "df.PARK_FACIL.unique()"
   ]
  },
  {
   "cell_type": "code",
   "execution_count": 22,
   "id": "260f58be",
   "metadata": {},
   "outputs": [
    {
     "data": {
      "text/plain": [
       "0       Yes\n",
       "1        No\n",
       "2       Yes\n",
       "3        No\n",
       "4       Yes\n",
       "       ... \n",
       "7104     No\n",
       "7105    Yes\n",
       "7106     No\n",
       "7107    Yes\n",
       "7108    Yes\n",
       "Name: PARK_FACIL, Length: 7109, dtype: object"
      ]
     },
     "execution_count": 22,
     "metadata": {},
     "output_type": "execute_result"
    }
   ],
   "source": [
    "df[\"PARK_FACIL\"].replace({\"Noo\":\"No\"},inplace=True)\n",
    "df[\"PARK_FACIL\"]"
   ]
  },
  {
   "cell_type": "code",
   "execution_count": 23,
   "id": "56b0c588",
   "metadata": {},
   "outputs": [
    {
     "data": {
      "text/plain": [
       "0"
      ]
     },
     "execution_count": 23,
     "metadata": {},
     "output_type": "execute_result"
    }
   ],
   "source": [
    "df.PARK_FACIL.isnull().sum()    #no null values"
   ]
  },
  {
   "cell_type": "code",
   "execution_count": 24,
   "id": "aabe8ba3",
   "metadata": {},
   "outputs": [
    {
     "data": {
      "text/plain": [
       "Yes    3587\n",
       "No     3522\n",
       "Name: PARK_FACIL, dtype: int64"
      ]
     },
     "execution_count": 24,
     "metadata": {},
     "output_type": "execute_result"
    }
   ],
   "source": [
    "df.PARK_FACIL.value_counts()  # no outlaiyer"
   ]
  },
  {
   "cell_type": "code",
   "execution_count": 25,
   "id": "463cea29",
   "metadata": {},
   "outputs": [
    {
     "data": {
      "text/plain": [
       "2"
      ]
     },
     "execution_count": 25,
     "metadata": {},
     "output_type": "execute_result"
    }
   ],
   "source": [
    "len(df.PARK_FACIL.unique())"
   ]
  },
  {
   "cell_type": "markdown",
   "id": "ff929c30",
   "metadata": {},
   "source": [
    "### BUILETYPE-NOMINAL FEATURE\n",
    "               "
   ]
  },
  {
   "cell_type": "code",
   "execution_count": 26,
   "id": "d783542d",
   "metadata": {},
   "outputs": [
    {
     "data": {
      "text/plain": [
       "array(['Commercial', 'Others', 'Other', 'House', 'Comercial'],\n",
       "      dtype=object)"
      ]
     },
     "execution_count": 26,
     "metadata": {},
     "output_type": "execute_result"
    }
   ],
   "source": [
    "df.BUILDTYPE.unique()"
   ]
  },
  {
   "cell_type": "code",
   "execution_count": 27,
   "id": "28543a5b",
   "metadata": {},
   "outputs": [
    {
     "data": {
      "text/plain": [
       "0       Commercial\n",
       "1       Commercial\n",
       "2       Commercial\n",
       "3           Others\n",
       "4           Others\n",
       "           ...    \n",
       "7104        Others\n",
       "7105        Others\n",
       "7106         House\n",
       "7107    Commercial\n",
       "7108        Others\n",
       "Name: BUILDTYPE, Length: 7109, dtype: object"
      ]
     },
     "execution_count": 27,
     "metadata": {},
     "output_type": "execute_result"
    }
   ],
   "source": [
    "df[\"BUILDTYPE\"].replace({\"Comercial\":\"Commercial\",\"Other\":\"Others\"},inplace=True)\n",
    "df[\"BUILDTYPE\"]"
   ]
  },
  {
   "cell_type": "code",
   "execution_count": 28,
   "id": "f936080c",
   "metadata": {},
   "outputs": [
    {
     "data": {
      "text/plain": [
       "3"
      ]
     },
     "execution_count": 28,
     "metadata": {},
     "output_type": "execute_result"
    }
   ],
   "source": [
    "len(df.BUILDTYPE.unique())"
   ]
  },
  {
   "cell_type": "code",
   "execution_count": 29,
   "id": "e9d08f41",
   "metadata": {},
   "outputs": [
    {
     "data": {
      "text/plain": [
       "0"
      ]
     },
     "execution_count": 29,
     "metadata": {},
     "output_type": "execute_result"
    }
   ],
   "source": [
    "df.BUILDTYPE.isnull().sum()  #no null values"
   ]
  },
  {
   "cell_type": "code",
   "execution_count": 30,
   "id": "4aaaa585",
   "metadata": {},
   "outputs": [
    {
     "data": {
      "text/plain": [
       "House         2444\n",
       "Others        2336\n",
       "Commercial    2329\n",
       "Name: BUILDTYPE, dtype: int64"
      ]
     },
     "execution_count": 30,
     "metadata": {},
     "output_type": "execute_result"
    }
   ],
   "source": [
    "df.BUILDTYPE.value_counts()  #no outlaiyer"
   ]
  },
  {
   "cell_type": "markdown",
   "id": "df66efb3",
   "metadata": {},
   "source": [
    "### UTILITY_AVAIL -NOMINAL FEATURES \n",
    "            "
   ]
  },
  {
   "cell_type": "code",
   "execution_count": 31,
   "id": "e1f2201b",
   "metadata": {},
   "outputs": [
    {
     "data": {
      "text/plain": [
       "array(['AllPub', 'ELO', 'NoSewr ', 'NoSeWa', 'All Pub'], dtype=object)"
      ]
     },
     "execution_count": 31,
     "metadata": {},
     "output_type": "execute_result"
    }
   ],
   "source": [
    "df.UTILITY_AVAIL.unique()"
   ]
  },
  {
   "cell_type": "code",
   "execution_count": 32,
   "id": "1d7da3f4",
   "metadata": {},
   "outputs": [],
   "source": [
    "df[\"UTILITY_AVAIL\"].replace({\"All Pub\":\"AllPub\",\"NoSeWa\":\"NoSewer\",\"NoSewr \":\"NoSewer\"},inplace=True)\n"
   ]
  },
  {
   "cell_type": "code",
   "execution_count": 33,
   "id": "c119497f",
   "metadata": {},
   "outputs": [
    {
     "data": {
      "text/plain": [
       "3"
      ]
     },
     "execution_count": 33,
     "metadata": {},
     "output_type": "execute_result"
    }
   ],
   "source": [
    "len(df.UTILITY_AVAIL.unique())"
   ]
  },
  {
   "cell_type": "code",
   "execution_count": 34,
   "id": "e15f6c21",
   "metadata": {},
   "outputs": [
    {
     "data": {
      "text/plain": [
       "NoSewer    3700\n",
       "AllPub     1887\n",
       "ELO        1522\n",
       "Name: UTILITY_AVAIL, dtype: int64"
      ]
     },
     "execution_count": 34,
     "metadata": {},
     "output_type": "execute_result"
    }
   ],
   "source": [
    "df.UTILITY_AVAIL.value_counts()"
   ]
  },
  {
   "cell_type": "code",
   "execution_count": 35,
   "id": "38fb1bba",
   "metadata": {},
   "outputs": [
    {
     "data": {
      "text/plain": [
       "0"
      ]
     },
     "execution_count": 35,
     "metadata": {},
     "output_type": "execute_result"
    }
   ],
   "source": [
    "df.UTILITY_AVAIL.isnull().sum()  #no null values"
   ]
  },
  {
   "cell_type": "markdown",
   "id": "c7d6b404",
   "metadata": {},
   "source": [
    "###           STREET -NOMINAL FEATURES\n",
    "                "
   ]
  },
  {
   "cell_type": "code",
   "execution_count": 36,
   "id": "49a00e7f",
   "metadata": {},
   "outputs": [
    {
     "data": {
      "text/plain": [
       "array(['Paved', 'Gravel', 'No Access', 'Pavd', 'NoAccess'], dtype=object)"
      ]
     },
     "execution_count": 36,
     "metadata": {},
     "output_type": "execute_result"
    }
   ],
   "source": [
    "df.STREET.unique()     "
   ]
  },
  {
   "cell_type": "code",
   "execution_count": 37,
   "id": "fa989645",
   "metadata": {},
   "outputs": [],
   "source": [
    "df[\"STREET\"].replace({\"Pavd\":\"Paved\",\"NoAccess\":\"No Access\"},inplace=True)"
   ]
  },
  {
   "cell_type": "code",
   "execution_count": 38,
   "id": "0ac0258b",
   "metadata": {},
   "outputs": [
    {
     "data": {
      "text/plain": [
       "3"
      ]
     },
     "execution_count": 38,
     "metadata": {},
     "output_type": "execute_result"
    }
   ],
   "source": [
    "len(df.STREET.unique())"
   ]
  },
  {
   "cell_type": "code",
   "execution_count": 39,
   "id": "3f0222e0",
   "metadata": {},
   "outputs": [
    {
     "data": {
      "text/plain": [
       "Paved        2572\n",
       "Gravel       2520\n",
       "No Access    2017\n",
       "Name: STREET, dtype: int64"
      ]
     },
     "execution_count": 39,
     "metadata": {},
     "output_type": "execute_result"
    }
   ],
   "source": [
    "df.STREET.value_counts()"
   ]
  },
  {
   "cell_type": "code",
   "execution_count": 40,
   "id": "87d3399c",
   "metadata": {},
   "outputs": [
    {
     "data": {
      "text/plain": [
       "0"
      ]
     },
     "execution_count": 40,
     "metadata": {},
     "output_type": "execute_result"
    }
   ],
   "source": [
    "df.STREET.isnull().sum()    #no null values"
   ]
  },
  {
   "cell_type": "markdown",
   "id": "1f32ae68",
   "metadata": {},
   "source": [
    "### MZZONE-NOMINAL FEATURES\n",
    "            "
   ]
  },
  {
   "cell_type": "code",
   "execution_count": 41,
   "id": "28d8ec29",
   "metadata": {},
   "outputs": [
    {
     "data": {
      "text/plain": [
       "array(['A', 'RH', 'RL', 'I', 'C', 'RM'], dtype=object)"
      ]
     },
     "execution_count": 41,
     "metadata": {},
     "output_type": "execute_result"
    }
   ],
   "source": [
    "df.MZZONE.unique()"
   ]
  },
  {
   "cell_type": "code",
   "execution_count": 42,
   "id": "59a4ac55",
   "metadata": {},
   "outputs": [
    {
     "data": {
      "text/plain": [
       "array(['A', 'C', 'I', 'RH', 'RL', 'RM'], dtype=object)"
      ]
     },
     "execution_count": 42,
     "metadata": {},
     "output_type": "execute_result"
    }
   ],
   "source": [
    "np.sort(df.MZZONE.unique()) #A-agriculture,  C-commorcial,  I-indestrial,\n",
    "                            #RH-residantial high dimensity,\n",
    "                             #Rl-residantial low dimasity,\n",
    "                              #RM-residantial mediam dimasity"
   ]
  },
  {
   "cell_type": "code",
   "execution_count": 43,
   "id": "9b744e9e",
   "metadata": {},
   "outputs": [
    {
     "data": {
      "text/plain": [
       "RL    1858\n",
       "RH    1822\n",
       "RM    1817\n",
       "C      550\n",
       "A      537\n",
       "I      525\n",
       "Name: MZZONE, dtype: int64"
      ]
     },
     "execution_count": 43,
     "metadata": {},
     "output_type": "execute_result"
    }
   ],
   "source": [
    "df.MZZONE.value_counts()"
   ]
  },
  {
   "cell_type": "code",
   "execution_count": 44,
   "id": "2770d858",
   "metadata": {},
   "outputs": [
    {
     "data": {
      "text/plain": [
       "6"
      ]
     },
     "execution_count": 44,
     "metadata": {},
     "output_type": "execute_result"
    }
   ],
   "source": [
    "len(df.MZZONE.unique())"
   ]
  },
  {
   "cell_type": "code",
   "execution_count": 45,
   "id": "191df6d2",
   "metadata": {},
   "outputs": [
    {
     "data": {
      "text/plain": [
       "0"
      ]
     },
     "execution_count": 45,
     "metadata": {},
     "output_type": "execute_result"
    }
   ],
   "source": [
    "df.MZZONE.isnull().sum()        #no null values"
   ]
  },
  {
   "cell_type": "code",
   "execution_count": 46,
   "id": "37b496f8",
   "metadata": {},
   "outputs": [
    {
     "name": "stdout",
     "output_type": "stream",
     "text": [
      "<class 'pandas.core.frame.DataFrame'>\n",
      "RangeIndex: 7109 entries, 0 to 7108\n",
      "Data columns (total 22 columns):\n",
      " #   Column         Non-Null Count  Dtype  \n",
      "---  ------         --------------  -----  \n",
      " 0   PRT_ID         7109 non-null   object \n",
      " 1   AREA           7109 non-null   object \n",
      " 2   INT_SQFT       7109 non-null   int64  \n",
      " 3   DATE_SALE      7109 non-null   object \n",
      " 4   DIST_MAINROAD  7109 non-null   int64  \n",
      " 5   N_BEDROOM      7108 non-null   float64\n",
      " 6   N_BATHROOM     7104 non-null   float64\n",
      " 7   N_ROOM         7109 non-null   int64  \n",
      " 8   SALE_COND      7109 non-null   object \n",
      " 9   PARK_FACIL     7109 non-null   object \n",
      " 10  DATE_BUILD     7109 non-null   object \n",
      " 11  BUILDTYPE      7109 non-null   object \n",
      " 12  UTILITY_AVAIL  7109 non-null   object \n",
      " 13  STREET         7109 non-null   object \n",
      " 14  MZZONE         7109 non-null   object \n",
      " 15  QS_ROOMS       7109 non-null   float64\n",
      " 16  QS_BATHROOM    7109 non-null   float64\n",
      " 17  QS_BEDROOM     7109 non-null   float64\n",
      " 18  QS_OVERALL     7061 non-null   float64\n",
      " 19  REG_FEE        7109 non-null   int64  \n",
      " 20  COMMIS         7109 non-null   int64  \n",
      " 21  SALES_PRICE    7109 non-null   int64  \n",
      "dtypes: float64(6), int64(6), object(10)\n",
      "memory usage: 1.2+ MB\n"
     ]
    }
   ],
   "source": [
    "df.info()"
   ]
  },
  {
   "cell_type": "markdown",
   "id": "13f41fe8",
   "metadata": {},
   "source": [
    "#                                     CONVERTING   DATA AND  TIME \n",
    "                          \n",
    "                          "
   ]
  },
  {
   "cell_type": "markdown",
   "id": "07959bed",
   "metadata": {},
   "source": [
    "###                DATE_SALE   "
   ]
  },
  {
   "cell_type": "code",
   "execution_count": 47,
   "id": "5cc3a419",
   "metadata": {},
   "outputs": [
    {
     "data": {
      "text/html": [
       "<div>\n",
       "<style scoped>\n",
       "    .dataframe tbody tr th:only-of-type {\n",
       "        vertical-align: middle;\n",
       "    }\n",
       "\n",
       "    .dataframe tbody tr th {\n",
       "        vertical-align: top;\n",
       "    }\n",
       "\n",
       "    .dataframe thead th {\n",
       "        text-align: right;\n",
       "    }\n",
       "</style>\n",
       "<table border=\"1\" class=\"dataframe\">\n",
       "  <thead>\n",
       "    <tr style=\"text-align: right;\">\n",
       "      <th></th>\n",
       "      <th>PRT_ID</th>\n",
       "      <th>AREA</th>\n",
       "      <th>INT_SQFT</th>\n",
       "      <th>DATE_SALE</th>\n",
       "      <th>DIST_MAINROAD</th>\n",
       "      <th>N_BEDROOM</th>\n",
       "      <th>N_BATHROOM</th>\n",
       "      <th>N_ROOM</th>\n",
       "      <th>SALE_COND</th>\n",
       "      <th>PARK_FACIL</th>\n",
       "      <th>...</th>\n",
       "      <th>UTILITY_AVAIL</th>\n",
       "      <th>STREET</th>\n",
       "      <th>MZZONE</th>\n",
       "      <th>QS_ROOMS</th>\n",
       "      <th>QS_BATHROOM</th>\n",
       "      <th>QS_BEDROOM</th>\n",
       "      <th>QS_OVERALL</th>\n",
       "      <th>REG_FEE</th>\n",
       "      <th>COMMIS</th>\n",
       "      <th>SALES_PRICE</th>\n",
       "    </tr>\n",
       "  </thead>\n",
       "  <tbody>\n",
       "    <tr>\n",
       "      <th>0</th>\n",
       "      <td>P03210</td>\n",
       "      <td>Karapakkam</td>\n",
       "      <td>1004</td>\n",
       "      <td>2011-04-05</td>\n",
       "      <td>131</td>\n",
       "      <td>1.0</td>\n",
       "      <td>1.0</td>\n",
       "      <td>3</td>\n",
       "      <td>AbNormal</td>\n",
       "      <td>Yes</td>\n",
       "      <td>...</td>\n",
       "      <td>AllPub</td>\n",
       "      <td>Paved</td>\n",
       "      <td>A</td>\n",
       "      <td>4.0</td>\n",
       "      <td>3.9</td>\n",
       "      <td>4.9</td>\n",
       "      <td>4.330</td>\n",
       "      <td>380000</td>\n",
       "      <td>144400</td>\n",
       "      <td>7600000</td>\n",
       "    </tr>\n",
       "    <tr>\n",
       "      <th>1</th>\n",
       "      <td>P09411</td>\n",
       "      <td>Anna Nagar</td>\n",
       "      <td>1986</td>\n",
       "      <td>2006-12-19</td>\n",
       "      <td>26</td>\n",
       "      <td>2.0</td>\n",
       "      <td>1.0</td>\n",
       "      <td>5</td>\n",
       "      <td>AbNormal</td>\n",
       "      <td>No</td>\n",
       "      <td>...</td>\n",
       "      <td>AllPub</td>\n",
       "      <td>Gravel</td>\n",
       "      <td>RH</td>\n",
       "      <td>4.9</td>\n",
       "      <td>4.2</td>\n",
       "      <td>2.5</td>\n",
       "      <td>3.765</td>\n",
       "      <td>760122</td>\n",
       "      <td>304049</td>\n",
       "      <td>21717770</td>\n",
       "    </tr>\n",
       "    <tr>\n",
       "      <th>2</th>\n",
       "      <td>P01812</td>\n",
       "      <td>Adyar</td>\n",
       "      <td>909</td>\n",
       "      <td>2012-04-02</td>\n",
       "      <td>70</td>\n",
       "      <td>1.0</td>\n",
       "      <td>1.0</td>\n",
       "      <td>3</td>\n",
       "      <td>AbNormal</td>\n",
       "      <td>Yes</td>\n",
       "      <td>...</td>\n",
       "      <td>ELO</td>\n",
       "      <td>Gravel</td>\n",
       "      <td>RL</td>\n",
       "      <td>4.1</td>\n",
       "      <td>3.8</td>\n",
       "      <td>2.2</td>\n",
       "      <td>3.090</td>\n",
       "      <td>421094</td>\n",
       "      <td>92114</td>\n",
       "      <td>13159200</td>\n",
       "    </tr>\n",
       "    <tr>\n",
       "      <th>3</th>\n",
       "      <td>P05346</td>\n",
       "      <td>Velachery</td>\n",
       "      <td>1855</td>\n",
       "      <td>2010-03-13</td>\n",
       "      <td>14</td>\n",
       "      <td>3.0</td>\n",
       "      <td>2.0</td>\n",
       "      <td>5</td>\n",
       "      <td>Family</td>\n",
       "      <td>No</td>\n",
       "      <td>...</td>\n",
       "      <td>NoSewer</td>\n",
       "      <td>Paved</td>\n",
       "      <td>I</td>\n",
       "      <td>4.7</td>\n",
       "      <td>3.9</td>\n",
       "      <td>3.6</td>\n",
       "      <td>4.010</td>\n",
       "      <td>356321</td>\n",
       "      <td>77042</td>\n",
       "      <td>9630290</td>\n",
       "    </tr>\n",
       "    <tr>\n",
       "      <th>4</th>\n",
       "      <td>P06210</td>\n",
       "      <td>Karapakkam</td>\n",
       "      <td>1226</td>\n",
       "      <td>2009-05-10</td>\n",
       "      <td>84</td>\n",
       "      <td>1.0</td>\n",
       "      <td>1.0</td>\n",
       "      <td>3</td>\n",
       "      <td>AbNormal</td>\n",
       "      <td>Yes</td>\n",
       "      <td>...</td>\n",
       "      <td>AllPub</td>\n",
       "      <td>Gravel</td>\n",
       "      <td>C</td>\n",
       "      <td>3.0</td>\n",
       "      <td>2.5</td>\n",
       "      <td>4.1</td>\n",
       "      <td>3.290</td>\n",
       "      <td>237000</td>\n",
       "      <td>74063</td>\n",
       "      <td>7406250</td>\n",
       "    </tr>\n",
       "    <tr>\n",
       "      <th>...</th>\n",
       "      <td>...</td>\n",
       "      <td>...</td>\n",
       "      <td>...</td>\n",
       "      <td>...</td>\n",
       "      <td>...</td>\n",
       "      <td>...</td>\n",
       "      <td>...</td>\n",
       "      <td>...</td>\n",
       "      <td>...</td>\n",
       "      <td>...</td>\n",
       "      <td>...</td>\n",
       "      <td>...</td>\n",
       "      <td>...</td>\n",
       "      <td>...</td>\n",
       "      <td>...</td>\n",
       "      <td>...</td>\n",
       "      <td>...</td>\n",
       "      <td>...</td>\n",
       "      <td>...</td>\n",
       "      <td>...</td>\n",
       "      <td>...</td>\n",
       "    </tr>\n",
       "    <tr>\n",
       "      <th>7104</th>\n",
       "      <td>P03834</td>\n",
       "      <td>Karapakkam</td>\n",
       "      <td>598</td>\n",
       "      <td>2011-03-01</td>\n",
       "      <td>51</td>\n",
       "      <td>1.0</td>\n",
       "      <td>1.0</td>\n",
       "      <td>2</td>\n",
       "      <td>AdjLand</td>\n",
       "      <td>No</td>\n",
       "      <td>...</td>\n",
       "      <td>ELO</td>\n",
       "      <td>No Access</td>\n",
       "      <td>RM</td>\n",
       "      <td>3.0</td>\n",
       "      <td>2.2</td>\n",
       "      <td>2.4</td>\n",
       "      <td>2.520</td>\n",
       "      <td>208767</td>\n",
       "      <td>107060</td>\n",
       "      <td>5353000</td>\n",
       "    </tr>\n",
       "    <tr>\n",
       "      <th>7105</th>\n",
       "      <td>P10000</td>\n",
       "      <td>Velachery</td>\n",
       "      <td>1897</td>\n",
       "      <td>2004-08-04</td>\n",
       "      <td>52</td>\n",
       "      <td>3.0</td>\n",
       "      <td>2.0</td>\n",
       "      <td>5</td>\n",
       "      <td>Family</td>\n",
       "      <td>Yes</td>\n",
       "      <td>...</td>\n",
       "      <td>NoSewer</td>\n",
       "      <td>No Access</td>\n",
       "      <td>RH</td>\n",
       "      <td>3.6</td>\n",
       "      <td>4.5</td>\n",
       "      <td>3.3</td>\n",
       "      <td>3.920</td>\n",
       "      <td>346191</td>\n",
       "      <td>205551</td>\n",
       "      <td>10818480</td>\n",
       "    </tr>\n",
       "    <tr>\n",
       "      <th>7106</th>\n",
       "      <td>P09594</td>\n",
       "      <td>Velachery</td>\n",
       "      <td>1614</td>\n",
       "      <td>2006-08-25</td>\n",
       "      <td>152</td>\n",
       "      <td>2.0</td>\n",
       "      <td>1.0</td>\n",
       "      <td>4</td>\n",
       "      <td>Normal Sale</td>\n",
       "      <td>No</td>\n",
       "      <td>...</td>\n",
       "      <td>NoSewer</td>\n",
       "      <td>Gravel</td>\n",
       "      <td>I</td>\n",
       "      <td>4.3</td>\n",
       "      <td>4.2</td>\n",
       "      <td>2.9</td>\n",
       "      <td>3.840</td>\n",
       "      <td>317354</td>\n",
       "      <td>167028</td>\n",
       "      <td>8351410</td>\n",
       "    </tr>\n",
       "    <tr>\n",
       "      <th>7107</th>\n",
       "      <td>P06508</td>\n",
       "      <td>Karapakkam</td>\n",
       "      <td>787</td>\n",
       "      <td>2009-03-08</td>\n",
       "      <td>40</td>\n",
       "      <td>1.0</td>\n",
       "      <td>1.0</td>\n",
       "      <td>2</td>\n",
       "      <td>Partial</td>\n",
       "      <td>Yes</td>\n",
       "      <td>...</td>\n",
       "      <td>ELO</td>\n",
       "      <td>Paved</td>\n",
       "      <td>RL</td>\n",
       "      <td>4.6</td>\n",
       "      <td>3.8</td>\n",
       "      <td>4.1</td>\n",
       "      <td>4.160</td>\n",
       "      <td>425350</td>\n",
       "      <td>119098</td>\n",
       "      <td>8507000</td>\n",
       "    </tr>\n",
       "    <tr>\n",
       "      <th>7108</th>\n",
       "      <td>P09794</td>\n",
       "      <td>Velachery</td>\n",
       "      <td>1896</td>\n",
       "      <td>2005-07-13</td>\n",
       "      <td>156</td>\n",
       "      <td>3.0</td>\n",
       "      <td>2.0</td>\n",
       "      <td>5</td>\n",
       "      <td>Partial</td>\n",
       "      <td>Yes</td>\n",
       "      <td>...</td>\n",
       "      <td>ELO</td>\n",
       "      <td>Paved</td>\n",
       "      <td>I</td>\n",
       "      <td>3.1</td>\n",
       "      <td>3.5</td>\n",
       "      <td>4.3</td>\n",
       "      <td>3.640</td>\n",
       "      <td>349177</td>\n",
       "      <td>79812</td>\n",
       "      <td>9976480</td>\n",
       "    </tr>\n",
       "  </tbody>\n",
       "</table>\n",
       "<p>7109 rows × 22 columns</p>\n",
       "</div>"
      ],
      "text/plain": [
       "      PRT_ID        AREA  INT_SQFT  DATE_SALE  DIST_MAINROAD  N_BEDROOM  \\\n",
       "0     P03210  Karapakkam      1004 2011-04-05            131        1.0   \n",
       "1     P09411  Anna Nagar      1986 2006-12-19             26        2.0   \n",
       "2     P01812       Adyar       909 2012-04-02             70        1.0   \n",
       "3     P05346   Velachery      1855 2010-03-13             14        3.0   \n",
       "4     P06210  Karapakkam      1226 2009-05-10             84        1.0   \n",
       "...      ...         ...       ...        ...            ...        ...   \n",
       "7104  P03834  Karapakkam       598 2011-03-01             51        1.0   \n",
       "7105  P10000   Velachery      1897 2004-08-04             52        3.0   \n",
       "7106  P09594   Velachery      1614 2006-08-25            152        2.0   \n",
       "7107  P06508  Karapakkam       787 2009-03-08             40        1.0   \n",
       "7108  P09794   Velachery      1896 2005-07-13            156        3.0   \n",
       "\n",
       "      N_BATHROOM  N_ROOM    SALE_COND PARK_FACIL  ... UTILITY_AVAIL  \\\n",
       "0            1.0       3     AbNormal        Yes  ...        AllPub   \n",
       "1            1.0       5     AbNormal         No  ...        AllPub   \n",
       "2            1.0       3     AbNormal        Yes  ...           ELO   \n",
       "3            2.0       5       Family         No  ...       NoSewer   \n",
       "4            1.0       3     AbNormal        Yes  ...        AllPub   \n",
       "...          ...     ...          ...        ...  ...           ...   \n",
       "7104         1.0       2      AdjLand         No  ...           ELO   \n",
       "7105         2.0       5       Family        Yes  ...       NoSewer   \n",
       "7106         1.0       4  Normal Sale         No  ...       NoSewer   \n",
       "7107         1.0       2      Partial        Yes  ...           ELO   \n",
       "7108         2.0       5      Partial        Yes  ...           ELO   \n",
       "\n",
       "         STREET MZZONE QS_ROOMS QS_BATHROOM  QS_BEDROOM  QS_OVERALL  REG_FEE  \\\n",
       "0         Paved      A      4.0         3.9         4.9       4.330   380000   \n",
       "1        Gravel     RH      4.9         4.2         2.5       3.765   760122   \n",
       "2        Gravel     RL      4.1         3.8         2.2       3.090   421094   \n",
       "3         Paved      I      4.7         3.9         3.6       4.010   356321   \n",
       "4        Gravel      C      3.0         2.5         4.1       3.290   237000   \n",
       "...         ...    ...      ...         ...         ...         ...      ...   \n",
       "7104  No Access     RM      3.0         2.2         2.4       2.520   208767   \n",
       "7105  No Access     RH      3.6         4.5         3.3       3.920   346191   \n",
       "7106     Gravel      I      4.3         4.2         2.9       3.840   317354   \n",
       "7107      Paved     RL      4.6         3.8         4.1       4.160   425350   \n",
       "7108      Paved      I      3.1         3.5         4.3       3.640   349177   \n",
       "\n",
       "      COMMIS  SALES_PRICE  \n",
       "0     144400      7600000  \n",
       "1     304049     21717770  \n",
       "2      92114     13159200  \n",
       "3      77042      9630290  \n",
       "4      74063      7406250  \n",
       "...      ...          ...  \n",
       "7104  107060      5353000  \n",
       "7105  205551     10818480  \n",
       "7106  167028      8351410  \n",
       "7107  119098      8507000  \n",
       "7108   79812      9976480  \n",
       "\n",
       "[7109 rows x 22 columns]"
      ]
     },
     "execution_count": 47,
     "metadata": {},
     "output_type": "execute_result"
    }
   ],
   "source": [
    "df[\"DATE_SALE\"]=pd.to_datetime(df[\"DATE_SALE\"])\n",
    "df"
   ]
  },
  {
   "cell_type": "markdown",
   "id": "c81d5c2a",
   "metadata": {},
   "source": [
    "### DATE_BUILD  "
   ]
  },
  {
   "cell_type": "code",
   "execution_count": 48,
   "id": "91ac1e77",
   "metadata": {},
   "outputs": [
    {
     "data": {
      "text/html": [
       "<div>\n",
       "<style scoped>\n",
       "    .dataframe tbody tr th:only-of-type {\n",
       "        vertical-align: middle;\n",
       "    }\n",
       "\n",
       "    .dataframe tbody tr th {\n",
       "        vertical-align: top;\n",
       "    }\n",
       "\n",
       "    .dataframe thead th {\n",
       "        text-align: right;\n",
       "    }\n",
       "</style>\n",
       "<table border=\"1\" class=\"dataframe\">\n",
       "  <thead>\n",
       "    <tr style=\"text-align: right;\">\n",
       "      <th></th>\n",
       "      <th>PRT_ID</th>\n",
       "      <th>AREA</th>\n",
       "      <th>INT_SQFT</th>\n",
       "      <th>DATE_SALE</th>\n",
       "      <th>DIST_MAINROAD</th>\n",
       "      <th>N_BEDROOM</th>\n",
       "      <th>N_BATHROOM</th>\n",
       "      <th>N_ROOM</th>\n",
       "      <th>SALE_COND</th>\n",
       "      <th>PARK_FACIL</th>\n",
       "      <th>...</th>\n",
       "      <th>UTILITY_AVAIL</th>\n",
       "      <th>STREET</th>\n",
       "      <th>MZZONE</th>\n",
       "      <th>QS_ROOMS</th>\n",
       "      <th>QS_BATHROOM</th>\n",
       "      <th>QS_BEDROOM</th>\n",
       "      <th>QS_OVERALL</th>\n",
       "      <th>REG_FEE</th>\n",
       "      <th>COMMIS</th>\n",
       "      <th>SALES_PRICE</th>\n",
       "    </tr>\n",
       "  </thead>\n",
       "  <tbody>\n",
       "    <tr>\n",
       "      <th>0</th>\n",
       "      <td>P03210</td>\n",
       "      <td>Karapakkam</td>\n",
       "      <td>1004</td>\n",
       "      <td>2011-04-05</td>\n",
       "      <td>131</td>\n",
       "      <td>1.0</td>\n",
       "      <td>1.0</td>\n",
       "      <td>3</td>\n",
       "      <td>AbNormal</td>\n",
       "      <td>Yes</td>\n",
       "      <td>...</td>\n",
       "      <td>AllPub</td>\n",
       "      <td>Paved</td>\n",
       "      <td>A</td>\n",
       "      <td>4.0</td>\n",
       "      <td>3.9</td>\n",
       "      <td>4.9</td>\n",
       "      <td>4.330</td>\n",
       "      <td>380000</td>\n",
       "      <td>144400</td>\n",
       "      <td>7600000</td>\n",
       "    </tr>\n",
       "    <tr>\n",
       "      <th>1</th>\n",
       "      <td>P09411</td>\n",
       "      <td>Anna Nagar</td>\n",
       "      <td>1986</td>\n",
       "      <td>2006-12-19</td>\n",
       "      <td>26</td>\n",
       "      <td>2.0</td>\n",
       "      <td>1.0</td>\n",
       "      <td>5</td>\n",
       "      <td>AbNormal</td>\n",
       "      <td>No</td>\n",
       "      <td>...</td>\n",
       "      <td>AllPub</td>\n",
       "      <td>Gravel</td>\n",
       "      <td>RH</td>\n",
       "      <td>4.9</td>\n",
       "      <td>4.2</td>\n",
       "      <td>2.5</td>\n",
       "      <td>3.765</td>\n",
       "      <td>760122</td>\n",
       "      <td>304049</td>\n",
       "      <td>21717770</td>\n",
       "    </tr>\n",
       "    <tr>\n",
       "      <th>2</th>\n",
       "      <td>P01812</td>\n",
       "      <td>Adyar</td>\n",
       "      <td>909</td>\n",
       "      <td>2012-04-02</td>\n",
       "      <td>70</td>\n",
       "      <td>1.0</td>\n",
       "      <td>1.0</td>\n",
       "      <td>3</td>\n",
       "      <td>AbNormal</td>\n",
       "      <td>Yes</td>\n",
       "      <td>...</td>\n",
       "      <td>ELO</td>\n",
       "      <td>Gravel</td>\n",
       "      <td>RL</td>\n",
       "      <td>4.1</td>\n",
       "      <td>3.8</td>\n",
       "      <td>2.2</td>\n",
       "      <td>3.090</td>\n",
       "      <td>421094</td>\n",
       "      <td>92114</td>\n",
       "      <td>13159200</td>\n",
       "    </tr>\n",
       "    <tr>\n",
       "      <th>3</th>\n",
       "      <td>P05346</td>\n",
       "      <td>Velachery</td>\n",
       "      <td>1855</td>\n",
       "      <td>2010-03-13</td>\n",
       "      <td>14</td>\n",
       "      <td>3.0</td>\n",
       "      <td>2.0</td>\n",
       "      <td>5</td>\n",
       "      <td>Family</td>\n",
       "      <td>No</td>\n",
       "      <td>...</td>\n",
       "      <td>NoSewer</td>\n",
       "      <td>Paved</td>\n",
       "      <td>I</td>\n",
       "      <td>4.7</td>\n",
       "      <td>3.9</td>\n",
       "      <td>3.6</td>\n",
       "      <td>4.010</td>\n",
       "      <td>356321</td>\n",
       "      <td>77042</td>\n",
       "      <td>9630290</td>\n",
       "    </tr>\n",
       "    <tr>\n",
       "      <th>4</th>\n",
       "      <td>P06210</td>\n",
       "      <td>Karapakkam</td>\n",
       "      <td>1226</td>\n",
       "      <td>2009-05-10</td>\n",
       "      <td>84</td>\n",
       "      <td>1.0</td>\n",
       "      <td>1.0</td>\n",
       "      <td>3</td>\n",
       "      <td>AbNormal</td>\n",
       "      <td>Yes</td>\n",
       "      <td>...</td>\n",
       "      <td>AllPub</td>\n",
       "      <td>Gravel</td>\n",
       "      <td>C</td>\n",
       "      <td>3.0</td>\n",
       "      <td>2.5</td>\n",
       "      <td>4.1</td>\n",
       "      <td>3.290</td>\n",
       "      <td>237000</td>\n",
       "      <td>74063</td>\n",
       "      <td>7406250</td>\n",
       "    </tr>\n",
       "    <tr>\n",
       "      <th>...</th>\n",
       "      <td>...</td>\n",
       "      <td>...</td>\n",
       "      <td>...</td>\n",
       "      <td>...</td>\n",
       "      <td>...</td>\n",
       "      <td>...</td>\n",
       "      <td>...</td>\n",
       "      <td>...</td>\n",
       "      <td>...</td>\n",
       "      <td>...</td>\n",
       "      <td>...</td>\n",
       "      <td>...</td>\n",
       "      <td>...</td>\n",
       "      <td>...</td>\n",
       "      <td>...</td>\n",
       "      <td>...</td>\n",
       "      <td>...</td>\n",
       "      <td>...</td>\n",
       "      <td>...</td>\n",
       "      <td>...</td>\n",
       "      <td>...</td>\n",
       "    </tr>\n",
       "    <tr>\n",
       "      <th>7104</th>\n",
       "      <td>P03834</td>\n",
       "      <td>Karapakkam</td>\n",
       "      <td>598</td>\n",
       "      <td>2011-03-01</td>\n",
       "      <td>51</td>\n",
       "      <td>1.0</td>\n",
       "      <td>1.0</td>\n",
       "      <td>2</td>\n",
       "      <td>AdjLand</td>\n",
       "      <td>No</td>\n",
       "      <td>...</td>\n",
       "      <td>ELO</td>\n",
       "      <td>No Access</td>\n",
       "      <td>RM</td>\n",
       "      <td>3.0</td>\n",
       "      <td>2.2</td>\n",
       "      <td>2.4</td>\n",
       "      <td>2.520</td>\n",
       "      <td>208767</td>\n",
       "      <td>107060</td>\n",
       "      <td>5353000</td>\n",
       "    </tr>\n",
       "    <tr>\n",
       "      <th>7105</th>\n",
       "      <td>P10000</td>\n",
       "      <td>Velachery</td>\n",
       "      <td>1897</td>\n",
       "      <td>2004-08-04</td>\n",
       "      <td>52</td>\n",
       "      <td>3.0</td>\n",
       "      <td>2.0</td>\n",
       "      <td>5</td>\n",
       "      <td>Family</td>\n",
       "      <td>Yes</td>\n",
       "      <td>...</td>\n",
       "      <td>NoSewer</td>\n",
       "      <td>No Access</td>\n",
       "      <td>RH</td>\n",
       "      <td>3.6</td>\n",
       "      <td>4.5</td>\n",
       "      <td>3.3</td>\n",
       "      <td>3.920</td>\n",
       "      <td>346191</td>\n",
       "      <td>205551</td>\n",
       "      <td>10818480</td>\n",
       "    </tr>\n",
       "    <tr>\n",
       "      <th>7106</th>\n",
       "      <td>P09594</td>\n",
       "      <td>Velachery</td>\n",
       "      <td>1614</td>\n",
       "      <td>2006-08-25</td>\n",
       "      <td>152</td>\n",
       "      <td>2.0</td>\n",
       "      <td>1.0</td>\n",
       "      <td>4</td>\n",
       "      <td>Normal Sale</td>\n",
       "      <td>No</td>\n",
       "      <td>...</td>\n",
       "      <td>NoSewer</td>\n",
       "      <td>Gravel</td>\n",
       "      <td>I</td>\n",
       "      <td>4.3</td>\n",
       "      <td>4.2</td>\n",
       "      <td>2.9</td>\n",
       "      <td>3.840</td>\n",
       "      <td>317354</td>\n",
       "      <td>167028</td>\n",
       "      <td>8351410</td>\n",
       "    </tr>\n",
       "    <tr>\n",
       "      <th>7107</th>\n",
       "      <td>P06508</td>\n",
       "      <td>Karapakkam</td>\n",
       "      <td>787</td>\n",
       "      <td>2009-03-08</td>\n",
       "      <td>40</td>\n",
       "      <td>1.0</td>\n",
       "      <td>1.0</td>\n",
       "      <td>2</td>\n",
       "      <td>Partial</td>\n",
       "      <td>Yes</td>\n",
       "      <td>...</td>\n",
       "      <td>ELO</td>\n",
       "      <td>Paved</td>\n",
       "      <td>RL</td>\n",
       "      <td>4.6</td>\n",
       "      <td>3.8</td>\n",
       "      <td>4.1</td>\n",
       "      <td>4.160</td>\n",
       "      <td>425350</td>\n",
       "      <td>119098</td>\n",
       "      <td>8507000</td>\n",
       "    </tr>\n",
       "    <tr>\n",
       "      <th>7108</th>\n",
       "      <td>P09794</td>\n",
       "      <td>Velachery</td>\n",
       "      <td>1896</td>\n",
       "      <td>2005-07-13</td>\n",
       "      <td>156</td>\n",
       "      <td>3.0</td>\n",
       "      <td>2.0</td>\n",
       "      <td>5</td>\n",
       "      <td>Partial</td>\n",
       "      <td>Yes</td>\n",
       "      <td>...</td>\n",
       "      <td>ELO</td>\n",
       "      <td>Paved</td>\n",
       "      <td>I</td>\n",
       "      <td>3.1</td>\n",
       "      <td>3.5</td>\n",
       "      <td>4.3</td>\n",
       "      <td>3.640</td>\n",
       "      <td>349177</td>\n",
       "      <td>79812</td>\n",
       "      <td>9976480</td>\n",
       "    </tr>\n",
       "  </tbody>\n",
       "</table>\n",
       "<p>7109 rows × 22 columns</p>\n",
       "</div>"
      ],
      "text/plain": [
       "      PRT_ID        AREA  INT_SQFT  DATE_SALE  DIST_MAINROAD  N_BEDROOM  \\\n",
       "0     P03210  Karapakkam      1004 2011-04-05            131        1.0   \n",
       "1     P09411  Anna Nagar      1986 2006-12-19             26        2.0   \n",
       "2     P01812       Adyar       909 2012-04-02             70        1.0   \n",
       "3     P05346   Velachery      1855 2010-03-13             14        3.0   \n",
       "4     P06210  Karapakkam      1226 2009-05-10             84        1.0   \n",
       "...      ...         ...       ...        ...            ...        ...   \n",
       "7104  P03834  Karapakkam       598 2011-03-01             51        1.0   \n",
       "7105  P10000   Velachery      1897 2004-08-04             52        3.0   \n",
       "7106  P09594   Velachery      1614 2006-08-25            152        2.0   \n",
       "7107  P06508  Karapakkam       787 2009-03-08             40        1.0   \n",
       "7108  P09794   Velachery      1896 2005-07-13            156        3.0   \n",
       "\n",
       "      N_BATHROOM  N_ROOM    SALE_COND PARK_FACIL  ... UTILITY_AVAIL  \\\n",
       "0            1.0       3     AbNormal        Yes  ...        AllPub   \n",
       "1            1.0       5     AbNormal         No  ...        AllPub   \n",
       "2            1.0       3     AbNormal        Yes  ...           ELO   \n",
       "3            2.0       5       Family         No  ...       NoSewer   \n",
       "4            1.0       3     AbNormal        Yes  ...        AllPub   \n",
       "...          ...     ...          ...        ...  ...           ...   \n",
       "7104         1.0       2      AdjLand         No  ...           ELO   \n",
       "7105         2.0       5       Family        Yes  ...       NoSewer   \n",
       "7106         1.0       4  Normal Sale         No  ...       NoSewer   \n",
       "7107         1.0       2      Partial        Yes  ...           ELO   \n",
       "7108         2.0       5      Partial        Yes  ...           ELO   \n",
       "\n",
       "         STREET MZZONE QS_ROOMS QS_BATHROOM  QS_BEDROOM  QS_OVERALL  REG_FEE  \\\n",
       "0         Paved      A      4.0         3.9         4.9       4.330   380000   \n",
       "1        Gravel     RH      4.9         4.2         2.5       3.765   760122   \n",
       "2        Gravel     RL      4.1         3.8         2.2       3.090   421094   \n",
       "3         Paved      I      4.7         3.9         3.6       4.010   356321   \n",
       "4        Gravel      C      3.0         2.5         4.1       3.290   237000   \n",
       "...         ...    ...      ...         ...         ...         ...      ...   \n",
       "7104  No Access     RM      3.0         2.2         2.4       2.520   208767   \n",
       "7105  No Access     RH      3.6         4.5         3.3       3.920   346191   \n",
       "7106     Gravel      I      4.3         4.2         2.9       3.840   317354   \n",
       "7107      Paved     RL      4.6         3.8         4.1       4.160   425350   \n",
       "7108      Paved      I      3.1         3.5         4.3       3.640   349177   \n",
       "\n",
       "      COMMIS  SALES_PRICE  \n",
       "0     144400      7600000  \n",
       "1     304049     21717770  \n",
       "2      92114     13159200  \n",
       "3      77042      9630290  \n",
       "4      74063      7406250  \n",
       "...      ...          ...  \n",
       "7104  107060      5353000  \n",
       "7105  205551     10818480  \n",
       "7106  167028      8351410  \n",
       "7107  119098      8507000  \n",
       "7108   79812      9976480  \n",
       "\n",
       "[7109 rows x 22 columns]"
      ]
     },
     "execution_count": 48,
     "metadata": {},
     "output_type": "execute_result"
    }
   ],
   "source": [
    "df[\"DATE_BUILD\"]=pd.to_datetime(df[\"DATE_BUILD\"])\n",
    "df"
   ]
  },
  {
   "cell_type": "markdown",
   "id": "74cfea26",
   "metadata": {},
   "source": [
    "### int_sqft continous feature\n",
    "\n"
   ]
  },
  {
   "cell_type": "code",
   "execution_count": 49,
   "id": "d601a9d3",
   "metadata": {},
   "outputs": [
    {
     "data": {
      "text/plain": [
       "0"
      ]
     },
     "execution_count": 49,
     "metadata": {},
     "output_type": "execute_result"
    }
   ],
   "source": [
    "df.INT_SQFT.isnull().sum()  #no null values"
   ]
  },
  {
   "cell_type": "code",
   "execution_count": 50,
   "id": "0402e78e",
   "metadata": {
    "scrolled": true
   },
   "outputs": [
    {
     "data": {
      "text/plain": [
       "(array([ 339.,  962., 1040., 1045.,  421., 1270., 1087.,  597.,  164.,\n",
       "         184.]),\n",
       " array([ 500.,  700.,  900., 1100., 1300., 1500., 1700., 1900., 2100.,\n",
       "        2300., 2500.]),\n",
       " <BarContainer object of 10 artists>)"
      ]
     },
     "execution_count": 50,
     "metadata": {},
     "output_type": "execute_result"
    },
    {
     "data": {
      "image/png": "[encoded data removed]",
      "text/plain": [
       "<Figure size 432x288 with 1 Axes>"
      ]
     },
     "metadata": {
      "needs_background": "light"
     },
     "output_type": "display_data"
    }
   ],
   "source": [
    "plt.hist(df.INT_SQFT)\n"
   ]
  },
  {
   "cell_type": "markdown",
   "id": "e656158b",
   "metadata": {},
   "source": [
    "###               DISTANCE OF MAINROAD CONTINIOUS FEATURES"
   ]
  },
  {
   "cell_type": "code",
   "execution_count": 51,
   "id": "0437385b",
   "metadata": {},
   "outputs": [
    {
     "data": {
      "text/plain": [
       "0"
      ]
     },
     "execution_count": 51,
     "metadata": {},
     "output_type": "execute_result"
    }
   ],
   "source": [
    "df.DIST_MAINROAD.isnull().unique().sum()#  no null values"
   ]
  },
  {
   "cell_type": "code",
   "execution_count": 52,
   "id": "89e9dc55",
   "metadata": {},
   "outputs": [
    {
     "data": {
      "text/plain": [
       "(array([690., 712., 689., 753., 731., 741., 685., 709., 667., 732.]),\n",
       " array([  0.,  20.,  40.,  60.,  80., 100., 120., 140., 160., 180., 200.]),\n",
       " <BarContainer object of 10 artists>)"
      ]
     },
     "execution_count": 52,
     "metadata": {},
     "output_type": "execute_result"
    },
    {
     "data": {
      "image/png": "[encoded data removed]",
      "text/plain": [
       "<Figure size 432x288 with 1 Axes>"
      ]
     },
     "metadata": {
      "needs_background": "light"
     },
     "output_type": "display_data"
    }
   ],
   "source": [
    "plt.hist(df.DIST_MAINROAD)"
   ]
  },
  {
   "cell_type": "markdown",
   "id": "48c8d6bd",
   "metadata": {},
   "source": [
    "### Number of Room-Continous Fetures"
   ]
  },
  {
   "cell_type": "code",
   "execution_count": 53,
   "id": "37109137",
   "metadata": {},
   "outputs": [
    {
     "data": {
      "text/plain": [
       "0"
      ]
     },
     "execution_count": 53,
     "metadata": {},
     "output_type": "execute_result"
    }
   ],
   "source": [
    "df.N_ROOM.isnull().unique().sum()  #no null values"
   ]
  },
  {
   "cell_type": "code",
   "execution_count": 54,
   "id": "f0cb6abe",
   "metadata": {},
   "outputs": [
    {
     "data": {
      "text/plain": [
       "(array([ 921.,    0., 2125.,    0.,    0., 2563.,    0., 1246.,    0.,\n",
       "         254.]),\n",
       " array([2. , 2.4, 2.8, 3.2, 3.6, 4. , 4.4, 4.8, 5.2, 5.6, 6. ]),\n",
       " <BarContainer object of 10 artists>)"
      ]
     },
     "execution_count": 54,
     "metadata": {},
     "output_type": "execute_result"
    },
    {
     "data": {
      "image/png": "[encoded data removed]",
      "text/plain": [
       "<Figure size 432x288 with 1 Axes>"
      ]
     },
     "metadata": {
      "needs_background": "light"
     },
     "output_type": "display_data"
    }
   ],
   "source": [
    "plt.hist(df.N_ROOM)"
   ]
  },
  {
   "cell_type": "markdown",
   "id": "4d2613e5",
   "metadata": {},
   "source": [
    "# float features\n",
    "\n"
   ]
  },
  {
   "cell_type": "code",
   "execution_count": 55,
   "id": "b3dea378",
   "metadata": {},
   "outputs": [
    {
     "data": {
      "text/plain": [
       "array([ 1.,  2.,  3.,  4., nan])"
      ]
     },
     "execution_count": 55,
     "metadata": {},
     "output_type": "execute_result"
    }
   ],
   "source": [
    "df.N_BEDROOM.unique()"
   ]
  },
  {
   "cell_type": "code",
   "execution_count": 56,
   "id": "66937a40",
   "metadata": {},
   "outputs": [
    {
     "data": {
      "text/plain": [
       "1"
      ]
     },
     "execution_count": 56,
     "metadata": {},
     "output_type": "execute_result"
    }
   ],
   "source": [
    "df.N_BEDROOM.isnull().sum()"
   ]
  },
  {
   "cell_type": "code",
   "execution_count": 57,
   "id": "f74071da",
   "metadata": {},
   "outputs": [
    {
     "data": {
      "text/plain": [
       "0    1.0\n",
       "Name: N_BEDROOM, dtype: float64"
      ]
     },
     "execution_count": 57,
     "metadata": {},
     "output_type": "execute_result"
    }
   ],
   "source": [
    "df['N_BEDROOM'].dropna().mode()"
   ]
  },
  {
   "cell_type": "code",
   "execution_count": 58,
   "id": "4fa3f6b7",
   "metadata": {},
   "outputs": [],
   "source": [
    "df['N_BEDROOM'].fillna(df['N_BEDROOM'].mode()[0], inplace=True)  #filled nun value with mode valus"
   ]
  },
  {
   "cell_type": "code",
   "execution_count": 59,
   "id": "4af233f9",
   "metadata": {},
   "outputs": [
    {
     "data": {
      "text/plain": [
       "0"
      ]
     },
     "execution_count": 59,
     "metadata": {},
     "output_type": "execute_result"
    }
   ],
   "source": [
    "df.N_BEDROOM.isnull().sum()"
   ]
  },
  {
   "cell_type": "code",
   "execution_count": 60,
   "id": "4b220c9e",
   "metadata": {},
   "outputs": [],
   "source": [
    "df.N_BEDROOM = df.N_BEDROOM.astype(int)    #converted float to int"
   ]
  },
  {
   "cell_type": "markdown",
   "id": "2b87e6bf",
   "metadata": {},
   "source": [
    "###  NUMBER OF BATHROOM"
   ]
  },
  {
   "cell_type": "code",
   "execution_count": 61,
   "id": "ebb334f9",
   "metadata": {},
   "outputs": [
    {
     "data": {
      "text/plain": [
       "array([ 1.,  2., nan])"
      ]
     },
     "execution_count": 61,
     "metadata": {},
     "output_type": "execute_result"
    }
   ],
   "source": [
    "df.N_BATHROOM.unique()"
   ]
  },
  {
   "cell_type": "code",
   "execution_count": 62,
   "id": "57d95b45",
   "metadata": {},
   "outputs": [
    {
     "data": {
      "text/plain": [
       "5"
      ]
     },
     "execution_count": 62,
     "metadata": {},
     "output_type": "execute_result"
    }
   ],
   "source": [
    "df.N_BATHROOM.isnull().sum()"
   ]
  },
  {
   "cell_type": "code",
   "execution_count": 63,
   "id": "da5cc628",
   "metadata": {},
   "outputs": [
    {
     "data": {
      "text/plain": [
       "0    1.0\n",
       "Name: N_BATHROOM, dtype: float64"
      ]
     },
     "execution_count": 63,
     "metadata": {},
     "output_type": "execute_result"
    }
   ],
   "source": [
    "df['N_BATHROOM'].dropna().mode()"
   ]
  },
  {
   "cell_type": "code",
   "execution_count": 64,
   "id": "9a8a2b9d",
   "metadata": {},
   "outputs": [],
   "source": [
    "df['N_BATHROOM'].fillna(df['N_BATHROOM'].mode()[0], inplace=True)   #filled nun value with mode valus     "
   ]
  },
  {
   "cell_type": "code",
   "execution_count": 65,
   "id": "08890a38",
   "metadata": {},
   "outputs": [],
   "source": [
    "df.N_BATHROOM = df.N_BATHROOM.astype(int)"
   ]
  },
  {
   "cell_type": "markdown",
   "id": "a2d2c362",
   "metadata": {},
   "source": [
    "### QS_ROOMS"
   ]
  },
  {
   "cell_type": "code",
   "execution_count": 66,
   "id": "06a77b98",
   "metadata": {},
   "outputs": [
    {
     "data": {
      "text/plain": [
       "0"
      ]
     },
     "execution_count": 66,
     "metadata": {},
     "output_type": "execute_result"
    }
   ],
   "source": [
    "df.QS_ROOMS.isnull().unique().sum()"
   ]
  },
  {
   "cell_type": "markdown",
   "id": "865ff82a",
   "metadata": {},
   "source": [
    "### QS_BATHROOM"
   ]
  },
  {
   "cell_type": "code",
   "execution_count": 67,
   "id": "da308541",
   "metadata": {},
   "outputs": [
    {
     "data": {
      "text/plain": [
       "0"
      ]
     },
     "execution_count": 67,
     "metadata": {},
     "output_type": "execute_result"
    }
   ],
   "source": [
    "df.QS_BATHROOM.isnull().unique().sum()"
   ]
  },
  {
   "cell_type": "markdown",
   "id": "e449b42b",
   "metadata": {},
   "source": [
    "### QS_BEDROOM"
   ]
  },
  {
   "cell_type": "code",
   "execution_count": 68,
   "id": "8eaf8ddc",
   "metadata": {},
   "outputs": [
    {
     "data": {
      "text/plain": [
       "0"
      ]
     },
     "execution_count": 68,
     "metadata": {},
     "output_type": "execute_result"
    }
   ],
   "source": [
    "df.QS_BEDROOM.isnull().unique().sum()"
   ]
  },
  {
   "cell_type": "markdown",
   "id": "160fe44b",
   "metadata": {},
   "source": [
    "### QS_OVERALL"
   ]
  },
  {
   "cell_type": "code",
   "execution_count": 69,
   "id": "5336c7c2",
   "metadata": {},
   "outputs": [
    {
     "data": {
      "text/plain": [
       "48"
      ]
     },
     "execution_count": 69,
     "metadata": {},
     "output_type": "execute_result"
    }
   ],
   "source": [
    "df.QS_OVERALL.isnull().sum()"
   ]
  },
  {
   "cell_type": "code",
   "execution_count": 70,
   "id": "d6ed3226",
   "metadata": {},
   "outputs": [
    {
     "data": {
      "text/plain": [
       "1"
      ]
     },
     "execution_count": 70,
     "metadata": {},
     "output_type": "execute_result"
    }
   ],
   "source": [
    "df.QS_OVERALL.isnull().unique().sum()"
   ]
  },
  {
   "cell_type": "code",
   "execution_count": 71,
   "id": "2dbf2e02",
   "metadata": {},
   "outputs": [
    {
     "data": {
      "text/plain": [
       "0    3.54\n",
       "Name: QS_OVERALL, dtype: float64"
      ]
     },
     "execution_count": 71,
     "metadata": {},
     "output_type": "execute_result"
    }
   ],
   "source": [
    "df['QS_OVERALL'].dropna().mode()"
   ]
  },
  {
   "cell_type": "code",
   "execution_count": 72,
   "id": "39a022d5",
   "metadata": {},
   "outputs": [],
   "source": [
    "df['QS_OVERALL'].fillna(df['QS_OVERALL'].mode()[0], inplace=True)"
   ]
  },
  {
   "cell_type": "code",
   "execution_count": 73,
   "id": "e8533906",
   "metadata": {},
   "outputs": [
    {
     "data": {
      "text/plain": [
       "0"
      ]
     },
     "execution_count": 73,
     "metadata": {},
     "output_type": "execute_result"
    }
   ],
   "source": [
    "df.QS_OVERALL.isnull().sum()"
   ]
  },
  {
   "cell_type": "code",
   "execution_count": 74,
   "id": "4bba1809",
   "metadata": {},
   "outputs": [
    {
     "name": "stdout",
     "output_type": "stream",
     "text": [
      "<class 'pandas.core.frame.DataFrame'>\n",
      "RangeIndex: 7109 entries, 0 to 7108\n",
      "Data columns (total 22 columns):\n",
      " #   Column         Non-Null Count  Dtype         \n",
      "---  ------         --------------  -----         \n",
      " 0   PRT_ID         7109 non-null   object        \n",
      " 1   AREA           7109 non-null   object        \n",
      " 2   INT_SQFT       7109 non-null   int64         \n",
      " 3   DATE_SALE      7109 non-null   datetime64[ns]\n",
      " 4   DIST_MAINROAD  7109 non-null   int64         \n",
      " 5   N_BEDROOM      7109 non-null   int32         \n",
      " 6   N_BATHROOM     7109 non-null   int32         \n",
      " 7   N_ROOM         7109 non-null   int64         \n",
      " 8   SALE_COND      7109 non-null   object        \n",
      " 9   PARK_FACIL     7109 non-null   object        \n",
      " 10  DATE_BUILD     7109 non-null   datetime64[ns]\n",
      " 11  BUILDTYPE      7109 non-null   object        \n",
      " 12  UTILITY_AVAIL  7109 non-null   object        \n",
      " 13  STREET         7109 non-null   object        \n",
      " 14  MZZONE         7109 non-null   object        \n",
      " 15  QS_ROOMS       7109 non-null   float64       \n",
      " 16  QS_BATHROOM    7109 non-null   float64       \n",
      " 17  QS_BEDROOM     7109 non-null   float64       \n",
      " 18  QS_OVERALL     7109 non-null   float64       \n",
      " 19  REG_FEE        7109 non-null   int64         \n",
      " 20  COMMIS         7109 non-null   int64         \n",
      " 21  SALES_PRICE    7109 non-null   int64         \n",
      "dtypes: datetime64[ns](2), float64(4), int32(2), int64(6), object(8)\n",
      "memory usage: 1.1+ MB\n"
     ]
    }
   ],
   "source": [
    "df.info()"
   ]
  },
  {
   "cell_type": "markdown",
   "id": "010fda9c",
   "metadata": {},
   "source": [
    "\n",
    "\n",
    "# DROPPING UNWANTED FEATURES\n",
    "\n"
   ]
  },
  {
   "cell_type": "markdown",
   "id": "21242e73",
   "metadata": {},
   "source": [
    "### PRT_ID, REG_FEE, COMMIS "
   ]
  },
  {
   "cell_type": "code",
   "execution_count": 75,
   "id": "7912f16f",
   "metadata": {},
   "outputs": [],
   "source": [
    "df.drop([\"PRT_ID\",\"REG_FEE\",\"COMMIS\"],axis=1,inplace=True)"
   ]
  },
  {
   "cell_type": "code",
   "execution_count": 76,
   "id": "092314ad",
   "metadata": {},
   "outputs": [
    {
     "data": {
      "text/html": [
       "<div>\n",
       "<style scoped>\n",
       "    .dataframe tbody tr th:only-of-type {\n",
       "        vertical-align: middle;\n",
       "    }\n",
       "\n",
       "    .dataframe tbody tr th {\n",
       "        vertical-align: top;\n",
       "    }\n",
       "\n",
       "    .dataframe thead th {\n",
       "        text-align: right;\n",
       "    }\n",
       "</style>\n",
       "<table border=\"1\" class=\"dataframe\">\n",
       "  <thead>\n",
       "    <tr style=\"text-align: right;\">\n",
       "      <th></th>\n",
       "      <th>AREA</th>\n",
       "      <th>INT_SQFT</th>\n",
       "      <th>DATE_SALE</th>\n",
       "      <th>DIST_MAINROAD</th>\n",
       "      <th>N_BEDROOM</th>\n",
       "      <th>N_BATHROOM</th>\n",
       "      <th>N_ROOM</th>\n",
       "      <th>SALE_COND</th>\n",
       "      <th>PARK_FACIL</th>\n",
       "      <th>DATE_BUILD</th>\n",
       "      <th>BUILDTYPE</th>\n",
       "      <th>UTILITY_AVAIL</th>\n",
       "      <th>STREET</th>\n",
       "      <th>MZZONE</th>\n",
       "      <th>QS_ROOMS</th>\n",
       "      <th>QS_BATHROOM</th>\n",
       "      <th>QS_BEDROOM</th>\n",
       "      <th>QS_OVERALL</th>\n",
       "      <th>SALES_PRICE</th>\n",
       "    </tr>\n",
       "  </thead>\n",
       "  <tbody>\n",
       "    <tr>\n",
       "      <th>0</th>\n",
       "      <td>Karapakkam</td>\n",
       "      <td>1004</td>\n",
       "      <td>2011-04-05</td>\n",
       "      <td>131</td>\n",
       "      <td>1</td>\n",
       "      <td>1</td>\n",
       "      <td>3</td>\n",
       "      <td>AbNormal</td>\n",
       "      <td>Yes</td>\n",
       "      <td>1967-05-15</td>\n",
       "      <td>Commercial</td>\n",
       "      <td>AllPub</td>\n",
       "      <td>Paved</td>\n",
       "      <td>A</td>\n",
       "      <td>4.0</td>\n",
       "      <td>3.9</td>\n",
       "      <td>4.9</td>\n",
       "      <td>4.330</td>\n",
       "      <td>7600000</td>\n",
       "    </tr>\n",
       "    <tr>\n",
       "      <th>1</th>\n",
       "      <td>Anna Nagar</td>\n",
       "      <td>1986</td>\n",
       "      <td>2006-12-19</td>\n",
       "      <td>26</td>\n",
       "      <td>2</td>\n",
       "      <td>1</td>\n",
       "      <td>5</td>\n",
       "      <td>AbNormal</td>\n",
       "      <td>No</td>\n",
       "      <td>1995-12-22</td>\n",
       "      <td>Commercial</td>\n",
       "      <td>AllPub</td>\n",
       "      <td>Gravel</td>\n",
       "      <td>RH</td>\n",
       "      <td>4.9</td>\n",
       "      <td>4.2</td>\n",
       "      <td>2.5</td>\n",
       "      <td>3.765</td>\n",
       "      <td>21717770</td>\n",
       "    </tr>\n",
       "    <tr>\n",
       "      <th>2</th>\n",
       "      <td>Adyar</td>\n",
       "      <td>909</td>\n",
       "      <td>2012-04-02</td>\n",
       "      <td>70</td>\n",
       "      <td>1</td>\n",
       "      <td>1</td>\n",
       "      <td>3</td>\n",
       "      <td>AbNormal</td>\n",
       "      <td>Yes</td>\n",
       "      <td>1992-09-02</td>\n",
       "      <td>Commercial</td>\n",
       "      <td>ELO</td>\n",
       "      <td>Gravel</td>\n",
       "      <td>RL</td>\n",
       "      <td>4.1</td>\n",
       "      <td>3.8</td>\n",
       "      <td>2.2</td>\n",
       "      <td>3.090</td>\n",
       "      <td>13159200</td>\n",
       "    </tr>\n",
       "    <tr>\n",
       "      <th>3</th>\n",
       "      <td>Velachery</td>\n",
       "      <td>1855</td>\n",
       "      <td>2010-03-13</td>\n",
       "      <td>14</td>\n",
       "      <td>3</td>\n",
       "      <td>2</td>\n",
       "      <td>5</td>\n",
       "      <td>Family</td>\n",
       "      <td>No</td>\n",
       "      <td>1988-03-18</td>\n",
       "      <td>Others</td>\n",
       "      <td>NoSewer</td>\n",
       "      <td>Paved</td>\n",
       "      <td>I</td>\n",
       "      <td>4.7</td>\n",
       "      <td>3.9</td>\n",
       "      <td>3.6</td>\n",
       "      <td>4.010</td>\n",
       "      <td>9630290</td>\n",
       "    </tr>\n",
       "    <tr>\n",
       "      <th>4</th>\n",
       "      <td>Karapakkam</td>\n",
       "      <td>1226</td>\n",
       "      <td>2009-05-10</td>\n",
       "      <td>84</td>\n",
       "      <td>1</td>\n",
       "      <td>1</td>\n",
       "      <td>3</td>\n",
       "      <td>AbNormal</td>\n",
       "      <td>Yes</td>\n",
       "      <td>1979-10-13</td>\n",
       "      <td>Others</td>\n",
       "      <td>AllPub</td>\n",
       "      <td>Gravel</td>\n",
       "      <td>C</td>\n",
       "      <td>3.0</td>\n",
       "      <td>2.5</td>\n",
       "      <td>4.1</td>\n",
       "      <td>3.290</td>\n",
       "      <td>7406250</td>\n",
       "    </tr>\n",
       "  </tbody>\n",
       "</table>\n",
       "</div>"
      ],
      "text/plain": [
       "         AREA  INT_SQFT  DATE_SALE  DIST_MAINROAD  N_BEDROOM  N_BATHROOM  \\\n",
       "0  Karapakkam      1004 2011-04-05            131          1           1   \n",
       "1  Anna Nagar      1986 2006-12-19             26          2           1   \n",
       "2       Adyar       909 2012-04-02             70          1           1   \n",
       "3   Velachery      1855 2010-03-13             14          3           2   \n",
       "4  Karapakkam      1226 2009-05-10             84          1           1   \n",
       "\n",
       "   N_ROOM SALE_COND PARK_FACIL DATE_BUILD   BUILDTYPE UTILITY_AVAIL  STREET  \\\n",
       "0       3  AbNormal        Yes 1967-05-15  Commercial        AllPub   Paved   \n",
       "1       5  AbNormal         No 1995-12-22  Commercial        AllPub  Gravel   \n",
       "2       3  AbNormal        Yes 1992-09-02  Commercial           ELO  Gravel   \n",
       "3       5    Family         No 1988-03-18      Others       NoSewer   Paved   \n",
       "4       3  AbNormal        Yes 1979-10-13      Others        AllPub  Gravel   \n",
       "\n",
       "  MZZONE  QS_ROOMS  QS_BATHROOM  QS_BEDROOM  QS_OVERALL  SALES_PRICE  \n",
       "0      A       4.0          3.9         4.9       4.330      7600000  \n",
       "1     RH       4.9          4.2         2.5       3.765     21717770  \n",
       "2     RL       4.1          3.8         2.2       3.090     13159200  \n",
       "3      I       4.7          3.9         3.6       4.010      9630290  \n",
       "4      C       3.0          2.5         4.1       3.290      7406250  "
      ]
     },
     "execution_count": 76,
     "metadata": {},
     "output_type": "execute_result"
    }
   ],
   "source": [
    "df.head()"
   ]
  },
  {
   "cell_type": "markdown",
   "id": "91aed021",
   "metadata": {},
   "source": [
    "# dropping duplicates values"
   ]
  },
  {
   "cell_type": "code",
   "execution_count": 77,
   "id": "f89657ad",
   "metadata": {},
   "outputs": [],
   "source": [
    "df.drop_duplicates(inplace=True)"
   ]
  },
  {
   "cell_type": "code",
   "execution_count": 78,
   "id": "913dbba7",
   "metadata": {},
   "outputs": [
    {
     "data": {
      "text/plain": [
       "array([False])"
      ]
     },
     "execution_count": 78,
     "metadata": {},
     "output_type": "execute_result"
    }
   ],
   "source": [
    "df.duplicated().unique()"
   ]
  },
  {
   "cell_type": "code",
   "execution_count": 79,
   "id": "4c6889b7",
   "metadata": {},
   "outputs": [
    {
     "data": {
      "text/plain": [
       "AREA             0\n",
       "INT_SQFT         0\n",
       "DATE_SALE        0\n",
       "DIST_MAINROAD    0\n",
       "N_BEDROOM        0\n",
       "N_BATHROOM       0\n",
       "N_ROOM           0\n",
       "SALE_COND        0\n",
       "PARK_FACIL       0\n",
       "DATE_BUILD       0\n",
       "BUILDTYPE        0\n",
       "UTILITY_AVAIL    0\n",
       "STREET           0\n",
       "MZZONE           0\n",
       "QS_ROOMS         0\n",
       "QS_BATHROOM      0\n",
       "QS_BEDROOM       0\n",
       "QS_OVERALL       0\n",
       "SALES_PRICE      0\n",
       "dtype: int64"
      ]
     },
     "execution_count": 79,
     "metadata": {},
     "output_type": "execute_result"
    }
   ],
   "source": [
    "df.isnull().sum()"
   ]
  },
  {
   "cell_type": "markdown",
   "id": "a7fc7445",
   "metadata": {},
   "source": [
    "### AGE OF THE PROPERTY"
   ]
  },
  {
   "cell_type": "code",
   "execution_count": 80,
   "id": "1bb5b5ed",
   "metadata": {},
   "outputs": [],
   "source": [
    "df['HOUSE_AGE'] = pd.DatetimeIndex(df.DATE_SALE).year - pd.DatetimeIndex(df.DATE_BUILD).year"
   ]
  },
  {
   "cell_type": "code",
   "execution_count": 81,
   "id": "18af851a",
   "metadata": {},
   "outputs": [
    {
     "data": {
      "text/html": [
       "<div>\n",
       "<style scoped>\n",
       "    .dataframe tbody tr th:only-of-type {\n",
       "        vertical-align: middle;\n",
       "    }\n",
       "\n",
       "    .dataframe tbody tr th {\n",
       "        vertical-align: top;\n",
       "    }\n",
       "\n",
       "    .dataframe thead th {\n",
       "        text-align: right;\n",
       "    }\n",
       "</style>\n",
       "<table border=\"1\" class=\"dataframe\">\n",
       "  <thead>\n",
       "    <tr style=\"text-align: right;\">\n",
       "      <th></th>\n",
       "      <th>AREA</th>\n",
       "      <th>INT_SQFT</th>\n",
       "      <th>DATE_SALE</th>\n",
       "      <th>DIST_MAINROAD</th>\n",
       "      <th>N_BEDROOM</th>\n",
       "      <th>N_BATHROOM</th>\n",
       "      <th>N_ROOM</th>\n",
       "      <th>SALE_COND</th>\n",
       "      <th>PARK_FACIL</th>\n",
       "      <th>DATE_BUILD</th>\n",
       "      <th>BUILDTYPE</th>\n",
       "      <th>UTILITY_AVAIL</th>\n",
       "      <th>STREET</th>\n",
       "      <th>MZZONE</th>\n",
       "      <th>QS_ROOMS</th>\n",
       "      <th>QS_BATHROOM</th>\n",
       "      <th>QS_BEDROOM</th>\n",
       "      <th>QS_OVERALL</th>\n",
       "      <th>SALES_PRICE</th>\n",
       "      <th>HOUSE_AGE</th>\n",
       "    </tr>\n",
       "  </thead>\n",
       "  <tbody>\n",
       "    <tr>\n",
       "      <th>0</th>\n",
       "      <td>Karapakkam</td>\n",
       "      <td>1004</td>\n",
       "      <td>2011-04-05</td>\n",
       "      <td>131</td>\n",
       "      <td>1</td>\n",
       "      <td>1</td>\n",
       "      <td>3</td>\n",
       "      <td>AbNormal</td>\n",
       "      <td>Yes</td>\n",
       "      <td>1967-05-15</td>\n",
       "      <td>Commercial</td>\n",
       "      <td>AllPub</td>\n",
       "      <td>Paved</td>\n",
       "      <td>A</td>\n",
       "      <td>4.0</td>\n",
       "      <td>3.9</td>\n",
       "      <td>4.9</td>\n",
       "      <td>4.330</td>\n",
       "      <td>7600000</td>\n",
       "      <td>44</td>\n",
       "    </tr>\n",
       "    <tr>\n",
       "      <th>1</th>\n",
       "      <td>Anna Nagar</td>\n",
       "      <td>1986</td>\n",
       "      <td>2006-12-19</td>\n",
       "      <td>26</td>\n",
       "      <td>2</td>\n",
       "      <td>1</td>\n",
       "      <td>5</td>\n",
       "      <td>AbNormal</td>\n",
       "      <td>No</td>\n",
       "      <td>1995-12-22</td>\n",
       "      <td>Commercial</td>\n",
       "      <td>AllPub</td>\n",
       "      <td>Gravel</td>\n",
       "      <td>RH</td>\n",
       "      <td>4.9</td>\n",
       "      <td>4.2</td>\n",
       "      <td>2.5</td>\n",
       "      <td>3.765</td>\n",
       "      <td>21717770</td>\n",
       "      <td>11</td>\n",
       "    </tr>\n",
       "    <tr>\n",
       "      <th>2</th>\n",
       "      <td>Adyar</td>\n",
       "      <td>909</td>\n",
       "      <td>2012-04-02</td>\n",
       "      <td>70</td>\n",
       "      <td>1</td>\n",
       "      <td>1</td>\n",
       "      <td>3</td>\n",
       "      <td>AbNormal</td>\n",
       "      <td>Yes</td>\n",
       "      <td>1992-09-02</td>\n",
       "      <td>Commercial</td>\n",
       "      <td>ELO</td>\n",
       "      <td>Gravel</td>\n",
       "      <td>RL</td>\n",
       "      <td>4.1</td>\n",
       "      <td>3.8</td>\n",
       "      <td>2.2</td>\n",
       "      <td>3.090</td>\n",
       "      <td>13159200</td>\n",
       "      <td>20</td>\n",
       "    </tr>\n",
       "    <tr>\n",
       "      <th>3</th>\n",
       "      <td>Velachery</td>\n",
       "      <td>1855</td>\n",
       "      <td>2010-03-13</td>\n",
       "      <td>14</td>\n",
       "      <td>3</td>\n",
       "      <td>2</td>\n",
       "      <td>5</td>\n",
       "      <td>Family</td>\n",
       "      <td>No</td>\n",
       "      <td>1988-03-18</td>\n",
       "      <td>Others</td>\n",
       "      <td>NoSewer</td>\n",
       "      <td>Paved</td>\n",
       "      <td>I</td>\n",
       "      <td>4.7</td>\n",
       "      <td>3.9</td>\n",
       "      <td>3.6</td>\n",
       "      <td>4.010</td>\n",
       "      <td>9630290</td>\n",
       "      <td>22</td>\n",
       "    </tr>\n",
       "    <tr>\n",
       "      <th>4</th>\n",
       "      <td>Karapakkam</td>\n",
       "      <td>1226</td>\n",
       "      <td>2009-05-10</td>\n",
       "      <td>84</td>\n",
       "      <td>1</td>\n",
       "      <td>1</td>\n",
       "      <td>3</td>\n",
       "      <td>AbNormal</td>\n",
       "      <td>Yes</td>\n",
       "      <td>1979-10-13</td>\n",
       "      <td>Others</td>\n",
       "      <td>AllPub</td>\n",
       "      <td>Gravel</td>\n",
       "      <td>C</td>\n",
       "      <td>3.0</td>\n",
       "      <td>2.5</td>\n",
       "      <td>4.1</td>\n",
       "      <td>3.290</td>\n",
       "      <td>7406250</td>\n",
       "      <td>30</td>\n",
       "    </tr>\n",
       "  </tbody>\n",
       "</table>\n",
       "</div>"
      ],
      "text/plain": [
       "         AREA  INT_SQFT  DATE_SALE  DIST_MAINROAD  N_BEDROOM  N_BATHROOM  \\\n",
       "0  Karapakkam      1004 2011-04-05            131          1           1   \n",
       "1  Anna Nagar      1986 2006-12-19             26          2           1   \n",
       "2       Adyar       909 2012-04-02             70          1           1   \n",
       "3   Velachery      1855 2010-03-13             14          3           2   \n",
       "4  Karapakkam      1226 2009-05-10             84          1           1   \n",
       "\n",
       "   N_ROOM SALE_COND PARK_FACIL DATE_BUILD   BUILDTYPE UTILITY_AVAIL  STREET  \\\n",
       "0       3  AbNormal        Yes 1967-05-15  Commercial        AllPub   Paved   \n",
       "1       5  AbNormal         No 1995-12-22  Commercial        AllPub  Gravel   \n",
       "2       3  AbNormal        Yes 1992-09-02  Commercial           ELO  Gravel   \n",
       "3       5    Family         No 1988-03-18      Others       NoSewer   Paved   \n",
       "4       3  AbNormal        Yes 1979-10-13      Others        AllPub  Gravel   \n",
       "\n",
       "  MZZONE  QS_ROOMS  QS_BATHROOM  QS_BEDROOM  QS_OVERALL  SALES_PRICE  \\\n",
       "0      A       4.0          3.9         4.9       4.330      7600000   \n",
       "1     RH       4.9          4.2         2.5       3.765     21717770   \n",
       "2     RL       4.1          3.8         2.2       3.090     13159200   \n",
       "3      I       4.7          3.9         3.6       4.010      9630290   \n",
       "4      C       3.0          2.5         4.1       3.290      7406250   \n",
       "\n",
       "   HOUSE_AGE  \n",
       "0         44  \n",
       "1         11  \n",
       "2         20  \n",
       "3         22  \n",
       "4         30  "
      ]
     },
     "execution_count": 81,
     "metadata": {},
     "output_type": "execute_result"
    }
   ],
   "source": [
    "df.head()"
   ]
  },
  {
   "cell_type": "code",
   "execution_count": 82,
   "id": "68e5909b",
   "metadata": {},
   "outputs": [
    {
     "data": {
      "text/plain": [
       "AREA             0\n",
       "INT_SQFT         0\n",
       "DATE_SALE        0\n",
       "DIST_MAINROAD    0\n",
       "N_BEDROOM        0\n",
       "N_BATHROOM       0\n",
       "N_ROOM           0\n",
       "SALE_COND        0\n",
       "PARK_FACIL       0\n",
       "DATE_BUILD       0\n",
       "BUILDTYPE        0\n",
       "UTILITY_AVAIL    0\n",
       "STREET           0\n",
       "MZZONE           0\n",
       "QS_ROOMS         0\n",
       "QS_BATHROOM      0\n",
       "QS_BEDROOM       0\n",
       "QS_OVERALL       0\n",
       "SALES_PRICE      0\n",
       "HOUSE_AGE        0\n",
       "dtype: int64"
      ]
     },
     "execution_count": 82,
     "metadata": {},
     "output_type": "execute_result"
    }
   ],
   "source": [
    "df.isnull().sum()"
   ]
  },
  {
   "cell_type": "code",
   "execution_count": 83,
   "id": "154dc090",
   "metadata": {},
   "outputs": [
    {
     "name": "stdout",
     "output_type": "stream",
     "text": [
      "<class 'pandas.core.frame.DataFrame'>\n",
      "Int64Index: 7109 entries, 0 to 7108\n",
      "Data columns (total 20 columns):\n",
      " #   Column         Non-Null Count  Dtype         \n",
      "---  ------         --------------  -----         \n",
      " 0   AREA           7109 non-null   object        \n",
      " 1   INT_SQFT       7109 non-null   int64         \n",
      " 2   DATE_SALE      7109 non-null   datetime64[ns]\n",
      " 3   DIST_MAINROAD  7109 non-null   int64         \n",
      " 4   N_BEDROOM      7109 non-null   int32         \n",
      " 5   N_BATHROOM     7109 non-null   int32         \n",
      " 6   N_ROOM         7109 non-null   int64         \n",
      " 7   SALE_COND      7109 non-null   object        \n",
      " 8   PARK_FACIL     7109 non-null   object        \n",
      " 9   DATE_BUILD     7109 non-null   datetime64[ns]\n",
      " 10  BUILDTYPE      7109 non-null   object        \n",
      " 11  UTILITY_AVAIL  7109 non-null   object        \n",
      " 12  STREET         7109 non-null   object        \n",
      " 13  MZZONE         7109 non-null   object        \n",
      " 14  QS_ROOMS       7109 non-null   float64       \n",
      " 15  QS_BATHROOM    7109 non-null   float64       \n",
      " 16  QS_BEDROOM     7109 non-null   float64       \n",
      " 17  QS_OVERALL     7109 non-null   float64       \n",
      " 18  SALES_PRICE    7109 non-null   int64         \n",
      " 19  HOUSE_AGE      7109 non-null   int64         \n",
      "dtypes: datetime64[ns](2), float64(4), int32(2), int64(5), object(7)\n",
      "memory usage: 1.1+ MB\n"
     ]
    }
   ],
   "source": [
    "df.info()"
   ]
  },
  {
   "cell_type": "markdown",
   "id": "f1ae0a24",
   "metadata": {},
   "source": [
    "# EXPLORTORY DATA ANALYSIS\n"
   ]
  },
  {
   "cell_type": "markdown",
   "id": "f5615538",
   "metadata": {},
   "source": [
    "#### Distribution Of Features in Data Columns"
   ]
  },
  {
   "cell_type": "markdown",
   "id": "81912b4d",
   "metadata": {},
   "source": [
    "### catagorical fetures"
   ]
  },
  {
   "cell_type": "code",
   "execution_count": 84,
   "id": "fffb3849",
   "metadata": {},
   "outputs": [
    {
     "data": {
      "text/plain": [
       "<AxesSubplot:xlabel='AREA', ylabel='count'>"
      ]
     },
     "execution_count": 84,
     "metadata": {},
     "output_type": "execute_result"
    },
    {
     "data": {
      "image/png": "[encoded data removed]",
      "text/plain": [
       "<Figure size 432x288 with 1 Axes>"
      ]
     },
     "metadata": {
      "needs_background": "light"
     },
     "output_type": "display_data"
    }
   ],
   "source": [
    "sns.countplot(df.AREA)"
   ]
  },
  {
   "cell_type": "code",
   "execution_count": 85,
   "id": "3de66af9",
   "metadata": {},
   "outputs": [
    {
     "data": {
      "text/plain": [
       "<AxesSubplot:xlabel='SALE_COND', ylabel='count'>"
      ]
     },
     "execution_count": 85,
     "metadata": {},
     "output_type": "execute_result"
    },
    {
     "data": {
      "image/png": "[encoded data removed]",
      "text/plain": [
       "<Figure size 432x288 with 1 Axes>"
      ]
     },
     "metadata": {
      "needs_background": "light"
     },
     "output_type": "display_data"
    }
   ],
   "source": [
    "sns.countplot(df.SALE_COND)"
   ]
  },
  {
   "cell_type": "code",
   "execution_count": 86,
   "id": "e0c5e077",
   "metadata": {},
   "outputs": [
    {
     "data": {
      "text/plain": [
       "<AxesSubplot:xlabel='PARK_FACIL', ylabel='count'>"
      ]
     },
     "execution_count": 86,
     "metadata": {},
     "output_type": "execute_result"
    },
    {
     "data": {
      "image/png": "[encoded data removed]",
      "text/plain": [
       "<Figure size 432x288 with 1 Axes>"
      ]
     },
     "metadata": {
      "needs_background": "light"
     },
     "output_type": "display_data"
    }
   ],
   "source": [
    "sns.countplot(df.PARK_FACIL)"
   ]
  },
  {
   "cell_type": "code",
   "execution_count": 87,
   "id": "62f8125b",
   "metadata": {},
   "outputs": [
    {
     "data": {
      "text/plain": [
       "<AxesSubplot:xlabel='BUILDTYPE', ylabel='count'>"
      ]
     },
     "execution_count": 87,
     "metadata": {},
     "output_type": "execute_result"
    },
    {
     "data": {
      "image/png": "[encoded data removed]",
      "text/plain": [
       "<Figure size 432x288 with 1 Axes>"
      ]
     },
     "metadata": {
      "needs_background": "light"
     },
     "output_type": "display_data"
    }
   ],
   "source": [
    "sns.countplot(df.BUILDTYPE)"
   ]
  },
  {
   "cell_type": "code",
   "execution_count": 88,
   "id": "d78523bf",
   "metadata": {},
   "outputs": [
    {
     "data": {
      "text/plain": [
       "<AxesSubplot:xlabel='UTILITY_AVAIL', ylabel='count'>"
      ]
     },
     "execution_count": 88,
     "metadata": {},
     "output_type": "execute_result"
    },
    {
     "data": {
      "image/png": "[encoded data removed]",
      "text/plain": [
       "<Figure size 432x288 with 1 Axes>"
      ]
     },
     "metadata": {
      "needs_background": "light"
     },
     "output_type": "display_data"
    }
   ],
   "source": [
    "sns.countplot(df.UTILITY_AVAIL)"
   ]
  },
  {
   "cell_type": "code",
   "execution_count": 89,
   "id": "997ce82c",
   "metadata": {},
   "outputs": [
    {
     "data": {
      "text/plain": [
       "<AxesSubplot:xlabel='STREET', ylabel='count'>"
      ]
     },
     "execution_count": 89,
     "metadata": {},
     "output_type": "execute_result"
    },
    {
     "data": {
      "image/png": "[encoded data removed]",
      "text/plain": [
       "<Figure size 432x288 with 1 Axes>"
      ]
     },
     "metadata": {
      "needs_background": "light"
     },
     "output_type": "display_data"
    }
   ],
   "source": [
    "sns.countplot(df.STREET)"
   ]
  },
  {
   "cell_type": "code",
   "execution_count": 90,
   "id": "9b386ccc",
   "metadata": {},
   "outputs": [
    {
     "data": {
      "text/plain": [
       "<AxesSubplot:xlabel='MZZONE', ylabel='count'>"
      ]
     },
     "execution_count": 90,
     "metadata": {},
     "output_type": "execute_result"
    },
    {
     "data": {
      "image/png": "[encoded data removed]",
      "text/plain": [
       "<Figure size 432x288 with 1 Axes>"
      ]
     },
     "metadata": {
      "needs_background": "light"
     },
     "output_type": "display_data"
    }
   ],
   "source": [
    "sns.countplot(df.MZZONE)"
   ]
  },
  {
   "cell_type": "markdown",
   "id": "a6b9102f",
   "metadata": {},
   "source": [
    "## NUMARICAL FEATURES"
   ]
  },
  {
   "cell_type": "code",
   "execution_count": 91,
   "id": "484d752a",
   "metadata": {},
   "outputs": [
    {
     "data": {
      "text/plain": [
       "<AxesSubplot:xlabel='INT_SQFT', ylabel='Count'>"
      ]
     },
     "execution_count": 91,
     "metadata": {},
     "output_type": "execute_result"
    },
    {
     "data": {
      "image/png": "[encoded data removed]",
      "text/plain": [
       "<Figure size 432x288 with 1 Axes>"
      ]
     },
     "metadata": {
      "needs_background": "light"
     },
     "output_type": "display_data"
    }
   ],
   "source": [
    "sns.histplot(df.INT_SQFT,kde=True)"
   ]
  },
  {
   "cell_type": "code",
   "execution_count": 92,
   "id": "9c55a8a2",
   "metadata": {},
   "outputs": [
    {
     "data": {
      "text/plain": [
       "<AxesSubplot:xlabel='DATE_SALE', ylabel='Count'>"
      ]
     },
     "execution_count": 92,
     "metadata": {},
     "output_type": "execute_result"
    },
    {
     "data": {
      "image/png": "[encoded data removed]",
      "text/plain": [
       "<Figure size 432x288 with 1 Axes>"
      ]
     },
     "metadata": {
      "needs_background": "light"
     },
     "output_type": "display_data"
    }
   ],
   "source": [
    "sns.histplot(df.DATE_SALE,kde=True)"
   ]
  },
  {
   "cell_type": "code",
   "execution_count": 93,
   "id": "675ad4d3",
   "metadata": {},
   "outputs": [
    {
     "data": {
      "text/plain": [
       "<AxesSubplot:xlabel='DIST_MAINROAD', ylabel='Count'>"
      ]
     },
     "execution_count": 93,
     "metadata": {},
     "output_type": "execute_result"
    },
    {
     "data": {
      "image/png": "[encoded data removed]",
      "text/plain": [
       "<Figure size 432x288 with 1 Axes>"
      ]
     },
     "metadata": {
      "needs_background": "light"
     },
     "output_type": "display_data"
    }
   ],
   "source": [
    "sns.histplot(df.DIST_MAINROAD,kde=True)"
   ]
  },
  {
   "cell_type": "code",
   "execution_count": 94,
   "id": "7a50bab5",
   "metadata": {},
   "outputs": [
    {
     "data": {
      "text/plain": [
       "<AxesSubplot:xlabel='N_BEDROOM', ylabel='Count'>"
      ]
     },
     "execution_count": 94,
     "metadata": {},
     "output_type": "execute_result"
    },
    {
     "data": {
      "image/png": "[encoded data removed]",
      "text/plain": [
       "<Figure size 432x288 with 1 Axes>"
      ]
     },
     "metadata": {
      "needs_background": "light"
     },
     "output_type": "display_data"
    }
   ],
   "source": [
    "sns.histplot(df.N_BEDROOM)"
   ]
  },
  {
   "cell_type": "code",
   "execution_count": 95,
   "id": "8692d067",
   "metadata": {},
   "outputs": [
    {
     "data": {
      "text/plain": [
       "<AxesSubplot:xlabel='N_BATHROOM', ylabel='Count'>"
      ]
     },
     "execution_count": 95,
     "metadata": {},
     "output_type": "execute_result"
    },
    {
     "data": {
      "image/png": "[encoded data removed]",
      "text/plain": [
       "<Figure size 432x288 with 1 Axes>"
      ]
     },
     "metadata": {
      "needs_background": "light"
     },
     "output_type": "display_data"
    }
   ],
   "source": [
    "sns.histplot(df.N_BATHROOM)"
   ]
  },
  {
   "cell_type": "code",
   "execution_count": 96,
   "id": "45889343",
   "metadata": {},
   "outputs": [
    {
     "data": {
      "text/plain": [
       "<AxesSubplot:xlabel='N_ROOM', ylabel='Count'>"
      ]
     },
     "execution_count": 96,
     "metadata": {},
     "output_type": "execute_result"
    },
    {
     "data": {
      "image/png": "[encoded data removed]",
      "text/plain": [
       "<Figure size 432x288 with 1 Axes>"
      ]
     },
     "metadata": {
      "needs_background": "light"
     },
     "output_type": "display_data"
    }
   ],
   "source": [
    "sns.histplot(df.N_ROOM)"
   ]
  },
  {
   "cell_type": "code",
   "execution_count": 97,
   "id": "3b59d2c1",
   "metadata": {},
   "outputs": [
    {
     "data": {
      "text/plain": [
       "<AxesSubplot:xlabel='DATE_BUILD', ylabel='Count'>"
      ]
     },
     "execution_count": 97,
     "metadata": {},
     "output_type": "execute_result"
    },
    {
     "data": {
      "image/png": "[encoded data removed]",
      "text/plain": [
       "<Figure size 432x288 with 1 Axes>"
      ]
     },
     "metadata": {
      "needs_background": "light"
     },
     "output_type": "display_data"
    }
   ],
   "source": [
    "sns.histplot(df.DATE_BUILD,kde=True)"
   ]
  },
  {
   "cell_type": "code",
   "execution_count": 98,
   "id": "0773703e",
   "metadata": {},
   "outputs": [
    {
     "data": {
      "text/plain": [
       "<AxesSubplot:xlabel='QS_ROOMS', ylabel='Count'>"
      ]
     },
     "execution_count": 98,
     "metadata": {},
     "output_type": "execute_result"
    },
    {
     "data": {
      "image/png": "[encoded data removed]",
      "text/plain": [
       "<Figure size 432x288 with 1 Axes>"
      ]
     },
     "metadata": {
      "needs_background": "light"
     },
     "output_type": "display_data"
    }
   ],
   "source": [
    "sns.histplot(df.QS_ROOMS)"
   ]
  },
  {
   "cell_type": "code",
   "execution_count": 99,
   "id": "32288108",
   "metadata": {},
   "outputs": [
    {
     "data": {
      "text/plain": [
       "<AxesSubplot:xlabel='QS_BATHROOM', ylabel='Count'>"
      ]
     },
     "execution_count": 99,
     "metadata": {},
     "output_type": "execute_result"
    },
    {
     "data": {
      "image/png": "[encoded data removed]",
      "text/plain": [
       "<Figure size 432x288 with 1 Axes>"
      ]
     },
     "metadata": {
      "needs_background": "light"
     },
     "output_type": "display_data"
    }
   ],
   "source": [
    "sns.histplot(df.QS_BATHROOM)"
   ]
  },
  {
   "cell_type": "code",
   "execution_count": 100,
   "id": "3c1f5a79",
   "metadata": {},
   "outputs": [
    {
     "data": {
      "text/plain": [
       "<AxesSubplot:xlabel='QS_BEDROOM', ylabel='Count'>"
      ]
     },
     "execution_count": 100,
     "metadata": {},
     "output_type": "execute_result"
    },
    {
     "data": {
      "image/png": "[encoded data removed]",
      "text/plain": [
       "<Figure size 432x288 with 1 Axes>"
      ]
     },
     "metadata": {
      "needs_background": "light"
     },
     "output_type": "display_data"
    }
   ],
   "source": [
    "sns.histplot(df.QS_BEDROOM)"
   ]
  },
  {
   "cell_type": "code",
   "execution_count": 101,
   "id": "564046a6",
   "metadata": {},
   "outputs": [
    {
     "data": {
      "text/plain": [
       "<AxesSubplot:xlabel='QS_OVERALL', ylabel='Count'>"
      ]
     },
     "execution_count": 101,
     "metadata": {},
     "output_type": "execute_result"
    },
    {
     "data": {
      "image/png": "[encoded data removed]",
      "text/plain": [
       "<Figure size 432x288 with 1 Axes>"
      ]
     },
     "metadata": {
      "needs_background": "light"
     },
     "output_type": "display_data"
    }
   ],
   "source": [
    "sns.histplot(df.QS_OVERALL)"
   ]
  },
  {
   "cell_type": "code",
   "execution_count": 102,
   "id": "f974494f",
   "metadata": {},
   "outputs": [
    {
     "data": {
      "text/plain": [
       "<AxesSubplot:xlabel='SALES_PRICE', ylabel='Count'>"
      ]
     },
     "execution_count": 102,
     "metadata": {},
     "output_type": "execute_result"
    },
    {
     "data": {
      "image/png": "[encoded data removed]",
      "text/plain": [
       "<Figure size 432x288 with 1 Axes>"
      ]
     },
     "metadata": {
      "needs_background": "light"
     },
     "output_type": "display_data"
    }
   ],
   "source": [
    "sns.histplot(df.SALES_PRICE,kde=True)"
   ]
  },
  {
   "cell_type": "code",
   "execution_count": 103,
   "id": "3bb241d4",
   "metadata": {},
   "outputs": [
    {
     "data": {
      "text/plain": [
       "<AxesSubplot:xlabel='HOUSE_AGE', ylabel='Count'>"
      ]
     },
     "execution_count": 103,
     "metadata": {},
     "output_type": "execute_result"
    },
    {
     "data": {
      "image/png": "[encoded data removed]",
      "text/plain": [
       "<Figure size 432x288 with 1 Axes>"
      ]
     },
     "metadata": {
      "needs_background": "light"
     },
     "output_type": "display_data"
    }
   ],
   "source": [
    "sns.histplot(df.HOUSE_AGE,kde=True)"
   ]
  },
  {
   "cell_type": "markdown",
   "id": "4f443702",
   "metadata": {},
   "source": [
    "# Plotting Features column vs Target column"
   ]
  },
  {
   "cell_type": "markdown",
   "id": "a730de0a",
   "metadata": {},
   "source": [
    "#### Numerical Columns\n"
   ]
  },
  {
   "cell_type": "code",
   "execution_count": 104,
   "id": "27dde0e7",
   "metadata": {},
   "outputs": [
    {
     "data": {
      "text/plain": [
       "<AxesSubplot:xlabel='QS_OVERALL', ylabel='SALES_PRICE'>"
      ]
     },
     "execution_count": 104,
     "metadata": {},
     "output_type": "execute_result"
    },
    {
     "data": {
      "image/png": "[encoded data removed]",
      "text/plain": [
       "<Figure size 432x288 with 1 Axes>"
      ]
     },
     "metadata": {
      "needs_background": "light"
     },
     "output_type": "display_data"
    }
   ],
   "source": [
    "sns.regplot(df.QS_OVERALL, df.SALES_PRICE, scatter_kws={\"color\": \"green\"}, line_kws={\"color\": \"red\"}) #no diffrence we can dalete"
   ]
  },
  {
   "cell_type": "code",
   "execution_count": 105,
   "id": "31563925",
   "metadata": {},
   "outputs": [
    {
     "data": {
      "text/plain": [
       "<AxesSubplot:xlabel='INT_SQFT', ylabel='SALES_PRICE'>"
      ]
     },
     "execution_count": 105,
     "metadata": {},
     "output_type": "execute_result"
    },
    {
     "data": {
      "image/png": "[encoded data removed]",
      "text/plain": [
       "<Figure size 432x288 with 1 Axes>"
      ]
     },
     "metadata": {
      "needs_background": "light"
     },
     "output_type": "display_data"
    }
   ],
   "source": [
    "sns.regplot(df.INT_SQFT, df.SALES_PRICE, scatter_kws={\"color\": \"y\"}, line_kws={\"color\": \"red\"})"
   ]
  },
  {
   "cell_type": "code",
   "execution_count": 106,
   "id": "7e6f2736",
   "metadata": {},
   "outputs": [
    {
     "data": {
      "text/plain": [
       "<AxesSubplot:xlabel='DIST_MAINROAD', ylabel='SALES_PRICE'>"
      ]
     },
     "execution_count": 106,
     "metadata": {},
     "output_type": "execute_result"
    },
    {
     "data": {
      "image/png": "[encoded data removed]",
      "text/plain": [
       "<Figure size 432x288 with 1 Axes>"
      ]
     },
     "metadata": {
      "needs_background": "light"
     },
     "output_type": "display_data"
    }
   ],
   "source": [
    "sns.regplot(df.DIST_MAINROAD, df.SALES_PRICE, scatter_kws={\"color\": \"blue\"}, line_kws={\"color\": \"red\"})    #no diffrence we can dalete in this features"
   ]
  },
  {
   "cell_type": "code",
   "execution_count": 107,
   "id": "5b056e1c",
   "metadata": {},
   "outputs": [
    {
     "data": {
      "text/plain": [
       "<AxesSubplot:xlabel='HOUSE_AGE', ylabel='SALES_PRICE'>"
      ]
     },
     "execution_count": 107,
     "metadata": {},
     "output_type": "execute_result"
    },
    {
     "data": {
      "image/png": "[encoded data removed]",
      "text/plain": [
       "<Figure size 432x288 with 1 Axes>"
      ]
     },
     "metadata": {
      "needs_background": "light"
     },
     "output_type": "display_data"
    }
   ],
   "source": [
    "sns.regplot(df.HOUSE_AGE, df.SALES_PRICE, scatter_kws={\"color\": \"gray\"}, line_kws={\"color\": \"red\"})"
   ]
  },
  {
   "cell_type": "code",
   "execution_count": 108,
   "id": "2d8a61ef",
   "metadata": {},
   "outputs": [
    {
     "data": {
      "text/plain": [
       "<AxesSubplot:xlabel='N_BEDROOM', ylabel='SALES_PRICE'>"
      ]
     },
     "execution_count": 108,
     "metadata": {},
     "output_type": "execute_result"
    },
    {
     "data": {
      "image/png": "[encoded data removed]",
      "text/plain": [
       "<Figure size 432x288 with 1 Axes>"
      ]
     },
     "metadata": {
      "needs_background": "light"
     },
     "output_type": "display_data"
    }
   ],
   "source": [
    "sns.regplot(df.N_BEDROOM, df.SALES_PRICE, scatter_kws={\"color\": \"GREEN\"}, line_kws={\"color\": \"red\"})"
   ]
  },
  {
   "cell_type": "code",
   "execution_count": 109,
   "id": "303a306b",
   "metadata": {},
   "outputs": [
    {
     "data": {
      "text/plain": [
       "<AxesSubplot:xlabel='N_BATHROOM', ylabel='SALES_PRICE'>"
      ]
     },
     "execution_count": 109,
     "metadata": {},
     "output_type": "execute_result"
    },
    {
     "data": {
      "image/png": "[encoded data removed]",
      "text/plain": [
       "<Figure size 432x288 with 1 Axes>"
      ]
     },
     "metadata": {
      "needs_background": "light"
     },
     "output_type": "display_data"
    }
   ],
   "source": [
    "sns.regplot(df.N_BATHROOM, df.SALES_PRICE, scatter_kws={\"color\": \"brown\"}, line_kws={\"color\": \"red\"})"
   ]
  },
  {
   "cell_type": "code",
   "execution_count": 110,
   "id": "33e90d19",
   "metadata": {},
   "outputs": [
    {
     "data": {
      "text/plain": [
       "<AxesSubplot:xlabel='N_ROOM', ylabel='SALES_PRICE'>"
      ]
     },
     "execution_count": 110,
     "metadata": {},
     "output_type": "execute_result"
    },
    {
     "data": {
      "image/png": "[encoded data removed]",
      "text/plain": [
       "<Figure size 432x288 with 1 Axes>"
      ]
     },
     "metadata": {
      "needs_background": "light"
     },
     "output_type": "display_data"
    }
   ],
   "source": [
    "sns.regplot(df.N_ROOM, df.SALES_PRICE, scatter_kws={\"color\": \"y\"}, line_kws={\"color\": \"red\"})"
   ]
  },
  {
   "cell_type": "code",
   "execution_count": 111,
   "id": "4561b087",
   "metadata": {},
   "outputs": [
    {
     "data": {
      "text/plain": [
       "<AxesSubplot:xlabel='QS_ROOMS', ylabel='SALES_PRICE'>"
      ]
     },
     "execution_count": 111,
     "metadata": {},
     "output_type": "execute_result"
    },
    {
     "data": {
      "image/png": "[encoded data removed]",
      "text/plain": [
       "<Figure size 432x288 with 1 Axes>"
      ]
     },
     "metadata": {
      "needs_background": "light"
     },
     "output_type": "display_data"
    }
   ],
   "source": [
    "sns.regplot(df.QS_ROOMS, df.SALES_PRICE, scatter_kws={\"color\": \"GREEN\"}, line_kws={\"color\": \"red\"})  #no diffrence we can delete in this features"
   ]
  },
  {
   "cell_type": "code",
   "execution_count": 112,
   "id": "1d1628cc",
   "metadata": {},
   "outputs": [
    {
     "data": {
      "text/plain": [
       "<AxesSubplot:xlabel='QS_BATHROOM', ylabel='SALES_PRICE'>"
      ]
     },
     "execution_count": 112,
     "metadata": {},
     "output_type": "execute_result"
    },
    {
     "data": {
      "image/png": "[encoded data removed]",
      "text/plain": [
       "<Figure size 432x288 with 1 Axes>"
      ]
     },
     "metadata": {
      "needs_background": "light"
     },
     "output_type": "display_data"
    }
   ],
   "source": [
    "sns.regplot(df.QS_BATHROOM, df.SALES_PRICE, scatter_kws={\"color\": \"purple\"}, line_kws={\"color\": \"red\"})   #no diffrence in this feature we can dalete"
   ]
  },
  {
   "cell_type": "code",
   "execution_count": 113,
   "id": "e90df5e2",
   "metadata": {},
   "outputs": [
    {
     "data": {
      "text/plain": [
       "<AxesSubplot:xlabel='QS_BEDROOM', ylabel='SALES_PRICE'>"
      ]
     },
     "execution_count": 113,
     "metadata": {},
     "output_type": "execute_result"
    },
    {
     "data": {
      "image/png": "[encoded data removed]",
      "text/plain": [
       "<Figure size 432x288 with 1 Axes>"
      ]
     },
     "metadata": {
      "needs_background": "light"
     },
     "output_type": "display_data"
    }
   ],
   "source": [
    "sns.regplot(df.QS_BEDROOM, df.SALES_PRICE, scatter_kws={\"color\": \"orange\"}, line_kws={\"color\": \"red\"})  #no diffrence in this features we can dalete  "
   ]
  },
  {
   "cell_type": "code",
   "execution_count": 114,
   "id": "367d6b0b",
   "metadata": {},
   "outputs": [
    {
     "name": "stdout",
     "output_type": "stream",
     "text": [
      "<class 'pandas.core.frame.DataFrame'>\n",
      "Int64Index: 7109 entries, 0 to 7108\n",
      "Data columns (total 20 columns):\n",
      " #   Column         Non-Null Count  Dtype         \n",
      "---  ------         --------------  -----         \n",
      " 0   AREA           7109 non-null   object        \n",
      " 1   INT_SQFT       7109 non-null   int64         \n",
      " 2   DATE_SALE      7109 non-null   datetime64[ns]\n",
      " 3   DIST_MAINROAD  7109 non-null   int64         \n",
      " 4   N_BEDROOM      7109 non-null   int32         \n",
      " 5   N_BATHROOM     7109 non-null   int32         \n",
      " 6   N_ROOM         7109 non-null   int64         \n",
      " 7   SALE_COND      7109 non-null   object        \n",
      " 8   PARK_FACIL     7109 non-null   object        \n",
      " 9   DATE_BUILD     7109 non-null   datetime64[ns]\n",
      " 10  BUILDTYPE      7109 non-null   object        \n",
      " 11  UTILITY_AVAIL  7109 non-null   object        \n",
      " 12  STREET         7109 non-null   object        \n",
      " 13  MZZONE         7109 non-null   object        \n",
      " 14  QS_ROOMS       7109 non-null   float64       \n",
      " 15  QS_BATHROOM    7109 non-null   float64       \n",
      " 16  QS_BEDROOM     7109 non-null   float64       \n",
      " 17  QS_OVERALL     7109 non-null   float64       \n",
      " 18  SALES_PRICE    7109 non-null   int64         \n",
      " 19  HOUSE_AGE      7109 non-null   int64         \n",
      "dtypes: datetime64[ns](2), float64(4), int32(2), int64(5), object(7)\n",
      "memory usage: 1.1+ MB\n"
     ]
    }
   ],
   "source": [
    "df.info()"
   ]
  },
  {
   "cell_type": "markdown",
   "id": "a3ccb03a",
   "metadata": {},
   "source": [
    "# Categorical Features"
   ]
  },
  {
   "cell_type": "code",
   "execution_count": 115,
   "id": "ec930e51",
   "metadata": {},
   "outputs": [
    {
     "data": {
      "text/plain": [
       "<AxesSubplot:xlabel='AREA', ylabel='SALES_PRICE'>"
      ]
     },
     "execution_count": 115,
     "metadata": {},
     "output_type": "execute_result"
    },
    {
     "data": {
      "image/png": "[encoded data removed]",
      "text/plain": [
       "<Figure size 432x288 with 1 Axes>"
      ]
     },
     "metadata": {
      "needs_background": "light"
     },
     "output_type": "display_data"
    }
   ],
   "source": [
    "sns.barplot(x=df.AREA,y=df.SALES_PRICE,order=df.groupby('AREA')['SALES_PRICE'].mean().reset_index().sort_values('SALES_PRICE')['AREA'])"
   ]
  },
  {
   "cell_type": "code",
   "execution_count": 116,
   "id": "ef4de4c9",
   "metadata": {},
   "outputs": [
    {
     "data": {
      "text/plain": [
       "<AxesSubplot:xlabel='SALE_COND', ylabel='SALES_PRICE'>"
      ]
     },
     "execution_count": 116,
     "metadata": {},
     "output_type": "execute_result"
    },
    {
     "data": {
      "image/png": "[encoded data removed]",
      "text/plain": [
       "<Figure size 432x288 with 1 Axes>"
      ]
     },
     "metadata": {
      "needs_background": "light"
     },
     "output_type": "display_data"
    }
   ],
   "source": [
    "sns.barplot(x=df.SALE_COND,y=df.SALES_PRICE,order=df.groupby('SALE_COND')['SALES_PRICE'].mean().reset_index().sort_values('SALES_PRICE')['SALE_COND'])"
   ]
  },
  {
   "cell_type": "code",
   "execution_count": 117,
   "id": "78ab20b9",
   "metadata": {},
   "outputs": [
    {
     "data": {
      "text/plain": [
       "<AxesSubplot:xlabel='PARK_FACIL', ylabel='SALES_PRICE'>"
      ]
     },
     "execution_count": 117,
     "metadata": {},
     "output_type": "execute_result"
    },
    {
     "data": {
      "image/png": "[encoded data removed]",
      "text/plain": [
       "<Figure size 432x288 with 1 Axes>"
      ]
     },
     "metadata": {
      "needs_background": "light"
     },
     "output_type": "display_data"
    }
   ],
   "source": [
    "sns.barplot(x=df.PARK_FACIL,y=df.SALES_PRICE,order=df.groupby('PARK_FACIL')['SALES_PRICE'].mean().reset_index().sort_values('SALES_PRICE')['PARK_FACIL'])"
   ]
  },
  {
   "cell_type": "code",
   "execution_count": 118,
   "id": "f113b6f9",
   "metadata": {},
   "outputs": [
    {
     "data": {
      "text/plain": [
       "<AxesSubplot:xlabel='BUILDTYPE', ylabel='SALES_PRICE'>"
      ]
     },
     "execution_count": 118,
     "metadata": {},
     "output_type": "execute_result"
    },
    {
     "data": {
      "image/png": "[encoded data removed]",
      "text/plain": [
       "<Figure size 432x288 with 1 Axes>"
      ]
     },
     "metadata": {
      "needs_background": "light"
     },
     "output_type": "display_data"
    }
   ],
   "source": [
    "sns.barplot(x=df.BUILDTYPE,y=df.SALES_PRICE,order=df.groupby('BUILDTYPE')['SALES_PRICE'].mean().reset_index().sort_values('SALES_PRICE')['BUILDTYPE'])"
   ]
  },
  {
   "cell_type": "code",
   "execution_count": 119,
   "id": "fc789944",
   "metadata": {},
   "outputs": [
    {
     "data": {
      "text/plain": [
       "<AxesSubplot:xlabel='UTILITY_AVAIL', ylabel='SALES_PRICE'>"
      ]
     },
     "execution_count": 119,
     "metadata": {},
     "output_type": "execute_result"
    },
    {
     "data": {
      "image/png": "[encoded data removed]",
      "text/plain": [
       "<Figure size 432x288 with 1 Axes>"
      ]
     },
     "metadata": {
      "needs_background": "light"
     },
     "output_type": "display_data"
    }
   ],
   "source": [
    "sns.barplot(x=df.UTILITY_AVAIL,y=df.SALES_PRICE,order=df.groupby('UTILITY_AVAIL')['SALES_PRICE'].mean().reset_index().sort_values('SALES_PRICE')['UTILITY_AVAIL'])"
   ]
  },
  {
   "cell_type": "code",
   "execution_count": 120,
   "id": "5dedadcc",
   "metadata": {},
   "outputs": [
    {
     "data": {
      "text/plain": [
       "<AxesSubplot:xlabel='STREET', ylabel='SALES_PRICE'>"
      ]
     },
     "execution_count": 120,
     "metadata": {},
     "output_type": "execute_result"
    },
    {
     "data": {
      "image/png": "[encoded data removed]",
      "text/plain": [
       "<Figure size 432x288 with 1 Axes>"
      ]
     },
     "metadata": {
      "needs_background": "light"
     },
     "output_type": "display_data"
    }
   ],
   "source": [
    "sns.barplot(x=df.STREET,y=df.SALES_PRICE,order=df.groupby('STREET')['SALES_PRICE'].mean().reset_index().sort_values('SALES_PRICE')['STREET'])"
   ]
  },
  {
   "cell_type": "code",
   "execution_count": 121,
   "id": "9f87d990",
   "metadata": {},
   "outputs": [
    {
     "data": {
      "text/plain": [
       "<AxesSubplot:xlabel='MZZONE', ylabel='SALES_PRICE'>"
      ]
     },
     "execution_count": 121,
     "metadata": {},
     "output_type": "execute_result"
    },
    {
     "data": {
      "image/png": "[encoded data removed]",
      "text/plain": [
       "<Figure size 432x288 with 1 Axes>"
      ]
     },
     "metadata": {
      "needs_background": "light"
     },
     "output_type": "display_data"
    }
   ],
   "source": [
    "sns.barplot(x=df.MZZONE,y=df.SALES_PRICE,order=df.groupby('MZZONE')['SALES_PRICE'].mean().reset_index().sort_values('SALES_PRICE')['MZZONE'])"
   ]
  },
  {
   "cell_type": "markdown",
   "id": "62858fd1",
   "metadata": {},
   "source": [
    "#    ENCODING "
   ]
  },
  {
   "cell_type": "markdown",
   "id": "9baa4262",
   "metadata": {},
   "source": [
    "### One Hot Encoding"
   ]
  },
  {
   "cell_type": "markdown",
   "id": "ea3e65ce",
   "metadata": {},
   "source": [
    " BUILDTYPE"
   ]
  },
  {
   "cell_type": "code",
   "execution_count": 122,
   "id": "a05dd4c5",
   "metadata": {},
   "outputs": [],
   "source": [
    "df= pd.get_dummies(df,columns=['BUILDTYPE'])"
   ]
  },
  {
   "cell_type": "code",
   "execution_count": 123,
   "id": "4cd8f71a",
   "metadata": {},
   "outputs": [
    {
     "name": "stdout",
     "output_type": "stream",
     "text": [
      "<class 'pandas.core.frame.DataFrame'>\n",
      "Int64Index: 7109 entries, 0 to 7108\n",
      "Data columns (total 22 columns):\n",
      " #   Column                Non-Null Count  Dtype         \n",
      "---  ------                --------------  -----         \n",
      " 0   AREA                  7109 non-null   object        \n",
      " 1   INT_SQFT              7109 non-null   int64         \n",
      " 2   DATE_SALE             7109 non-null   datetime64[ns]\n",
      " 3   DIST_MAINROAD         7109 non-null   int64         \n",
      " 4   N_BEDROOM             7109 non-null   int32         \n",
      " 5   N_BATHROOM            7109 non-null   int32         \n",
      " 6   N_ROOM                7109 non-null   int64         \n",
      " 7   SALE_COND             7109 non-null   object        \n",
      " 8   PARK_FACIL            7109 non-null   object        \n",
      " 9   DATE_BUILD            7109 non-null   datetime64[ns]\n",
      " 10  UTILITY_AVAIL         7109 non-null   object        \n",
      " 11  STREET                7109 non-null   object        \n",
      " 12  MZZONE                7109 non-null   object        \n",
      " 13  QS_ROOMS              7109 non-null   float64       \n",
      " 14  QS_BATHROOM           7109 non-null   float64       \n",
      " 15  QS_BEDROOM            7109 non-null   float64       \n",
      " 16  QS_OVERALL            7109 non-null   float64       \n",
      " 17  SALES_PRICE           7109 non-null   int64         \n",
      " 18  HOUSE_AGE             7109 non-null   int64         \n",
      " 19  BUILDTYPE_Commercial  7109 non-null   uint8         \n",
      " 20  BUILDTYPE_House       7109 non-null   uint8         \n",
      " 21  BUILDTYPE_Others      7109 non-null   uint8         \n",
      "dtypes: datetime64[ns](2), float64(4), int32(2), int64(5), object(6), uint8(3)\n",
      "memory usage: 1.1+ MB\n"
     ]
    }
   ],
   "source": [
    "df.info()"
   ]
  },
  {
   "cell_type": "markdown",
   "id": "e439bc79",
   "metadata": {},
   "source": [
    "## Label Encoding"
   ]
  },
  {
   "cell_type": "code",
   "execution_count": 124,
   "id": "0fed14d5",
   "metadata": {},
   "outputs": [],
   "source": [
    "df.AREA=df.AREA.replace({\"Karapakkam\":1,\n",
    "           \"Adyar\":2,\n",
    "           \"Chrompet\":3,\n",
    "           \"Velachery\":4,\n",
    "           \"KK Nagar\":5,\n",
    "          \"Anna Nagar\":6,\n",
    "           \"TNagar\":7})           "
   ]
  },
  {
   "cell_type": "code",
   "execution_count": 125,
   "id": "cf9d0e79",
   "metadata": {},
   "outputs": [
    {
     "data": {
      "text/plain": [
       "array([1, 6, 2, 4, 3, 5, 7], dtype=int64)"
      ]
     },
     "execution_count": 125,
     "metadata": {},
     "output_type": "execute_result"
    }
   ],
   "source": [
    "df.AREA.unique()"
   ]
  },
  {
   "cell_type": "code",
   "execution_count": 126,
   "id": "2d2329ed",
   "metadata": {},
   "outputs": [],
   "source": [
    "df.SALE_COND=df.SALE_COND.replace({\"Partial\":1,\n",
    "                                 \"Family\":2,\n",
    "                                 \"AbNormal\":3,\n",
    "                                 \"Normal Sale\":4,\n",
    "                                 \"AdjLand\":5})"
   ]
  },
  {
   "cell_type": "code",
   "execution_count": 127,
   "id": "03c7940d",
   "metadata": {},
   "outputs": [
    {
     "data": {
      "text/plain": [
       "array([3, 2, 1, 5, 4], dtype=int64)"
      ]
     },
     "execution_count": 127,
     "metadata": {},
     "output_type": "execute_result"
    }
   ],
   "source": [
    "df.SALE_COND.unique()"
   ]
  },
  {
   "cell_type": "code",
   "execution_count": 128,
   "id": "7dfcbc91",
   "metadata": {},
   "outputs": [],
   "source": [
    "df.PARK_FACIL=df.PARK_FACIL.replace({\"Yes\":1,\n",
    "                                   \"No\":0})"
   ]
  },
  {
   "cell_type": "code",
   "execution_count": 129,
   "id": "864d605a",
   "metadata": {},
   "outputs": [
    {
     "data": {
      "text/plain": [
       "array([1, 0], dtype=int64)"
      ]
     },
     "execution_count": 129,
     "metadata": {},
     "output_type": "execute_result"
    }
   ],
   "source": [
    "df.PARK_FACIL.unique()"
   ]
  },
  {
   "cell_type": "code",
   "execution_count": 130,
   "id": "5241ede4",
   "metadata": {},
   "outputs": [],
   "source": [
    "df.UTILITY_AVAIL=df.UTILITY_AVAIL.replace({\"ELO\":1,\n",
    "                                         \"NoSewer\":2,\n",
    "                                         \"AllPub\":3})"
   ]
  },
  {
   "cell_type": "code",
   "execution_count": 131,
   "id": "d17506e2",
   "metadata": {},
   "outputs": [
    {
     "data": {
      "text/plain": [
       "array([3, 1, 2], dtype=int64)"
      ]
     },
     "execution_count": 131,
     "metadata": {},
     "output_type": "execute_result"
    }
   ],
   "source": [
    "df.UTILITY_AVAIL.unique()"
   ]
  },
  {
   "cell_type": "code",
   "execution_count": 132,
   "id": "6af44d2c",
   "metadata": {},
   "outputs": [],
   "source": [
    "df.STREET=df.STREET.replace({\"No Access\":1,\n",
    "                        \"Paved\":2,\n",
    "                        \"Gravel\":3})"
   ]
  },
  {
   "cell_type": "code",
   "execution_count": 133,
   "id": "0f79d711",
   "metadata": {},
   "outputs": [
    {
     "data": {
      "text/plain": [
       "array([2, 3, 1], dtype=int64)"
      ]
     },
     "execution_count": 133,
     "metadata": {},
     "output_type": "execute_result"
    }
   ],
   "source": [
    "df.STREET.unique()"
   ]
  },
  {
   "cell_type": "code",
   "execution_count": 134,
   "id": "0247b8db",
   "metadata": {},
   "outputs": [],
   "source": [
    "df.MZZONE=df.MZZONE.replace({\"A\":1,\n",
    "                            \"C\":2,\n",
    "                            \"I\":3,\n",
    "                            \"RH\":4,\n",
    "                            \"RL\":5,\n",
    "                            \"RM\":6})"
   ]
  },
  {
   "cell_type": "code",
   "execution_count": 135,
   "id": "29d04c1c",
   "metadata": {},
   "outputs": [
    {
     "data": {
      "text/plain": [
       "array([1, 4, 5, 3, 2, 6], dtype=int64)"
      ]
     },
     "execution_count": 135,
     "metadata": {},
     "output_type": "execute_result"
    }
   ],
   "source": [
    "df.MZZONE.unique()"
   ]
  },
  {
   "cell_type": "code",
   "execution_count": 136,
   "id": "8b88ad49",
   "metadata": {},
   "outputs": [
    {
     "data": {
      "text/html": [
       "<div>\n",
       "<style scoped>\n",
       "    .dataframe tbody tr th:only-of-type {\n",
       "        vertical-align: middle;\n",
       "    }\n",
       "\n",
       "    .dataframe tbody tr th {\n",
       "        vertical-align: top;\n",
       "    }\n",
       "\n",
       "    .dataframe thead th {\n",
       "        text-align: right;\n",
       "    }\n",
       "</style>\n",
       "<table border=\"1\" class=\"dataframe\">\n",
       "  <thead>\n",
       "    <tr style=\"text-align: right;\">\n",
       "      <th></th>\n",
       "      <th>AREA</th>\n",
       "      <th>INT_SQFT</th>\n",
       "      <th>DATE_SALE</th>\n",
       "      <th>DIST_MAINROAD</th>\n",
       "      <th>N_BEDROOM</th>\n",
       "      <th>N_BATHROOM</th>\n",
       "      <th>N_ROOM</th>\n",
       "      <th>SALE_COND</th>\n",
       "      <th>PARK_FACIL</th>\n",
       "      <th>DATE_BUILD</th>\n",
       "      <th>...</th>\n",
       "      <th>MZZONE</th>\n",
       "      <th>QS_ROOMS</th>\n",
       "      <th>QS_BATHROOM</th>\n",
       "      <th>QS_BEDROOM</th>\n",
       "      <th>QS_OVERALL</th>\n",
       "      <th>SALES_PRICE</th>\n",
       "      <th>HOUSE_AGE</th>\n",
       "      <th>BUILDTYPE_Commercial</th>\n",
       "      <th>BUILDTYPE_House</th>\n",
       "      <th>BUILDTYPE_Others</th>\n",
       "    </tr>\n",
       "  </thead>\n",
       "  <tbody>\n",
       "    <tr>\n",
       "      <th>0</th>\n",
       "      <td>1</td>\n",
       "      <td>1004</td>\n",
       "      <td>2011-04-05</td>\n",
       "      <td>131</td>\n",
       "      <td>1</td>\n",
       "      <td>1</td>\n",
       "      <td>3</td>\n",
       "      <td>3</td>\n",
       "      <td>1</td>\n",
       "      <td>1967-05-15</td>\n",
       "      <td>...</td>\n",
       "      <td>1</td>\n",
       "      <td>4.0</td>\n",
       "      <td>3.9</td>\n",
       "      <td>4.9</td>\n",
       "      <td>4.330</td>\n",
       "      <td>7600000</td>\n",
       "      <td>44</td>\n",
       "      <td>1</td>\n",
       "      <td>0</td>\n",
       "      <td>0</td>\n",
       "    </tr>\n",
       "    <tr>\n",
       "      <th>1</th>\n",
       "      <td>6</td>\n",
       "      <td>1986</td>\n",
       "      <td>2006-12-19</td>\n",
       "      <td>26</td>\n",
       "      <td>2</td>\n",
       "      <td>1</td>\n",
       "      <td>5</td>\n",
       "      <td>3</td>\n",
       "      <td>0</td>\n",
       "      <td>1995-12-22</td>\n",
       "      <td>...</td>\n",
       "      <td>4</td>\n",
       "      <td>4.9</td>\n",
       "      <td>4.2</td>\n",
       "      <td>2.5</td>\n",
       "      <td>3.765</td>\n",
       "      <td>21717770</td>\n",
       "      <td>11</td>\n",
       "      <td>1</td>\n",
       "      <td>0</td>\n",
       "      <td>0</td>\n",
       "    </tr>\n",
       "    <tr>\n",
       "      <th>2</th>\n",
       "      <td>2</td>\n",
       "      <td>909</td>\n",
       "      <td>2012-04-02</td>\n",
       "      <td>70</td>\n",
       "      <td>1</td>\n",
       "      <td>1</td>\n",
       "      <td>3</td>\n",
       "      <td>3</td>\n",
       "      <td>1</td>\n",
       "      <td>1992-09-02</td>\n",
       "      <td>...</td>\n",
       "      <td>5</td>\n",
       "      <td>4.1</td>\n",
       "      <td>3.8</td>\n",
       "      <td>2.2</td>\n",
       "      <td>3.090</td>\n",
       "      <td>13159200</td>\n",
       "      <td>20</td>\n",
       "      <td>1</td>\n",
       "      <td>0</td>\n",
       "      <td>0</td>\n",
       "    </tr>\n",
       "    <tr>\n",
       "      <th>3</th>\n",
       "      <td>4</td>\n",
       "      <td>1855</td>\n",
       "      <td>2010-03-13</td>\n",
       "      <td>14</td>\n",
       "      <td>3</td>\n",
       "      <td>2</td>\n",
       "      <td>5</td>\n",
       "      <td>2</td>\n",
       "      <td>0</td>\n",
       "      <td>1988-03-18</td>\n",
       "      <td>...</td>\n",
       "      <td>3</td>\n",
       "      <td>4.7</td>\n",
       "      <td>3.9</td>\n",
       "      <td>3.6</td>\n",
       "      <td>4.010</td>\n",
       "      <td>9630290</td>\n",
       "      <td>22</td>\n",
       "      <td>0</td>\n",
       "      <td>0</td>\n",
       "      <td>1</td>\n",
       "    </tr>\n",
       "    <tr>\n",
       "      <th>4</th>\n",
       "      <td>1</td>\n",
       "      <td>1226</td>\n",
       "      <td>2009-05-10</td>\n",
       "      <td>84</td>\n",
       "      <td>1</td>\n",
       "      <td>1</td>\n",
       "      <td>3</td>\n",
       "      <td>3</td>\n",
       "      <td>1</td>\n",
       "      <td>1979-10-13</td>\n",
       "      <td>...</td>\n",
       "      <td>2</td>\n",
       "      <td>3.0</td>\n",
       "      <td>2.5</td>\n",
       "      <td>4.1</td>\n",
       "      <td>3.290</td>\n",
       "      <td>7406250</td>\n",
       "      <td>30</td>\n",
       "      <td>0</td>\n",
       "      <td>0</td>\n",
       "      <td>1</td>\n",
       "    </tr>\n",
       "  </tbody>\n",
       "</table>\n",
       "<p>5 rows × 22 columns</p>\n",
       "</div>"
      ],
      "text/plain": [
       "   AREA  INT_SQFT  DATE_SALE  DIST_MAINROAD  N_BEDROOM  N_BATHROOM  N_ROOM  \\\n",
       "0     1      1004 2011-04-05            131          1           1       3   \n",
       "1     6      1986 2006-12-19             26          2           1       5   \n",
       "2     2       909 2012-04-02             70          1           1       3   \n",
       "3     4      1855 2010-03-13             14          3           2       5   \n",
       "4     1      1226 2009-05-10             84          1           1       3   \n",
       "\n",
       "   SALE_COND  PARK_FACIL DATE_BUILD  ...  MZZONE  QS_ROOMS  QS_BATHROOM  \\\n",
       "0          3           1 1967-05-15  ...       1       4.0          3.9   \n",
       "1          3           0 1995-12-22  ...       4       4.9          4.2   \n",
       "2          3           1 1992-09-02  ...       5       4.1          3.8   \n",
       "3          2           0 1988-03-18  ...       3       4.7          3.9   \n",
       "4          3           1 1979-10-13  ...       2       3.0          2.5   \n",
       "\n",
       "   QS_BEDROOM  QS_OVERALL  SALES_PRICE  HOUSE_AGE  BUILDTYPE_Commercial  \\\n",
       "0         4.9       4.330      7600000         44                     1   \n",
       "1         2.5       3.765     21717770         11                     1   \n",
       "2         2.2       3.090     13159200         20                     1   \n",
       "3         3.6       4.010      9630290         22                     0   \n",
       "4         4.1       3.290      7406250         30                     0   \n",
       "\n",
       "   BUILDTYPE_House  BUILDTYPE_Others  \n",
       "0                0                 0  \n",
       "1                0                 0  \n",
       "2                0                 0  \n",
       "3                0                 1  \n",
       "4                0                 1  \n",
       "\n",
       "[5 rows x 22 columns]"
      ]
     },
     "execution_count": 136,
     "metadata": {},
     "output_type": "execute_result"
    }
   ],
   "source": [
    "df.head()"
   ]
  },
  {
   "cell_type": "code",
   "execution_count": 137,
   "id": "17550425",
   "metadata": {},
   "outputs": [
    {
     "name": "stdout",
     "output_type": "stream",
     "text": [
      "<class 'pandas.core.frame.DataFrame'>\n",
      "Int64Index: 7109 entries, 0 to 7108\n",
      "Data columns (total 22 columns):\n",
      " #   Column                Non-Null Count  Dtype         \n",
      "---  ------                --------------  -----         \n",
      " 0   AREA                  7109 non-null   int64         \n",
      " 1   INT_SQFT              7109 non-null   int64         \n",
      " 2   DATE_SALE             7109 non-null   datetime64[ns]\n",
      " 3   DIST_MAINROAD         7109 non-null   int64         \n",
      " 4   N_BEDROOM             7109 non-null   int32         \n",
      " 5   N_BATHROOM            7109 non-null   int32         \n",
      " 6   N_ROOM                7109 non-null   int64         \n",
      " 7   SALE_COND             7109 non-null   int64         \n",
      " 8   PARK_FACIL            7109 non-null   int64         \n",
      " 9   DATE_BUILD            7109 non-null   datetime64[ns]\n",
      " 10  UTILITY_AVAIL         7109 non-null   int64         \n",
      " 11  STREET                7109 non-null   int64         \n",
      " 12  MZZONE                7109 non-null   int64         \n",
      " 13  QS_ROOMS              7109 non-null   float64       \n",
      " 14  QS_BATHROOM           7109 non-null   float64       \n",
      " 15  QS_BEDROOM            7109 non-null   float64       \n",
      " 16  QS_OVERALL            7109 non-null   float64       \n",
      " 17  SALES_PRICE           7109 non-null   int64         \n",
      " 18  HOUSE_AGE             7109 non-null   int64         \n",
      " 19  BUILDTYPE_Commercial  7109 non-null   uint8         \n",
      " 20  BUILDTYPE_House       7109 non-null   uint8         \n",
      " 21  BUILDTYPE_Others      7109 non-null   uint8         \n",
      "dtypes: datetime64[ns](2), float64(4), int32(2), int64(11), uint8(3)\n",
      "memory usage: 1.1 MB\n"
     ]
    }
   ],
   "source": [
    "df.info()"
   ]
  },
  {
   "cell_type": "code",
   "execution_count": 138,
   "id": "fd548e16",
   "metadata": {},
   "outputs": [],
   "source": [
    "df1=df.copy()    ###copyied"
   ]
  },
  {
   "cell_type": "markdown",
   "id": "9bde499a",
   "metadata": {},
   "source": [
    "# Spliting"
   ]
  },
  {
   "cell_type": "code",
   "execution_count": 139,
   "id": "381b28d5",
   "metadata": {},
   "outputs": [],
   "source": [
    "x=df.drop([\"SALES_PRICE\",\"DATE_SALE\",\"DATE_BUILD\",\"QS_ROOMS\",\"QS_BATHROOM\",\"QS_BEDROOM\",\"QS_OVERALL\",\"DIST_MAINROAD\"],axis=1)\n",
    "                         #dropping \n",
    "y=df[\"SALES_PRICE\"]        "
   ]
  },
  {
   "cell_type": "code",
   "execution_count": 140,
   "id": "11380c58",
   "metadata": {},
   "outputs": [
    {
     "data": {
      "text/html": [
       "<div>\n",
       "<style scoped>\n",
       "    .dataframe tbody tr th:only-of-type {\n",
       "        vertical-align: middle;\n",
       "    }\n",
       "\n",
       "    .dataframe tbody tr th {\n",
       "        vertical-align: top;\n",
       "    }\n",
       "\n",
       "    .dataframe thead th {\n",
       "        text-align: right;\n",
       "    }\n",
       "</style>\n",
       "<table border=\"1\" class=\"dataframe\">\n",
       "  <thead>\n",
       "    <tr style=\"text-align: right;\">\n",
       "      <th></th>\n",
       "      <th>AREA</th>\n",
       "      <th>INT_SQFT</th>\n",
       "      <th>N_BEDROOM</th>\n",
       "      <th>N_BATHROOM</th>\n",
       "      <th>N_ROOM</th>\n",
       "      <th>SALE_COND</th>\n",
       "      <th>PARK_FACIL</th>\n",
       "      <th>UTILITY_AVAIL</th>\n",
       "      <th>STREET</th>\n",
       "      <th>MZZONE</th>\n",
       "      <th>HOUSE_AGE</th>\n",
       "      <th>BUILDTYPE_Commercial</th>\n",
       "      <th>BUILDTYPE_House</th>\n",
       "      <th>BUILDTYPE_Others</th>\n",
       "    </tr>\n",
       "  </thead>\n",
       "  <tbody>\n",
       "    <tr>\n",
       "      <th>0</th>\n",
       "      <td>1</td>\n",
       "      <td>1004</td>\n",
       "      <td>1</td>\n",
       "      <td>1</td>\n",
       "      <td>3</td>\n",
       "      <td>3</td>\n",
       "      <td>1</td>\n",
       "      <td>3</td>\n",
       "      <td>2</td>\n",
       "      <td>1</td>\n",
       "      <td>44</td>\n",
       "      <td>1</td>\n",
       "      <td>0</td>\n",
       "      <td>0</td>\n",
       "    </tr>\n",
       "    <tr>\n",
       "      <th>1</th>\n",
       "      <td>6</td>\n",
       "      <td>1986</td>\n",
       "      <td>2</td>\n",
       "      <td>1</td>\n",
       "      <td>5</td>\n",
       "      <td>3</td>\n",
       "      <td>0</td>\n",
       "      <td>3</td>\n",
       "      <td>3</td>\n",
       "      <td>4</td>\n",
       "      <td>11</td>\n",
       "      <td>1</td>\n",
       "      <td>0</td>\n",
       "      <td>0</td>\n",
       "    </tr>\n",
       "    <tr>\n",
       "      <th>2</th>\n",
       "      <td>2</td>\n",
       "      <td>909</td>\n",
       "      <td>1</td>\n",
       "      <td>1</td>\n",
       "      <td>3</td>\n",
       "      <td>3</td>\n",
       "      <td>1</td>\n",
       "      <td>1</td>\n",
       "      <td>3</td>\n",
       "      <td>5</td>\n",
       "      <td>20</td>\n",
       "      <td>1</td>\n",
       "      <td>0</td>\n",
       "      <td>0</td>\n",
       "    </tr>\n",
       "    <tr>\n",
       "      <th>3</th>\n",
       "      <td>4</td>\n",
       "      <td>1855</td>\n",
       "      <td>3</td>\n",
       "      <td>2</td>\n",
       "      <td>5</td>\n",
       "      <td>2</td>\n",
       "      <td>0</td>\n",
       "      <td>2</td>\n",
       "      <td>2</td>\n",
       "      <td>3</td>\n",
       "      <td>22</td>\n",
       "      <td>0</td>\n",
       "      <td>0</td>\n",
       "      <td>1</td>\n",
       "    </tr>\n",
       "    <tr>\n",
       "      <th>4</th>\n",
       "      <td>1</td>\n",
       "      <td>1226</td>\n",
       "      <td>1</td>\n",
       "      <td>1</td>\n",
       "      <td>3</td>\n",
       "      <td>3</td>\n",
       "      <td>1</td>\n",
       "      <td>3</td>\n",
       "      <td>3</td>\n",
       "      <td>2</td>\n",
       "      <td>30</td>\n",
       "      <td>0</td>\n",
       "      <td>0</td>\n",
       "      <td>1</td>\n",
       "    </tr>\n",
       "  </tbody>\n",
       "</table>\n",
       "</div>"
      ],
      "text/plain": [
       "   AREA  INT_SQFT  N_BEDROOM  N_BATHROOM  N_ROOM  SALE_COND  PARK_FACIL  \\\n",
       "0     1      1004          1           1       3          3           1   \n",
       "1     6      1986          2           1       5          3           0   \n",
       "2     2       909          1           1       3          3           1   \n",
       "3     4      1855          3           2       5          2           0   \n",
       "4     1      1226          1           1       3          3           1   \n",
       "\n",
       "   UTILITY_AVAIL  STREET  MZZONE  HOUSE_AGE  BUILDTYPE_Commercial  \\\n",
       "0              3       2       1         44                     1   \n",
       "1              3       3       4         11                     1   \n",
       "2              1       3       5         20                     1   \n",
       "3              2       2       3         22                     0   \n",
       "4              3       3       2         30                     0   \n",
       "\n",
       "   BUILDTYPE_House  BUILDTYPE_Others  \n",
       "0                0                 0  \n",
       "1                0                 0  \n",
       "2                0                 0  \n",
       "3                0                 1  \n",
       "4                0                 1  "
      ]
     },
     "execution_count": 140,
     "metadata": {},
     "output_type": "execute_result"
    }
   ],
   "source": [
    "x.head()"
   ]
  },
  {
   "cell_type": "code",
   "execution_count": 141,
   "id": "95696b56",
   "metadata": {},
   "outputs": [
    {
     "data": {
      "text/plain": [
       "0     7600000\n",
       "1    21717770\n",
       "2    13159200\n",
       "3     9630290\n",
       "4     7406250\n",
       "Name: SALES_PRICE, dtype: int64"
      ]
     },
     "execution_count": 141,
     "metadata": {},
     "output_type": "execute_result"
    }
   ],
   "source": [
    "y.head()"
   ]
  },
  {
   "cell_type": "code",
   "execution_count": 142,
   "id": "69267ec8",
   "metadata": {},
   "outputs": [],
   "source": [
    "from sklearn.model_selection import train_test_split"
   ]
  },
  {
   "cell_type": "code",
   "execution_count": 143,
   "id": "989f137e",
   "metadata": {},
   "outputs": [],
   "source": [
    "X_train, X_test, y_train, y_test = train_test_split(x,y,test_size=0.2, random_state = 10)"
   ]
  },
  {
   "cell_type": "code",
   "execution_count": 144,
   "id": "66defd12",
   "metadata": {},
   "outputs": [
    {
     "data": {
      "text/plain": [
       "591      8476180\n",
       "2651    13238930\n",
       "5737     6433250\n",
       "5601     9356020\n",
       "1114     9758035\n",
       "          ...   \n",
       "1180     6369250\n",
       "3441     6709500\n",
       "1344    15913570\n",
       "4623    11696200\n",
       "1289     8897050\n",
       "Name: SALES_PRICE, Length: 5687, dtype: int64"
      ]
     },
     "execution_count": 144,
     "metadata": {},
     "output_type": "execute_result"
    }
   ],
   "source": [
    "y_train"
   ]
  },
  {
   "cell_type": "markdown",
   "id": "e4913c58",
   "metadata": {},
   "source": [
    "# Scalling"
   ]
  },
  {
   "cell_type": "code",
   "execution_count": 145,
   "id": "3ef591c6",
   "metadata": {},
   "outputs": [
    {
     "data": {
      "image/png": "[encoded data removed]",
      "text/plain": [
       "<Figure size 1080x360 with 1 Axes>"
      ]
     },
     "metadata": {
      "needs_background": "light"
     },
     "output_type": "display_data"
    }
   ],
   "source": [
    "pd.DataFrame(X_train, columns=X_train.columns).plot.box(figsize=(15,5), rot=90)\n",
    "plt.show()"
   ]
  },
  {
   "cell_type": "markdown",
   "id": "f81bdb95",
   "metadata": {},
   "source": [
    " here, ***INT_SQFT**only cantain large value ,ramaining features cantain  small values "
   ]
  },
  {
   "cell_type": "markdown",
   "id": "ae9688f4",
   "metadata": {},
   "source": [
    "### ScanderdScaler"
   ]
  },
  {
   "cell_type": "code",
   "execution_count": 146,
   "id": "166b4eed",
   "metadata": {},
   "outputs": [],
   "source": [
    "from sklearn.preprocessing import StandardScaler"
   ]
  },
  {
   "cell_type": "code",
   "execution_count": 147,
   "id": "26f4a3ba",
   "metadata": {},
   "outputs": [],
   "source": [
    "sc = StandardScaler().fit(X_train)\n",
    "X_train_sc = sc.transform(X_train)\n",
    "X_train_sc = pd.DataFrame(X_train_sc, columns=X_train.columns)\n",
    "X_test_sc = sc.transform(X_test)\n",
    "X_test_sc = pd.DataFrame(X_test_sc, columns=X_test.columns)\n"
   ]
  },
  {
   "cell_type": "code",
   "execution_count": 148,
   "id": "26763210",
   "metadata": {},
   "outputs": [
    {
     "data": {
      "image/png": "[encoded data removed]",
      "text/plain": [
       "<Figure size 432x288 with 1 Axes>"
      ]
     },
     "metadata": {
      "needs_background": "light"
     },
     "output_type": "display_data"
    }
   ],
   "source": [
    "X_train_sc.plot.box(rot=90)\n",
    "plt.show()"
   ]
  },
  {
   "cell_type": "markdown",
   "id": "e35e4c2c",
   "metadata": {},
   "source": [
    "# MODEL TRAINING"
   ]
  },
  {
   "cell_type": "markdown",
   "id": "98973418",
   "metadata": {},
   "source": [
    "### LinearRegression"
   ]
  },
  {
   "cell_type": "code",
   "execution_count": 149,
   "id": "3da9ca21",
   "metadata": {},
   "outputs": [],
   "source": [
    "from sklearn.linear_model import LinearRegression\n",
    "lr=LinearRegression()\n",
    "from sklearn.metrics import r2_score"
   ]
  },
  {
   "cell_type": "code",
   "execution_count": 150,
   "id": "2d9a7679",
   "metadata": {},
   "outputs": [
    {
     "data": {
      "text/plain": [
       "0.9243183563590793"
      ]
     },
     "execution_count": 150,
     "metadata": {},
     "output_type": "execute_result"
    }
   ],
   "source": [
    "lr.fit(X_train_sc,y_train)\n",
    "y_predlrss = lr.predict(X_test_sc)\n",
    "r2scoresc=r2_score(y_test,y_predlrss)\n",
    "r2scoresc"
   ]
  },
  {
   "cell_type": "code",
   "execution_count": 151,
   "id": "88a4b616",
   "metadata": {},
   "outputs": [
    {
     "data": {
      "text/plain": [
       "0.9243899251245712"
      ]
     },
     "execution_count": 151,
     "metadata": {},
     "output_type": "execute_result"
    }
   ],
   "source": [
    "lr.fit(X_train,y_train)\n",
    "y_predlrss = lr.predict(X_test)\n",
    "r2score=r2_score(y_test,y_predlrss)\n",
    "r2score\n"
   ]
  },
  {
   "cell_type": "code",
   "execution_count": 152,
   "id": "6f32b05a",
   "metadata": {},
   "outputs": [
    {
     "name": "stdout",
     "output_type": "stream",
     "text": [
      "R2- SCORE: 0.9243899251245712\n",
      "R2- SCORE(sc): 0.9243183563590793\n"
     ]
    }
   ],
   "source": [
    "print('R2- SCORE:',r2score)\n",
    "print('R2- SCORE(sc):',r2scoresc)"
   ]
  },
  {
   "cell_type": "markdown",
   "id": "e07f9203",
   "metadata": {},
   "source": [
    "## KNearestNeighbors\n",
    "\n",
    "\n"
   ]
  },
  {
   "cell_type": "code",
   "execution_count": 153,
   "id": "f37b006f",
   "metadata": {},
   "outputs": [],
   "source": [
    "from sklearn.neighbors import KNeighborsRegressor\n",
    "knn=KNeighborsRegressor()"
   ]
  },
  {
   "cell_type": "code",
   "execution_count": 154,
   "id": "bf49273e",
   "metadata": {},
   "outputs": [
    {
     "data": {
      "text/plain": [
       "0.9444448121475122"
      ]
     },
     "execution_count": 154,
     "metadata": {},
     "output_type": "execute_result"
    }
   ],
   "source": [
    "knn = KNeighborsRegressor(n_neighbors=4)\n",
    "knn.fit(X_train_sc, y_train)\n",
    "y_predknn_sc = knn.predict(X_test_sc)\n",
    "r2knnsc=r2_score(y_test,y_predknn_sc)\n",
    "r2knnsc"
   ]
  },
  {
   "cell_type": "code",
   "execution_count": 155,
   "id": "288b011c",
   "metadata": {},
   "outputs": [
    {
     "data": {
      "text/plain": [
       "0.41899925086451406"
      ]
     },
     "execution_count": 155,
     "metadata": {},
     "output_type": "execute_result"
    }
   ],
   "source": [
    "knn = KNeighborsRegressor(n_neighbors=100)\n",
    "knn.fit(X_train, y_train)\n",
    "y_predknn = knn.predict(X_test)\n",
    "r2knn=r2_score(y_test,y_predknn)\n",
    "r2knn"
   ]
  },
  {
   "cell_type": "code",
   "execution_count": 156,
   "id": "e0071956",
   "metadata": {},
   "outputs": [
    {
     "name": "stdout",
     "output_type": "stream",
     "text": [
      "R2-SCORE(KNN-SC): 0.9444448121475122\n",
      "R2-SCORE(KNN): 0.41899925086451406\n"
     ]
    }
   ],
   "source": [
    "print(\"R2-SCORE(KNN-SC):\",r2knnsc)\n",
    "print(\"R2-SCORE(KNN):\",r2knn)"
   ]
  },
  {
   "cell_type": "markdown",
   "id": "32020db5",
   "metadata": {},
   "source": [
    "# DecisionTree"
   ]
  },
  {
   "cell_type": "code",
   "execution_count": 157,
   "id": "bf59223b",
   "metadata": {},
   "outputs": [],
   "source": [
    "from sklearn.tree import DecisionTreeRegressor\n",
    "dt=DecisionTreeRegressor()"
   ]
  },
  {
   "cell_type": "code",
   "execution_count": 158,
   "id": "645b40f5",
   "metadata": {},
   "outputs": [
    {
     "data": {
      "text/plain": [
       "0.9752549455564888"
      ]
     },
     "execution_count": 158,
     "metadata": {},
     "output_type": "execute_result"
    }
   ],
   "source": [
    "dt.fit(X_train_sc, y_train)\n",
    "y_pred_dtsc = dt.predict(X_test_sc)\n",
    "r2score_dt_sc=r2_score(y_test,y_pred_dtsc)\n",
    "r2score_dt_sc"
   ]
  },
  {
   "cell_type": "code",
   "execution_count": 159,
   "id": "ae5a19b8",
   "metadata": {},
   "outputs": [
    {
     "data": {
      "text/plain": [
       "0.9753396811792124"
      ]
     },
     "execution_count": 159,
     "metadata": {},
     "output_type": "execute_result"
    }
   ],
   "source": [
    "dt.fit(X_train, y_train)\n",
    "y_pred_dt = dt.predict(X_test)\n",
    "r2score_dt=r2_score(y_test,y_pred_dt)\n",
    "r2score_dt"
   ]
  },
  {
   "cell_type": "code",
   "execution_count": 160,
   "id": "3ebe328b",
   "metadata": {},
   "outputs": [
    {
     "name": "stdout",
     "output_type": "stream",
     "text": [
      "R2_scor_DT_SC: 0.9752549455564888\n",
      "R2_Score_dt: 0.9753396811792124\n"
     ]
    }
   ],
   "source": [
    "print(\"R2_scor_DT_SC:\",r2score_dt_sc)\n",
    "print(\"R2_Score_dt:\",r2score_dt)"
   ]
  },
  {
   "cell_type": "markdown",
   "id": "6ce7b290",
   "metadata": {},
   "source": [
    "## Random Forest"
   ]
  },
  {
   "cell_type": "code",
   "execution_count": 161,
   "id": "04deb16f",
   "metadata": {},
   "outputs": [],
   "source": [
    "from sklearn.ensemble import RandomForestRegressor\n",
    "rf=RandomForestRegressor(n_estimators= 100, max_depth=15,max_features='sqrt')"
   ]
  },
  {
   "cell_type": "code",
   "execution_count": 162,
   "id": "668f0a6f",
   "metadata": {},
   "outputs": [
    {
     "data": {
      "text/plain": [
       "0.9868736465183857"
      ]
     },
     "execution_count": 162,
     "metadata": {},
     "output_type": "execute_result"
    }
   ],
   "source": [
    "rf.fit(X_train_sc, y_train);\n",
    "y_pred_rfsc = rf.predict(X_test_sc)\n",
    "R2_score_rf_sc=r2_score(y_test,y_pred_rfsc)\n",
    "R2_score_rf_sc"
   ]
  },
  {
   "cell_type": "code",
   "execution_count": 163,
   "id": "ec3fcb43",
   "metadata": {},
   "outputs": [
    {
     "data": {
      "text/plain": [
       "0.9867356515379557"
      ]
     },
     "execution_count": 163,
     "metadata": {},
     "output_type": "execute_result"
    }
   ],
   "source": [
    "rf.fit(X_train,y_train);\n",
    "y_pred_rf=rf.predict(X_test)\n",
    "R2_score_rf=r2_score(y_test,y_pred_rf)\n",
    "R2_score_rf"
   ]
  },
  {
   "cell_type": "code",
   "execution_count": 164,
   "id": "f2057fb5",
   "metadata": {},
   "outputs": [
    {
     "name": "stdout",
     "output_type": "stream",
     "text": [
      "R2_score_rf_sc: 0.9868736465183857\n",
      "R2_score_rf: 0.9867356515379557\n"
     ]
    }
   ],
   "source": [
    "print(\"R2_score_rf_sc:\",R2_score_rf_sc)\n",
    "print(\"R2_score_rf:\",R2_score_rf)"
   ]
  },
  {
   "cell_type": "markdown",
   "id": "09d9ffe1",
   "metadata": {},
   "source": [
    "# XGBoost"
   ]
  },
  {
   "cell_type": "code",
   "execution_count": 165,
   "id": "1f56e44b",
   "metadata": {},
   "outputs": [],
   "source": [
    "import xgboost as xgb"
   ]
  },
  {
   "cell_type": "code",
   "execution_count": 166,
   "id": "472bcd88",
   "metadata": {},
   "outputs": [
    {
     "name": "stdout",
     "output_type": "stream",
     "text": [
      "learning rate: 0.2 train_score: 0.9991858371430457 test_scor: 0.9971338890170836\n",
      "learning rate: 0.5 train_score: 0.9992887559414833 test_scor: 0.9940491701623687\n",
      "learning rate: 0.7 train_score: 0.9995088214581859 test_scor: 0.991935078948939\n",
      "learning rate: 0.8 train_score: 0.9995416451400153 test_scor: 0.9903616192984844\n",
      "learning rate: 1 train_score: 0.9994277812349863 test_scor: 0.982246766399713\n"
     ]
    }
   ],
   "source": [
    "rate= [0.2,0.5,0.7,0.8,1]\n",
    "for lr in rate:\n",
    "  xg=xgb.XGBRegressor(learning_rate=lr, n_estimators=100, verbosity=0)\n",
    "  xg.fit(X_train,y_train)\n",
    "  print(\"learning rate:\",lr, \"train_score:\",xg.score(X_train,y_train),\"test_scor:\",xg.score(X_test,y_test))"
   ]
  },
  {
   "cell_type": "code",
   "execution_count": 167,
   "id": "a10da56b",
   "metadata": {},
   "outputs": [
    {
     "data": {
      "text/plain": [
       "0.991935078948939"
      ]
     },
     "execution_count": 167,
     "metadata": {},
     "output_type": "execute_result"
    }
   ],
   "source": [
    "xg = xgb.XGBRegressor(learning_rate = .7, n_estimators=100, verbosity = 0)\n",
    "xg.fit(X_train, y_train)\n",
    "y_pred_gbr = xg.predict(X_test)\n",
    "r2_score_xg=r2_score(y_test,y_pred_gbr)\n",
    "r2_score_xg"
   ]
  },
  {
   "cell_type": "code",
   "execution_count": 168,
   "id": "820b20db",
   "metadata": {},
   "outputs": [
    {
     "data": {
      "text/plain": [
       "0.9919184569462963"
      ]
     },
     "execution_count": 168,
     "metadata": {},
     "output_type": "execute_result"
    }
   ],
   "source": [
    "xg = xgb.XGBRegressor(learning_rate = .7, n_estimators=100, verbosity = 0)\n",
    "xg.fit(X_train_sc, y_train)\n",
    "y_pred_gbr_sc = xg.predict(X_test_sc)\n",
    "r2_score_xg_sc=r2_score(y_test,y_pred_gbr_sc)\n",
    "r2_score_xg_sc"
   ]
  },
  {
   "cell_type": "code",
   "execution_count": 169,
   "id": "9b852fee",
   "metadata": {},
   "outputs": [
    {
     "name": "stdout",
     "output_type": "stream",
     "text": [
      "R2_scor_xg: 0.991935078948939\n",
      "R2_scor_xg_sc: 0.9919184569462963\n"
     ]
    }
   ],
   "source": [
    "print(\"R2_scor_xg:\",r2_score_xg)\n",
    "print(\"R2_scor_xg_sc:\",r2_score_xg_sc)"
   ]
  },
  {
   "cell_type": "markdown",
   "id": "923a0544",
   "metadata": {},
   "source": [
    "### GradientBoostingRegressor"
   ]
  },
  {
   "cell_type": "code",
   "execution_count": 170,
   "id": "69723d98",
   "metadata": {},
   "outputs": [],
   "source": [
    "from sklearn.ensemble import GradientBoostingRegressor"
   ]
  },
  {
   "cell_type": "code",
   "execution_count": 171,
   "id": "a681993f",
   "metadata": {},
   "outputs": [
    {
     "name": "stdout",
     "output_type": "stream",
     "text": [
      "Learning rate :  0.1  Train score :  0.9922880568645196  Test score :  0.9913753523013584\n",
      "Learning rate :  0.3  Train score :  0.9971316199176069  Test score :  0.9965510891908238\n",
      "Learning rate :  0.5  Train score :  0.9974229756768016  Test score :  0.9966962060751582\n",
      "Learning rate :  0.8  Train score :  0.9979749672353404  Test score :  0.9970775144043235\n",
      "Learning rate :  1  Train score :  0.9977111923789183  Test score :  0.9965188209483062\n"
     ]
    }
   ],
   "source": [
    "lrate= [0.1,0.3,0.5,0.8,1]\n",
    "for lr in lrate:\n",
    "  model= GradientBoostingRegressor(learning_rate=lr)\n",
    "  model.fit(X_train, y_train)\n",
    "  print(\"Learning rate : \", lr, \" Train score : \", model.score(X_train,y_train), \" Test score : \", model.score(X_test,y_test))"
   ]
  },
  {
   "cell_type": "code",
   "execution_count": 172,
   "id": "54f2e247",
   "metadata": {},
   "outputs": [
    {
     "data": {
      "text/plain": [
       "0.9971018018153959"
      ]
     },
     "execution_count": 172,
     "metadata": {},
     "output_type": "execute_result"
    }
   ],
   "source": [
    "gbr = GradientBoostingRegressor(learning_rate=.8)\n",
    "gbr.fit(X_train, y_train)\n",
    "y_pred_gbr = gbr.predict(X_test)\n",
    "r2_score_gb=r2_score(y_test,y_pred_gbr)\n",
    "r2_score_gb"
   ]
  },
  {
   "cell_type": "code",
   "execution_count": 173,
   "id": "5b512a0f",
   "metadata": {},
   "outputs": [
    {
     "data": {
      "text/plain": [
       "0.9970733534409199"
      ]
     },
     "execution_count": 173,
     "metadata": {},
     "output_type": "execute_result"
    }
   ],
   "source": [
    "gbr.fit(X_train_sc, y_train)\n",
    "y_pred_gbrsc = gbr.predict(X_test_sc)\n",
    "r2_score_gb_sc=r2_score(y_test,y_pred_gbrsc)\n",
    "r2_score_gb_sc"
   ]
  },
  {
   "cell_type": "code",
   "execution_count": 174,
   "id": "3e621c3c",
   "metadata": {},
   "outputs": [
    {
     "data": {
      "text/plain": [
       "array([15586254.94365413, 19045297.68617011, 13239095.31407207, ...,\n",
       "        6469125.58657948, 14244118.83631668,  7743315.55866325])"
      ]
     },
     "execution_count": 174,
     "metadata": {},
     "output_type": "execute_result"
    }
   ],
   "source": [
    " gbr.predict(X_test_sc)"
   ]
  },
  {
   "cell_type": "code",
   "execution_count": 175,
   "id": "5bcd166f",
   "metadata": {},
   "outputs": [
    {
     "data": {
      "text/plain": [
       "(461     15664740\n",
       " 3358    19286610\n",
       " 3751    13308490\n",
       " 2386    12496560\n",
       " 1125     9082000\n",
       "           ...   \n",
       " 6010    13104880\n",
       " 4903    14083210\n",
       " 6806     6835375\n",
       " 3832    14154820\n",
       " 364      7968490\n",
       " Name: SALES_PRICE, Length: 1422, dtype: int64,\n",
       " array([15586254.94365413, 19045297.68617011, 13239095.31407207, ...,\n",
       "         6469125.58657948, 14244118.83631668,  7743315.55866325]))"
      ]
     },
     "execution_count": 175,
     "metadata": {},
     "output_type": "execute_result"
    }
   ],
   "source": [
    "y_test_prediction=(y_test,y_pred_gbrsc)\n",
    "y_test_prediction"
   ]
  },
  {
   "cell_type": "code",
   "execution_count": 176,
   "id": "e87bd2ff",
   "metadata": {},
   "outputs": [
    {
     "name": "stdout",
     "output_type": "stream",
     "text": [
      "R2_score_gb: 0.9971018018153959\n",
      "R2_score_gb_sc: 0.9970733534409199\n"
     ]
    }
   ],
   "source": [
    "print(\"R2_score_gb:\",r2_score_gb)\n",
    "print(\"R2_score_gb_sc:\",r2_score_gb_sc)"
   ]
  },
  {
   "cell_type": "markdown",
   "id": "5f879227",
   "metadata": {},
   "source": [
    "# Best scores"
   ]
  },
  {
   "cell_type": "code",
   "execution_count": 177,
   "id": "b2852eb3",
   "metadata": {},
   "outputs": [
    {
     "name": "stdout",
     "output_type": "stream",
     "text": [
      "GradientBoostingRegressor give R2_score of  :   0.9970733534409199\n",
      "\n",
      "\n",
      "XGBRegressor gives R2_score of  :    0.991935078948939\n",
      "\n",
      "\n",
      "RandomForestRegressor gives R2_score of  :   0.9868736465183857\n",
      "\n",
      "\n",
      "LinearRegression gives R2_score of   :   0.9243899251245712\n",
      "\n",
      "\n",
      "KNeighborsRegressor gives R2_score of  :   0.9444448121475122\n",
      "\n",
      "\n",
      "DecisionTreeRegressor gives R2_score of  :   0.9752549455564888\n"
     ]
    }
   ],
   "source": [
    "print(\"GradientBoostingRegressor give R2_score of  :  \",r2_score_gb_sc)\n",
    "print(\"\\n\")\n",
    "\n",
    "print(\"XGBRegressor gives R2_score of  :   \",r2_score_xg)\n",
    "print(\"\\n\")\n",
    "\n",
    "print(\"RandomForestRegressor gives R2_score of  :  \",R2_score_rf_sc)\n",
    "print(\"\\n\")\n",
    "\n",
    "print(\"LinearRegression gives R2_score of   :  \",r2score)\n",
    "print(\"\\n\")\n",
    "\n",
    "print(\"KNeighborsRegressor gives R2_score of  :  \",r2knnsc)\n",
    "print(\"\\n\")\n",
    "\n",
    "print(\"DecisionTreeRegressor gives R2_score of  :  \",r2score_dt_sc)\n"
   ]
  },
  {
   "cell_type": "code",
   "execution_count": 178,
   "id": "295ea191",
   "metadata": {},
   "outputs": [],
   "source": [
    "from sklearn.metrics import mean_absolute_error,mean_squared_error"
   ]
  },
  {
   "cell_type": "code",
   "execution_count": 179,
   "id": "1826f548",
   "metadata": {},
   "outputs": [
    {
     "name": "stdout",
     "output_type": "stream",
     "text": [
      "mean_abslute_error: 161071.02734048472\n",
      "mean_squared_error: 42538759337.76811\n",
      "m2_squered_erroe: 206249.2650599466\n"
     ]
    }
   ],
   "source": [
    "print(\"mean_abslute_error:\",mean_absolute_error(y_test,y_pred_gbrsc))\n",
    "print(\"mean_squared_error:\",mean_squared_error(y_test,y_pred_gbrsc))\n",
    "print(\"m2_squered_erroe:\",np.sqrt(mean_squared_error(y_test,y_pred_gbrsc)))"
   ]
  },
  {
   "cell_type": "code",
   "execution_count": 186,
   "id": "3331c8e7",
   "metadata": {},
   "outputs": [
    {
     "data": {
      "text/plain": [
       "<AxesSubplot:>"
      ]
     },
     "execution_count": 186,
     "metadata": {},
     "output_type": "execute_result"
    },
    {
     "data": {
      "image/png": "[encoded data removed]",
      "text/plain": [
       "<Figure size 1108.8x468 with 1 Axes>"
      ]
     },
     "metadata": {},
     "output_type": "display_data"
    }
   ],
   "source": [
    "scores_dict={\"GradientBoostingRegressor\":r2_score_gb_sc,\"XGBRegressor gives\":r2_score_xg,\"RandomForestRegressor\":R2_score_rf_sc,\"LinearRegression\":r2score,\"KNeighborsRegressor\":r2knnsc,\"DecisionTreeRegressor\":r2score_dt_sc}\n",
    "algo_name = list(scores_dict.keys())\n",
    "accuracy_list = list(scores_dict.values())\n",
    "\n",
    "sns.set(rc={'figure.figsize':(15.4,6.5)})\n",
    "sns.barplot(x=algo_name,y=accuracy_list)"
   ]
  },
  {
   "cell_type": "code",
   "execution_count": 187,
   "id": "b528a3ac",
   "metadata": {},
   "outputs": [],
   "source": [
    "import joblib"
   ]
  },
  {
   "cell_type": "code",
   "execution_count": 195,
   "id": "5ce9c1f6",
   "metadata": {},
   "outputs": [
    {
     "data": {
      "text/plain": [
       "['D:\\\\chennai house price\\\\gredient_model.sav']"
      ]
     },
     "execution_count": 195,
     "metadata": {},
     "output_type": "execute_result"
    }
   ],
   "source": [
    "joblib.dump(gbr,'D:\\chennai house price\\model\\gredient_model.sav')"
   ]
  },
  {
   "cell_type": "code",
   "execution_count": null,
   "id": "10acd39c",
   "metadata": {},
   "outputs": [],
   "source": [
    "\n"
   ]
  },
  {
   "cell_type": "code",
   "execution_count": null,
   "id": "40b568b9",
   "metadata": {},
   "outputs": [],
   "source": []
  }
 ],
 "metadata": {
  "kernelspec": {
   "display_name": "Python 3 (ipykernel)",
   "language": "python",
   "name": "python3"
  },
  "language_info": {
   "codemirror_mode": {
    "name": "ipython",
    "version": 3
   },
   "file_extension": ".py",
   "mimetype": "text/x-python",
   "name": "python",
   "nbconvert_exporter": "python",
   "pygments_lexer": "ipython3",
   "version": "3.10.4"
  }
 },
 "nbformat": 4,
 "nbformat_minor": 5
}
